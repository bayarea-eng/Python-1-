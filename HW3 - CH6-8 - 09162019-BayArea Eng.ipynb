{
 "cells": [
  {
   "cell_type": "markdown",
   "metadata": {},
   "source": [
    "This work is licensed under the Creative Commons Attribution-NonCommercial 3.0 Unported License. To view a copy of this license, visit http://creativecommons.org/licenses/by-nc/3.0/ or send a letter to Creative Commons, PO Box 1866, Mountain View, CA 94042, USA."
   ]
  },
  {
   "cell_type": "markdown",
   "metadata": {},
   "source": [
    "### 6.10 Glossary\n",
    "\n",
    "__temporary variable:__ A variable used to store an intermediate value in a complex calculation.\n",
    "dead code: Part of a program that can never run, often because it appears after a return\n",
    "statement.\n",
    "\n",
    "__incremental development:__ A program development plan intended to avoid debugging by\n",
    "adding and testing only a small amount of code at a time.\n",
    "\n",
    "__scaffolding:__ Code that is used during program development but is not part of the final\n",
    "version.\n",
    "\n",
    "__guardian:__ A programming pattern that uses a conditional statement to check for and handle\n",
    "circumstances that might cause an error.\n",
    "\n",
    "\n",
    "### 6.11 Exercises\n",
    "#### Exercise 6.1. \n",
    "Draw a stack diagram for the following program. What does the program print?"
   ]
  },
  {
   "cell_type": "code",
   "execution_count": 1,
   "metadata": {
    "scrolled": false
   },
   "outputs": [
    {
     "name": "stdout",
     "output_type": "stream",
     "text": [
      "9 90\n",
      "8100\n"
     ]
    }
   ],
   "source": [
    "def b(z):\n",
    "    prod = a(z, z)\n",
    "    print(z, prod)\n",
    "    return prod\n",
    "\n",
    "def a(x, y):\n",
    "    x = x + 1\n",
    "    return x * y\n",
    "\n",
    "def c(x, y, z):\n",
    "    total = x + y + z\n",
    "    square = b(total)**2\n",
    "    return square\n",
    "\n",
    "x = 1\n",
    "y = x + 1\n",
    "print(c(x, y+3, x+y))"
   ]
  },
  {
   "cell_type": "markdown",
   "metadata": {},
   "source": [
    "\"\"\"\n",
    "DO NOT RUN THIS CELL\n",
    "FORMATTING ISSUES - CHECK WITH HAI\n",
    "#Solution: Stack Diagram\n",
    ">**__main__                                                              # Main program starts\n",
    ">x --> 1 and y --> 2 (=x+1)\n",
    ">>calls printing of function c(1,5,3) where fn(c) = x+y+z --> total # Fn c starts\n",
    ">>total --> (1+5+3=) 9                                              # c=x+y+z\n",
    ">>square calls function b(total=9)                                  # b(c)\n",
    ">>>        b(9) calls function a(9,9) and assigns it to prod            # Fn b starts\n",
    ">>>            In function a(9,9),                                      # Fn a starts\n",
    ">>>>                x --> x+1 --> 9+1 = 10; \n",
    ">>>>                returns x*y --> 9*10 = 90                           # Fn a ends\n",
    ">>>        prod --> 90\n",
    ">>>        output (9, 90)\n",
    ">>>        return 90                                                    # Fn b ends\n",
    ">>    square --> 90 to the power 2 = 8100\n",
    ">>    return 8100                                                       # Fn c ends\n",
    ">output 8100 (or print)                                                 # Main program ends\n",
    "\"\"\"\n",
    "#Completed"
   ]
  },
  {
   "cell_type": "markdown",
   "metadata": {},
   "source": [
    "\"\"\" TEST - DO NOT RUN CELL\n",
    "\n",
    "#Solution: Stack Diagram\n",
    "__main__                                                                # Main program starts\n",
    "    x --> 1 and y --> 2 (=x+1)\n",
    "    calls printing of function c(1,5,3) where fn(c) = x+y+z --> total   # Function c starts\n",
    "    total --> (1+5+3=) 9\n",
    "    square calls function b(total=9) and squares it\n",
    "        b(9) calls function a(9,9) and assigns it to prod               # Function b starts\n",
    "            In function a(9,9),                                         # Function a starts\n",
    "                x --> x+1 --> 9+1 = 10; \n",
    "                returns x*y --> 9*10 = 90                               # Function a ends\n",
    "        prod --> 90\n",
    "        output (9, 90)\n",
    "        return 90                                                       # Function b ends\n",
    "    square --> 90**2 = 8100\n",
    "    return 8100                                                         # Function c ends\n",
    "output 8100 (or print)                                                  # Main program ends\n",
    "\"\"\"\n",
    "#Completed"
   ]
  },
  {
   "cell_type": "code",
   "execution_count": 64,
   "metadata": {},
   "outputs": [],
   "source": [
    " \n",
    "# Solution: Stack Diagram - COMPLETED\n",
    "# __main__                                                                # Main program starts\n",
    "#     x --> 1 and y --> 2 (=x+1)\n",
    "#     calls printing of function c(1,5,3) where fn(c) = x+y+z --> total   # Function c starts\n",
    "#     total --> (1+5+3=) 9\n",
    "#     square calls function b(total=9) and squares it\n",
    "#         b(9) calls function a(9,9) and assigns it to prod               # Function b starts\n",
    "#             In function a(9,9),                                         # Function a starts\n",
    "#                 x --> x+1 --> 9+1 = 10; \n",
    "#                 returns x*y --> 9*10 = 90                               # Function a ends\n",
    "#         prod --> 90\n",
    "#         output (9, 90)\n",
    "#         return 90                                                       # Function b ends\n",
    "#     square --> 90**2 = 8100\n",
    "#     return 8100                                                         # Function c ends\n",
    "# output 8100 (or print)                                                  # Main program ends\n",
    "# \n"
   ]
  },
  {
   "cell_type": "markdown",
   "metadata": {},
   "source": [
    "#### Exercise 6.2. \n",
    "The Ackermann function, A(m, n), is defined:\n",
    "\n",
    "<table style=\"width:70%; border-style:solid;\"> \n",
    "    <tr><td>A(m, n) = </td> <td>n + 1</td> <td>if m = 0</td>  </tr>\n",
    "    <tr><td></td> <td>A(m - 1, 1)</td> <td>if m > 0 and n = 0</td>  </tr>\n",
    "    <tr><td></td> <td>A(m - 1, A(m, n - 1))</td> <td>m > 0 and n > 0</td>  </tr></table></p>\n",
    "                  \n",
    "See http://en.wikipedia.org/wiki/Ackermann_function . Write a function named ack\n",
    "that evaluates the Ackermann function. Use your function to evaluate ack(3, 4), which should be 125. What happens for larger values of m and n? \n",
    "\n",
    "Solution: http://thinkpython2.com/code/ackermann.py ."
   ]
  },
  {
   "cell_type": "code",
   "execution_count": 40,
   "metadata": {
    "scrolled": false
   },
   "outputs": [
    {
     "data": {
      "text/plain": [
       "125"
      ]
     },
     "execution_count": 40,
     "metadata": {},
     "output_type": "execute_result"
    }
   ],
   "source": [
    "# My Solution - COMPLETED\n",
    "\n",
    "def ackermann(a,b):\n",
    "    if a == 0:\n",
    "#        print(a,b)\n",
    "        return b+1\n",
    "    if b == 0:\n",
    "        a = a-1\n",
    "#        print(a,b)\n",
    "        return ackermann(a, 1)\n",
    "    return ackermann(a-1, ackermann(a,b-1))\n",
    "#    else:\n",
    "#        a = a-1\n",
    "#        b = b-1\n",
    "#        print(a,b)\n",
    "#        return ackermann(a,b)\n",
    "\n",
    "ackermann(3,4)\n",
    "        "
   ]
  },
  {
   "cell_type": "code",
   "execution_count": 3,
   "metadata": {},
   "outputs": [
    {
     "name": "stdout",
     "output_type": "stream",
     "text": [
      "125\n"
     ]
    }
   ],
   "source": [
    "# Solution From Link\n",
    "def ackermann(m, n):\n",
    "    \"\"\"Computes the Ackermann function A(m, n)\n",
    "\n",
    "    See http://en.wikipedia.org/wiki/Ackermann_function\n",
    "\n",
    "    n, m: non-negative integers\n",
    "    \"\"\"\n",
    "    if m == 0:\n",
    "        return n+1\n",
    "    if n == 0:\n",
    "        return ackermann(m-1, 1)\n",
    "    return ackermann(m-1, ackermann(m, n-1))\n",
    "\n",
    "\n",
    "print(ackermann(3, 4))"
   ]
  },
  {
   "cell_type": "markdown",
   "metadata": {},
   "source": [
    "#### Exercise 6.3. \n",
    "A palindrome is a word that is spelled the same backward and forward, like “noon”\n",
    "and “redivider”. Recursively, a word is a palindrome if the first and last letters are the same and the\n",
    "middle is a palindrome.\n",
    "\n",
    "The following are functions that take a string argument and return the first, last, and middle letters:"
   ]
  },
  {
   "cell_type": "code",
   "execution_count": 4,
   "metadata": {
    "scrolled": false
   },
   "outputs": [
    {
     "data": {
      "text/plain": [
       "''"
      ]
     },
     "execution_count": 4,
     "metadata": {},
     "output_type": "execute_result"
    }
   ],
   "source": [
    "def first(word):\n",
    "    return word[0]\n",
    "\n",
    "def last(word):\n",
    "    return word[-1]\n",
    "\n",
    "def middle(word):\n",
    "    return word[1:-1]\n",
    "\n",
    "middle('')"
   ]
  },
  {
   "cell_type": "code",
   "execution_count": 42,
   "metadata": {
    "scrolled": true
   },
   "outputs": [
    {
     "name": "stdout",
     "output_type": "stream",
     "text": [
      "9\n",
      "Word nooxyxoon is a palindrome with ODD number of characters\n"
     ]
    }
   ],
   "source": [
    "# SOLUTION WITH COMPLETED WITH Odd or even letters and single word. Fix '' to be put in place\n",
    "    \n",
    "def check_f_l(word, n, f, l):\n",
    "    first=word[f]\n",
    "    last=word[l]\n",
    "#    print(first, last, n, f, l, word)\n",
    "    if (n == 1) and (word != ''):\n",
    "        print(\"Word {0} is a palindrome with {1} number of character\".format(word,n))\n",
    "#    if (n == 1) and (word == ''):\n",
    "#        print(\"Word {0} is a NULL with NO character\".format(word))\n",
    "    else:\n",
    "        while (n >= 0):\n",
    "            if (first != last):\n",
    "                print(first, last, \"Ouch!\")\n",
    "                print(\"Word {0} is not a palindrome\".format(word))\n",
    "                break\n",
    "            while (first == last):\n",
    "#            print(first, last, n, f, l)\n",
    "                n = n-2\n",
    "                f = f+1\n",
    "                l = l-1\n",
    "                first=word[f]\n",
    "                last=word[l]\n",
    "#            print(first, last, n, f, l)\n",
    "                if(n == 0):\n",
    "                    print(\"Word {0} is a palindrome with EVEN number of characters\".format(word))\n",
    "                if(n == 1):\n",
    "                    print(\"Word {0} is a palindrome with ODD number of characters\".format(word))\n",
    "                break\n",
    "               \n",
    "def is_palindrome(word):\n",
    "    n = len(word)\n",
    "    print(n)\n",
    "#    if (n == 1) and (word == ''):\n",
    "#        print(\"Word {0} is a NULL with NO character\".format(word))\n",
    "#    break\n",
    "    f=int(0)\n",
    "    l=int(-1)\n",
    "    check_f_l(word,n,f,l)\n",
    "            \n",
    "is_palindrome('nooxyxoon')"
   ]
  },
  {
   "cell_type": "markdown",
   "metadata": {},
   "source": [
    "We’ll see how they work in Chapter 8.\n",
    "\n",
    "1. Test the functions in the cell above. What happens if\n",
    "you call middle with a string with two letters? One letter? What about the empty string,\n",
    "which is written '' and contains no letters?<br><br>\n",
    "\n",
    "2. Write a function called is_palindrome that takes a string argument and returns True if it\n",
    "is a palindrome and False otherwise. Remember that you can use the built-in function len\n",
    "to check the length of a string.\n",
    "\n",
    "Solution: http://thinkpython2.com/code/palindrome_soln.py ."
   ]
  },
  {
   "cell_type": "markdown",
   "metadata": {},
   "source": [
    "#### Exercise 6.4. \n",
    "A number, a, is a power of b if it is divisible by b and a/b is a power of b. Write a\n",
    "function called is_power that takes parameters a and b and returns True if a is a power of b. Note:\n",
    "you will have to think about the base case."
   ]
  },
  {
   "cell_type": "code",
   "execution_count": 7,
   "metadata": {
    "scrolled": true
   },
   "outputs": [
    {
     "name": "stdout",
     "output_type": "stream",
     "text": [
      "returned value is  True\n"
     ]
    }
   ],
   "source": [
    "#COMPLETED\n",
    "def is_divisible(a,b):\n",
    "    if (a%b == 0):\n",
    "        return True\n",
    "    else:\n",
    "        return False\n",
    "    \n",
    "def is_power(a,b):\n",
    "        x=is_divisible(a,b)\n",
    "        print(\"returned value is \", x)\n",
    "\n",
    "is_power(27,3)"
   ]
  },
  {
   "cell_type": "code",
   "execution_count": 8,
   "metadata": {
    "scrolled": true
   },
   "outputs": [
    {
     "name": "stdout",
     "output_type": "stream",
     "text": [
      "12 3\n",
      "after div 4 3\n",
      "FALSE, a is NOT a power of b\n"
     ]
    }
   ],
   "source": [
    "# COMPLETED\n",
    "\n",
    "def is_divisible(a,b):\n",
    "    if (a%b == 0):\n",
    "        return True\n",
    "    else:\n",
    "        return False\n",
    "    \n",
    "def print_true():\n",
    "    print(\"TRUE, a is a power of b\")\n",
    "\n",
    "def print_false():\n",
    "    print(\"FALSE, a is NOT a power of b\")\n",
    "    \n",
    "def is_power(a,b):\n",
    "    if(is_divisible(a,b) == False):\n",
    "        print_false()\n",
    "    while(is_divisible(a,b) == True):\n",
    "        print(a,b)\n",
    "        a=a//b\n",
    "        print(\"after div\", a,b)\n",
    "        if(a == 1):\n",
    "            print_true()\n",
    "        if(a%b != 0) and ( a != 1):\n",
    "            print_false()     \n",
    "\n",
    "is_power(12,3)"
   ]
  },
  {
   "cell_type": "code",
   "execution_count": 9,
   "metadata": {
    "scrolled": true
   },
   "outputs": [
    {
     "name": "stdout",
     "output_type": "stream",
     "text": [
      "256 2\n",
      "after div 128 2\n",
      "128 2\n",
      "after div 64 2\n",
      "64 2\n",
      "after div 32 2\n",
      "32 2\n",
      "after div 16 2\n",
      "16 2\n",
      "after div 8 2\n",
      "8 2\n",
      "after div 4 2\n",
      "4 2\n",
      "after div 2 2\n",
      "2 2\n",
      "after div 1 2\n",
      "TRUE, a is a power of b\n"
     ]
    }
   ],
   "source": [
    "# FINAL SOLUTION\n",
    "\n",
    "def is_divisible(a,b):\n",
    "    if (a%b == 0):\n",
    "        return True\n",
    "    else:\n",
    "        return False\n",
    "    \n",
    "def print_true():\n",
    "    print(\"TRUE, a is a power of b\")\n",
    "\n",
    "def print_false():\n",
    "    print(\"FALSE, a is NOT a power of b\")\n",
    "    \n",
    "def is_power(a,b):\n",
    "\n",
    "    while(is_divisible(a,b)):\n",
    "        print(a,b)\n",
    "        a=a//b\n",
    "        print(\"after div\", a,b)\n",
    "        if(a == 1):\n",
    "            print_true()\n",
    "        if(a%b != 0) and ( a != 1):\n",
    "            print_false()     \n",
    "\n",
    "is_power(256, 2)"
   ]
  },
  {
   "cell_type": "markdown",
   "metadata": {},
   "source": [
    "#### Exercise 6.5. \n",
    "The greatest common divisor (GCD) of a and b is the largest number that divides\n",
    "both of them with no remainder.\n",
    "\n",
    "One way to find the GCD of two numbers is based on the observation that if r is the remainder when\n",
    "a is divided by b, then gcd(a, b) = gcd(b, r). As a base case, we can use gcd(a, 0) = a.\n",
    "\n",
    "Write a function called gcd that takes parameters a and b and returns their greatest common divisor.\n",
    "\n",
    "Credit: This exercise is based on an example from Abelson and Sussman’s Structure and Interpretation\n",
    "of Computer Programs."
   ]
  },
  {
   "cell_type": "code",
   "execution_count": 10,
   "metadata": {},
   "outputs": [
    {
     "name": "stdout",
     "output_type": "stream",
     "text": [
      "One of the numbers is a prime number, hence GCD is 1\n"
     ]
    }
   ],
   "source": [
    "#  FINAL SOLUTION (NOT)\n",
    "# prime function\n",
    "# Iterate from 2 to n / 2  \n",
    "# If num is divisible by any number between  \n",
    "# 2 and n / 2, it is not prime\n",
    "\n",
    "#            print(n, \"is not a prime number\") \n",
    "#            print(n, \"is a prime number\") \n",
    "#    else: \n",
    "#        print(n, \"is not a prime number\") \n",
    "\n",
    "def is_prime(n):\n",
    "    if n > 1:\n",
    "        for i in range(2, n//2):     \n",
    "            if (n % i) == 0:\n",
    "                return False\n",
    "            else:\n",
    "                return True\n",
    "\n",
    "def gcd(a,b):\n",
    "    if ((is_prime(a)==True) or (is_prime(b)==True)):\n",
    "        print(\"One of the numbers is a prime number, hence GCD is 1\")\n",
    "\n",
    "gcd(9,3)"
   ]
  },
  {
   "cell_type": "code",
   "execution_count": 11,
   "metadata": {},
   "outputs": [
    {
     "name": "stdout",
     "output_type": "stream",
     "text": [
      "0\n",
      "GCD of a=256 and b=32 is 32\n"
     ]
    }
   ],
   "source": [
    "# FINAL SOLUTION - NOT COMPLETE\n",
    "\n",
    "def gcd(a,b):\n",
    "    r = a%b\n",
    "    print(r)\n",
    "    if r == 0:\n",
    "        print(\"GCD of a={0} and b={1} is {2}\".format(a,b,b))\n",
    "    else:\n",
    "        while(r != 0):\n",
    "            a=b\n",
    "            b=r\n",
    "            print(a,b)\n",
    "            gcd(a,b)\n",
    "            \n",
    "gcd(256,32)\n",
    "        "
   ]
  },
  {
   "cell_type": "markdown",
   "metadata": {},
   "source": [
    "\n",
    "### 7.9 Exercises\n",
    "\n",
    "#### Exercise 7.1. \n",
    "Copy the loop from Section 7.5 and encapsulate it in a function called mysqrt that\n",
    "takes a as a parameter, chooses a reasonable value of x, and returns an estimate of the square root of\n",
    "a.\n",
    "\n",
    "To test it, write a function named test_square_root that prints a table like this:\n",
    "<table> <tr> <th>a</th> <th>mysqrt(a)</th> <th>math.sqrt(a)</th> <th>diff</th> </tr>\n",
    "    <tr> <td>1.0</td> <td>1.0</td> <td>1.0</td> <td>0.0</td> </tr>\n",
    "    <tr> <td>2.0</td> <td>1.41421356237</td> <td>1.41421356237</td> <td>2.22044604925e-16</td> </tr>\n",
    "    <tr> <td>3.0</td> <td>1.73205080757</td> <td>1.73205080757</td> <td>0.0</td> </tr>\n",
    "    <tr> <td>4.0</td> <td>2.0</td> <td>2.0 </td> <td>0.0</td> </tr>\n",
    "    <tr> <td>5.0</td> <td>2.2360679775</td> <td>2.2360679775</td> <td>0.0</td> </tr>\n",
    "    <tr> <td>6.0</td> <td>2.44948974278</td> <td>2.44948974278</td> <td>0.0</td> </tr>\n",
    "    <tr> <td>7.0</td> <td>2.64575131106</td> <td>2.64575131106</td> <td>0.0</td> </tr>\n",
    "    <tr> <td>8.0</td> <td>2.82842712475</td> <td>2.82842712475</td> <td>4.4408920985e-16</td> </tr>\n",
    "    <tr> <td>9.0</td> <td>3.0</td> <td>3.0</td> <td>0.0</td> </tr> </table>\n",
    "\n",
    "The first column is a number, a; the second column is the square root of a computed with mysqrt;\n",
    "the third column is the square root computed by math.sqrt; the fourth column is the absolute value\n",
    "of the difference between the two estimates."
   ]
  },
  {
   "cell_type": "code",
   "execution_count": 39,
   "metadata": {},
   "outputs": [
    {
     "name": "stdout",
     "output_type": "stream",
     "text": [
      "1\n",
      "1.5\n",
      "1.4166666666666665\n",
      "1.4142156862745097\n",
      "1.4142135623746899\n"
     ]
    }
   ],
   "source": [
    "# Copied from Section 7.5 below:\n",
    "\n",
    "a = 2\n",
    "x = 1\n",
    "epsilon = 0.0000001\n",
    "\n",
    "while True:\n",
    "    print(x)\n",
    "    y = (x + a/x) / 2\n",
    "    if abs(y-x) < epsilon:\n",
    "        break    \n",
    "    x = y"
   ]
  },
  {
   "cell_type": "code",
   "execution_count": 44,
   "metadata": {},
   "outputs": [
    {
     "name": "stdout",
     "output_type": "stream",
     "text": [
      "a ('          ', 'my_sqrt(a)') ('        ', 'math_sqrt(a)') diff\n",
      "1 ('                   ', '1') ('                 ', '1.0') 0.0\n",
      "2 ('  ', '1.4142135623746899') ('  ', '1.4142135623730951') 1.5947243525715749e-12\n",
      "3 ('  ', '1.7320508100147274') ('  ', '1.7320508075688772') 2.44585018904786e-09\n",
      "4 ('  ', '2.0000000929222947') ('                 ', '2.0') 9.2922294747666e-08\n",
      "5 ('   ', '2.236067977499978') ('    ', '2.23606797749979') 1.8829382497642655e-13\n",
      "6 ('  ', '2.4494897427875517') ('   ', '2.449489742783178') 4.373834627813267e-12\n",
      "7 ('  ', '2.6457513111113693') ('  ', '2.6457513110645907') 4.6778581008766196e-11\n",
      "8 ('  ', '2.8284271250498643') ('  ', '2.8284271247461903') 3.0367397485520087e-10\n",
      "9 ('   ', '3.000000001396984') ('                 ', '3.0') 1.3969838619232178e-09\n"
     ]
    }
   ],
   "source": [
    "# 7.1 SOLTUTION COMPLETED\n",
    "\n",
    "import math\n",
    "\n",
    "def my_sqrt(a,x):\n",
    "    while True:\n",
    "#        print(a, x)\n",
    "        y = (x + a/x) / 2\n",
    "        if abs(y-x) < epsilon:\n",
    "            break    \n",
    "        x = y\n",
    "    return x\n",
    "\n",
    "def get_diff(math_sqrt,my):\n",
    "    diff=math_sqrt-my\n",
    "    if abs(diff) < delta:\n",
    "        return 0\n",
    "    else:\n",
    "        return diff\n",
    "\n",
    "def right_justify(s):\n",
    "    Length=len(s)\n",
    "    NumSpaces=20-Length\n",
    "#    print(NumSpaces)\n",
    "    FinalString=(' '*NumSpaces,s)\n",
    "    return FinalString\n",
    "\n",
    "#right_justify('Bayarea')\n",
    "\n",
    "def test_sqrt():\n",
    "    x=1\n",
    "    for a in range(1,10):\n",
    "        my = my_sqrt(a,x)\n",
    "        my_fix = right_justify(str(my))\n",
    "        math_sqrt = math.sqrt(a)\n",
    "        math_sqrt_fix = right_justify(str(math_sqrt))\n",
    "#        my_diff = get_diff(math_sqrt,my)\n",
    "        my_diff= abs(math_sqrt - my)\n",
    "        print(a, my_fix, math_sqrt_fix, my_diff)\n",
    "\n",
    "epsilon = 0.0000001\n",
    "delta = 1e-15\n",
    "a='my_sqrt(a)'\n",
    "b='math_sqrt(a)'\n",
    "c='diff'\n",
    "a_fix=right_justify(a)\n",
    "b_fix=right_justify(b)\n",
    "\n",
    "print(\"a\", a_fix, b_fix, c)\n",
    "test_sqrt()"
   ]
  },
  {
   "cell_type": "markdown",
   "metadata": {},
   "source": [
    "#### Exercise 7.2. \n",
    "The built-in function eval takes a string and evaluates it using the Python interpreter.\n",
    "For example:"
   ]
  },
  {
   "cell_type": "code",
   "execution_count": 13,
   "metadata": {},
   "outputs": [
    {
     "data": {
      "text/plain": [
       "7"
      ]
     },
     "execution_count": 13,
     "metadata": {},
     "output_type": "execute_result"
    }
   ],
   "source": [
    "eval('1 + 2 * 3')"
   ]
  },
  {
   "cell_type": "code",
   "execution_count": 14,
   "metadata": {},
   "outputs": [
    {
     "data": {
      "text/plain": [
       "2.23606797749979"
      ]
     },
     "execution_count": 14,
     "metadata": {},
     "output_type": "execute_result"
    }
   ],
   "source": [
    "import math\n",
    "eval('math.sqrt(5)')"
   ]
  },
  {
   "cell_type": "code",
   "execution_count": 15,
   "metadata": {},
   "outputs": [
    {
     "data": {
      "text/plain": [
       "float"
      ]
     },
     "execution_count": 15,
     "metadata": {},
     "output_type": "execute_result"
    }
   ],
   "source": [
    "eval('type(math.pi)')"
   ]
  },
  {
   "cell_type": "markdown",
   "metadata": {},
   "source": [
    "Write a function called eval_loop that iteratively prompts the user, takes the resulting input and\n",
    "evaluates it using eval, and prints the result.\n",
    "It should continue until the user enters 'done', and then return the value of the last expression it\n",
    "evaluated."
   ]
  },
  {
   "cell_type": "code",
   "execution_count": 16,
   "metadata": {},
   "outputs": [
    {
     "name": "stdout",
     "output_type": "stream",
     "text": [
      "1\n",
      "2\n",
      "3\n",
      "done\n",
      "Result is  5\n"
     ]
    }
   ],
   "source": [
    "# SOLUTION: COMPLETED\n",
    "there_is_input = True\n",
    "\n",
    "int(x)\n",
    "a=b=c=x=0\n",
    "\n",
    "while (there_is_input):\n",
    "    I=input()\n",
    "    if (I.isdigit()):\n",
    "        a,b,c = I,a,b\n",
    "        a1=int(a)\n",
    "        b1=int(b)\n",
    "        c1=int(c)\n",
    "        x=eval('a1+b1*c1')\n",
    "    if (I.isalpha()):\n",
    "        if (I != 'done'):\n",
    "            print(\"Invalid string\")\n",
    "        if(I == 'done'):\n",
    "            print(\"Result is \", x)\n",
    "            break"
   ]
  },
  {
   "cell_type": "code",
   "execution_count": 17,
   "metadata": {},
   "outputs": [
    {
     "name": "stdout",
     "output_type": "stream",
     "text": [
      "1\n",
      "I am int\n",
      "1 0 0 0\n",
      "1 0 0\n",
      "exit loop)\n",
      "2\n",
      "I am int\n",
      "2 1 0 0\n",
      "2 1 0\n",
      "exit loop)\n",
      "3\n",
      "I am int\n",
      "3 2 1 0\n",
      "3 2 1\n",
      "exit loop)\n",
      "4\n",
      "I am int\n",
      "4 3 2 1\n",
      "4 3 2\n",
      "exit loop)\n",
      "5\n",
      "I am int\n",
      "5 4 3 2\n",
      "5 4 3\n",
      "exit loop)\n",
      "6\n",
      "I am int\n",
      "6 5 4 3\n",
      "6 5 4\n",
      "exit loop)\n",
      "done\n",
      "done 6 5 4\n",
      "I am str\n",
      "6 5 4\n",
      "<class 'str'>\n",
      "<class 'str'>\n",
      "<class 'str'>\n",
      "<class 'int'>\n",
      "<class 'str'>\n",
      "<class 'int'>\n",
      "<class 'int'>\n",
      "<class 'int'>\n",
      "<class 'int'>\n",
      "26\n"
     ]
    }
   ],
   "source": [
    "# LONG SOLUTION COMPLETED\n",
    "\n",
    "there_is_input = True\n",
    "\n",
    "a=b=c=x=0\n",
    "\n",
    "#int(a)\n",
    "#int(b)\n",
    "#int(c)\n",
    "#int(x)\n",
    "\n",
    "while (there_is_input):\n",
    "    I=input()\n",
    "    if (I.isdigit()):\n",
    "        int(I)\n",
    "        print('I am int')\n",
    "        print(I,a,b,c)\n",
    "        a,b,c = I,a,b\n",
    "        print(a,b,c)\n",
    "        print('exit loop)')\n",
    "    if (I.isalpha()):\n",
    "        print(I,a,b,c)\n",
    "        print('I am str')\n",
    "        print(a,b,c)\n",
    "        print(type(a))\n",
    "        print(type(b))\n",
    "        print(type(c))\n",
    "        print(type(x))\n",
    "        print(type(I))\n",
    "        a1=int(a)\n",
    "        b1=int(b)\n",
    "        c1=int(c)\n",
    "        int(x)\n",
    "        print(type(a1))\n",
    "        print(type(b1))\n",
    "        print(type(c1))\n",
    "        print(type(x))\n",
    "        if (I != 'done'):\n",
    "            print(\"Invalid string\")\n",
    "        if(I == 'done'):\n",
    "            x=a1+b1*c1\n",
    "            print(x)\n",
    "            break"
   ]
  },
  {
   "cell_type": "markdown",
   "metadata": {},
   "source": [
    "#### Exercise 7.3. \n",
    "The mathematician Srinivasa Ramanujan found an infinite series that can be used to\n",
    "generate a numerical approximation of 1/p:\n",
    "\n",
    "$$\\frac{1}{n} = \\frac{2\\sqrt{2}}{9801}\\sum_{k=0}^{\\infty }\\frac{(4k)!(1103 + 26390k)}{(k!)^{4}396^{4k}}$$\n",
    "\n",
    "Write a function called estimate_pi that uses this formula to compute and return an estimate of\n",
    "p. It should use a while loop to compute terms of the summation until the last term is smaller than\n",
    "1e-15 (which is Python notation for $10^{15}$). You can check the result by comparing it to math.pi.\n",
    "Solution: http://thinkpython2.com/code/pi.py ."
   ]
  },
  {
   "cell_type": "code",
   "execution_count": 55,
   "metadata": {},
   "outputs": [
    {
     "name": "stdout",
     "output_type": "stream",
     "text": [
      "3.141592653589793\n"
     ]
    }
   ],
   "source": [
    "# 7.3 MY SOLUTION COMPLETED\n",
    "\n",
    "import math\n",
    "\n",
    "c = eval('((2*math.sqrt(2)) / 9801)')\n",
    "diff = 1e-15\n",
    "\n",
    "def factorial(n):\n",
    "    num=n\n",
    "    fact=n-n+1\n",
    "#    print(num, fact)\n",
    "    while(n>=1):\n",
    "        fact=fact*n\n",
    "        n = n-1\n",
    "        if (n == 1):\n",
    "#            print(\"Factorial of n \", num, \"is \",fact)\n",
    "            return fact\n",
    "    if(n==0):\n",
    "        return 1\n",
    "    \n",
    "def find_sum(k):\n",
    "    c = eval('((2*math.sqrt(2)) / 9801)')\n",
    "    x1=eval('1103 + (26390 * k)')\n",
    "    y1=factorial(4*k)\n",
    "    a=factorial(k)\n",
    "    a1=a**4\n",
    "    b1=396**(4*k)\n",
    "    z=(c * (x1 * y1) / (a1 * b1))\n",
    "    tot += z\n",
    "    print(c,x1,y1,a1,b1,z)\n",
    "    return z\n",
    "    \n",
    "# factorial(6)\n",
    "# cur = find_sum(0)\n",
    "# print(cur)\n",
    "\n",
    "k=0\n",
    "prev=0\n",
    "\n",
    "def estimate_pi():\n",
    "    k=0\n",
    "    tot=0\n",
    "    prev=0\n",
    "    while True:\n",
    "        c = eval('((2*math.sqrt(2)) / 9801)')\n",
    "        x1=eval('1103 + (26390 * k)')\n",
    "        y1=factorial(4*k)\n",
    "        a=factorial(k)\n",
    "        a1=a**4\n",
    "        b1=396**(4*k)\n",
    "        z=(c * (x1 * y1) / (a1 * b1))\n",
    "        tot += z\n",
    "#        print(z, tot)\n",
    "        if abs(z) <= diff:\n",
    "            print(1/tot)\n",
    "            break\n",
    "        else:\n",
    "            k=k+1\n",
    "#            print(k, z, tot, 1/tot)\n",
    "\n",
    "estimate_pi()"
   ]
  },
  {
   "cell_type": "code",
   "execution_count": 19,
   "metadata": {
    "scrolled": true
   },
   "outputs": [
    {
     "name": "stdout",
     "output_type": "stream",
     "text": [
      "3.141592653589793\n"
     ]
    }
   ],
   "source": [
    "# SOLUTION - FROM LINK\n",
    "\n",
    "import math\n",
    "\n",
    "def factorial(n):\n",
    "    \"\"\"Computes factorial of n recursively.\"\"\"\n",
    "    if n == 0:\n",
    "        return 1\n",
    "    else:\n",
    "        recurse = factorial(n-1)\n",
    "        result = n * recurse\n",
    "        return result\n",
    "\n",
    "\n",
    "def estimate_pi():\n",
    "    \"\"\"Computes an estimate of pi.\n",
    "\n",
    "    Algorithm due to Srinivasa Ramanujan, from \n",
    "    http://en.wikipedia.org/wiki/Pi\n",
    "    \"\"\"\n",
    "    total = 0\n",
    "    k = 0\n",
    "    factor = 2 * math.sqrt(2) / 9801\n",
    "    while True:\n",
    "        num = factorial(4*k) * (1103 + 26390*k)\n",
    "        den = factorial(k)**4 * 396**(4*k)\n",
    "        term = factor * num / den\n",
    "        total += term\n",
    "        \n",
    "        if abs(term) < 1e-15:\n",
    "            break\n",
    "        k += 1\n",
    "\n",
    "    return 1 / total\n",
    "\n",
    "print(estimate_pi())"
   ]
  },
  {
   "cell_type": "code",
   "execution_count": null,
   "metadata": {},
   "outputs": [],
   "source": [
    "### CHAPTER 8"
   ]
  },
  {
   "cell_type": "code",
   "execution_count": 48,
   "metadata": {},
   "outputs": [
    {
     "data": {
      "text/plain": [
       "'\\n###\\n8.13 Exercises\\nExercise 8.1.\\nRead the documentation of the string methods at http://docs.python.org/3/library/stdtypes.html#string-methods . \\nYou might want to experiment with some of them in the next cell to make sure you understand how they work. strip and \\nreplace are particularly useful.\\n\\nThe documentation uses a syntax that might be confusing. For example, in find(sub[, start[, end]]), the brackets \\nindicate optional arguments. So sub is required, but start is optional, and if you include start, then end is optional.\\n###\\n'"
      ]
     },
     "execution_count": 48,
     "metadata": {},
     "output_type": "execute_result"
    }
   ],
   "source": [
    "\"\"\"\n",
    "###\n",
    "8.13 Exercises\n",
    "Exercise 8.1.\n",
    "Read the documentation of the string methods at http://docs.python.org/3/library/stdtypes.html#string-methods . \n",
    "You might want to experiment with some of them in the next cell to make sure you understand how they work. strip and \n",
    "replace are particularly useful.\n",
    "\n",
    "The documentation uses a syntax that might be confusing. For example, in find(sub[, start[, end]]), the brackets \n",
    "indicate optional arguments. So sub is required, but start is optional, and if you include start, then end is optional.\n",
    "###\n",
    "\"\"\""
   ]
  },
  {
   "cell_type": "code",
   "execution_count": 59,
   "metadata": {
    "scrolled": false
   },
   "outputs": [
    {
     "data": {
      "text/plain": [
       "'Shaila'"
      ]
     },
     "execution_count": 59,
     "metadata": {},
     "output_type": "execute_result"
    }
   ],
   "source": [
    "# PRACTICE from LINK ABOVE EXERCISE PRACTICE FOR 8.1 COMPLETED\n",
    "# Capitalize first letter\n",
    "x='shaila'\n",
    "str.capitalize(x)"
   ]
  },
  {
   "cell_type": "code",
   "execution_count": 58,
   "metadata": {},
   "outputs": [
    {
     "data": {
      "text/plain": [
       "'shaila'"
      ]
     },
     "execution_count": 58,
     "metadata": {},
     "output_type": "execute_result"
    }
   ],
   "source": [
    "# Casefolded strings may be used for caseless matching\n",
    "x='SHAILA'\n",
    "str.casefold(x)"
   ]
  },
  {
   "cell_type": "code",
   "execution_count": 64,
   "metadata": {
    "scrolled": true
   },
   "outputs": [
    {
     "data": {
      "text/plain": [
       "'yyyshailayy'"
      ]
     },
     "execution_count": 64,
     "metadata": {},
     "output_type": "execute_result"
    }
   ],
   "source": [
    "# return centered string\n",
    "x='shaila'\n",
    "x.center(11, 'y')"
   ]
  },
  {
   "cell_type": "code",
   "execution_count": 77,
   "metadata": {
    "scrolled": false
   },
   "outputs": [
    {
     "data": {
      "text/plain": [
       "2"
      ]
     },
     "execution_count": 77,
     "metadata": {},
     "output_type": "execute_result"
    }
   ],
   "source": [
    "# return number of non-overlapping occurances of sub-string in range start,end\n",
    "x='shaila'\n",
    "x.count('la', 0, 10)\n",
    "x.count('a', 0, 10)"
   ]
  },
  {
   "cell_type": "code",
   "execution_count": 69,
   "metadata": {
    "scrolled": true
   },
   "outputs": [
    {
     "data": {
      "text/plain": [
       "'Shaila'"
      ]
     },
     "execution_count": 69,
     "metadata": {},
     "output_type": "execute_result"
    }
   ],
   "source": [
    "# also capitalizes first letter\n",
    "x='shaila'\n",
    "str.title(x)"
   ]
  },
  {
   "cell_type": "code",
   "execution_count": 73,
   "metadata": {},
   "outputs": [
    {
     "data": {
      "text/plain": [
       "False"
      ]
     },
     "execution_count": 73,
     "metadata": {},
     "output_type": "execute_result"
    }
   ],
   "source": [
    "# returns true if endswith is true or false\n",
    "x='shaila'\n",
    "str.endswith(x,'y')    # below also works\n",
    "x.endswith('y')"
   ]
  },
  {
   "cell_type": "code",
   "execution_count": 76,
   "metadata": {},
   "outputs": [
    {
     "data": {
      "text/plain": [
       "2"
      ]
     },
     "execution_count": 76,
     "metadata": {},
     "output_type": "execute_result"
    }
   ],
   "source": [
    "# also capitalizes first letter\n",
    "x='shaila'\n",
    "str.endswith(x,'y')    # below also works\n",
    "x.index('a')"
   ]
  },
  {
   "cell_type": "code",
   "execution_count": 82,
   "metadata": {},
   "outputs": [
    {
     "data": {
      "text/plain": [
       "4"
      ]
     },
     "execution_count": 82,
     "metadata": {},
     "output_type": "execute_result"
    }
   ],
   "source": [
    "# finds substring start,end\n",
    "x='shaila'\n",
    "x.find('la', 0, 10)                     # WHY DOES THIS SHOW 4\n",
    "#x.find('a', 0, 10)"
   ]
  },
  {
   "cell_type": "code",
   "execution_count": 85,
   "metadata": {
    "scrolled": true
   },
   "outputs": [
    {
     "data": {
      "text/plain": [
       "['sh', 'il', '']"
      ]
     },
     "execution_count": 85,
     "metadata": {},
     "output_type": "execute_result"
    }
   ],
   "source": [
    "x='shaila'\n",
    "x.split('a')"
   ]
  },
  {
   "cell_type": "code",
   "execution_count": null,
   "metadata": {
    "scrolled": false
   },
   "outputs": [],
   "source": [
    "\"\"\"\n",
    "###\n",
    "str.center(width[, fillchar])\n",
    "Return centered in a string of length width. Padding is done using the specified fillchar (default is an ASCII space). \n",
    "The original string is returned if width is less than or equal to len(s).\n",
    "\n",
    "str.count(sub[, start[, end]])\n",
    "Return the number of non-overlapping occurrences of substring sub in the range [start, end]. \n",
    "Optional arguments start and end are interpreted as in slice notation.\n",
    "\n",
    "str.encode(encoding=\"utf-8\", errors=\"strict\")\n",
    "Return an encoded version of the string as a bytes object. Default encoding is 'utf-8'. errors may be given to set a different error handling scheme. The default for errors is 'strict', meaning that encoding errors raise a UnicodeError. Other possible values are 'ignore', 'replace', 'xmlcharrefreplace', 'backslashreplace' and any other name registered via codecs.register_error(), see section Error Handlers. For a list of possible encodings, see section Standard Encodings.\n",
    "\n",
    "Changed in version 3.1: Support for keyword arguments added.\n",
    "\n",
    "str.endswith(suffix[, start[, end]])\n",
    "Return True if the string ends with the specified suffix, otherwise return False. \n",
    "suffix can also be a tuple of suffixes to look for. With optional start, test beginning at that position. \n",
    "With optional end, stop comparing at that position.\n",
    "\n",
    "str.expandtabs(tabsize=8)\n",
    "Return a copy of the string where all tab characters are replaced by one or more spaces, depending on the current column and the given tab size. Tab positions occur every tabsize characters (default is 8, giving tab positions at columns 0, 8, 16 and so on). To expand the string, the current column is set to zero and the string is examined character by character. If the character is a tab (\\t), one or more space characters are inserted in the result until the current column is equal to the next tab position. (The tab character itself is not copied.) If the character is a newline (\\n) or return (\\r), it is copied and the current column is reset to zero. Any other character is copied unchanged and the current column is incremented by one regardless of how the character is represented when printed.\n",
    "\n",
    ">>> '01\\t012\\t0123\\t01234'.expandtabs()\n",
    "'01      012     0123    01234'\n",
    ">>> '01\\t012\\t0123\\t01234'.expandtabs(4)\n",
    "'01  012 0123    01234'\n",
    "str.find(sub[, start[, end]])\n",
    "Return the lowest index in the string where substring sub is found within the slice s[start:end]. Optional arguments start and end are interpreted as in slice notation. Return -1 if sub is not found.\n",
    "\n",
    "Note The find() method should be used only if you need to know the position of sub. To check if sub is a substring or not, use the in operator:\n",
    ">>>\n",
    ">>> 'Py' in 'Python'\n",
    "True\n",
    "str.format(*args, **kwargs)\n",
    "Perform a string formatting operation. The string on which this method is called can contain literal text or replacement fields delimited by braces {}. Each replacement field contains either the numeric index of a positional argument, or the name of a keyword argument. Returns a copy of the string where each replacement field is replaced with the string value of the corresponding argument.\n",
    "\n",
    ">>> \"The sum of 1 + 2 is {0}\".format(1+2)\n",
    "'The sum of 1 + 2 is 3'\n",
    "See Format String Syntax for a description of the various formatting options that can be specified in format strings.\n",
    "\n",
    "Note When formatting a number (int, float, complex, decimal.Decimal and subclasses) with the n type (ex: '{:n}'.format(1234)), the function temporarily sets the LC_CTYPE locale to the LC_NUMERIC locale to decode decimal_point and thousands_sep fields of localeconv() if they are non-ASCII or longer than 1 byte, and the LC_NUMERIC locale is different than the LC_CTYPE locale. This temporary change affects other threads.\n",
    "Changed in version 3.7: When formatting a number with the n type, the function sets temporarily the LC_CTYPE locale to the LC_NUMERIC locale in some cases.\n",
    "\n",
    "str.format_map(mapping)\n",
    "Similar to str.format(**mapping), except that mapping is used directly and not copied to a dict. This is useful if for example mapping is a dict subclass:\n",
    "\n",
    ">>> class Default(dict):\n",
    "...     def __missing__(self, key):\n",
    "...         return key\n",
    "...\n",
    ">>> '{name} was born in {country}'.format_map(Default(name='Guido'))\n",
    "'Guido was born in country'\n",
    "New in version 3.2.\n",
    "\n",
    "str.index(sub[, start[, end]])\n",
    "Like find(), but raise ValueError when the substring is not found.\n",
    "\n",
    "str.isalnum()\n",
    "Return true if all characters in the string are alphanumeric and there is at least one character, false otherwise. A character c is alphanumeric if one of the following returns True: c.isalpha(), c.isdecimal(), c.isdigit(), or c.isnumeric().\n",
    "\n",
    "str.isalpha()\n",
    "Return true if all characters in the string are alphabetic and there is at least one character, false otherwise. Alphabetic characters are those characters defined in the Unicode character database as “Letter”, i.e., those with general category property being one of “Lm”, “Lt”, “Lu”, “Ll”, or “Lo”. Note that this is different from the “Alphabetic” property defined in the Unicode Standard.\n",
    "\n",
    "str.isascii()\n",
    "Return true if the string is empty or all characters in the string are ASCII, false otherwise. ASCII characters have code points in the range U+0000-U+007F.\n",
    "\n",
    "New in version 3.7.\n",
    "\n",
    "str.isdecimal()\n",
    "Return true if all characters in the string are decimal characters and there is at least one character, false otherwise. Decimal characters are those that can be used to form numbers in base 10, e.g. U+0660, ARABIC-INDIC DIGIT ZERO. Formally a decimal character is a character in the Unicode General Category “Nd”.\n",
    "\n",
    "str.isdigit()\n",
    "Return true if all characters in the string are digits and there is at least one character, false otherwise. Digits include decimal characters and digits that need special handling, such as the compatibility superscript digits. This covers digits which cannot be used to form numbers in base 10, like the Kharosthi numbers. Formally, a digit is a character that has the property value Numeric_Type=Digit or Numeric_Type=Decimal.\n",
    "\n",
    "str.isidentifier()\n",
    "Return true if the string is a valid identifier according to the language definition, section Identifiers and keywords.\n",
    "\n",
    "Use keyword.iskeyword() to test for reserved identifiers such as def and class.\n",
    "\n",
    "str.islower()\n",
    "Return true if all cased characters 4 in the string are lowercase and there is at least one cased character, false otherwise.\n",
    "\n",
    "str.isnumeric()\n",
    "Return true if all characters in the string are numeric characters, and there is at least one character, false otherwise. Numeric characters include digit characters, and all characters that have the Unicode numeric value property, e.g. U+2155, VULGAR FRACTION ONE FIFTH. Formally, numeric characters are those with the property value Numeric_Type=Digit, Numeric_Type=Decimal or Numeric_Type=Numeric.\n",
    "\n",
    "str.isprintable()\n",
    "Return true if all characters in the string are printable or the string is empty, false otherwise. Nonprintable characters are those characters defined in the Unicode character database as “Other” or “Separator”, excepting the ASCII space (0x20) which is considered printable. (Note that printable characters in this context are those which should not be escaped when repr() is invoked on a string. It has no bearing on the handling of strings written to sys.stdout or sys.stderr.)\n",
    "\n",
    "str.isspace()\n",
    "Return true if there are only whitespace characters in the string and there is at least one character, false otherwise.\n",
    "\n",
    "A character is whitespace if in the Unicode character database (see unicodedata), either its general category is Zs (“Separator, space”), or its bidirectional class is one of WS, B, or S.\n",
    "\n",
    "str.istitle()\n",
    "Return true if the string is a titlecased string and there is at least one character, for example uppercase characters may only follow uncased characters and lowercase characters only cased ones. Return false otherwise.\n",
    "\n",
    "str.isupper()\n",
    "Return true if all cased characters 4 in the string are uppercase and there is at least one cased character, false otherwise.\n",
    "\n",
    "str.join(iterable)\n",
    "Return a string which is the concatenation of the strings in iterable. A TypeError will be raised if there are any non-string values in iterable, including bytes objects. The separator between elements is the string providing this method.\n",
    "\n",
    "str.ljust(width[, fillchar])\n",
    "Return the string left justified in a string of length width. Padding is done using the specified fillchar (default is an ASCII space). The original string is returned if width is less than or equal to len(s).\n",
    "\n",
    "str.lower()\n",
    "Return a copy of the string with all the cased characters 4 converted to lowercase.\n",
    "\n",
    "The lowercasing algorithm used is described in section 3.13 of the Unicode Standard.\n",
    "\n",
    "str.lstrip([chars])\n",
    "Return a copy of the string with leading characters removed. The chars argument is a string specifying the set of characters to be removed. If omitted or None, the chars argument defaults to removing whitespace. The chars argument is not a prefix; rather, all combinations of its values are stripped:\n",
    "\n",
    ">>>\n",
    ">>> '   spacious   '.lstrip()\n",
    "'spacious   '\n",
    ">>> 'www.example.com'.lstrip('cmowz.')\n",
    "'example.com'\n",
    "static str.maketrans(x[, y[, z]])\n",
    "This static method returns a translation table usable for str.translate().\n",
    "\n",
    "If there is only one argument, it must be a dictionary mapping Unicode ordinals (integers) or characters (strings of length 1) to Unicode ordinals, strings (of arbitrary lengths) or None. Character keys will then be converted to ordinals.\n",
    "\n",
    "If there are two arguments, they must be strings of equal length, and in the resulting dictionary, each character in x will be mapped to the character at the same position in y. If there is a third argument, it must be a string, whose characters will be mapped to None in the result.\n",
    "\n",
    "str.partition(sep)\n",
    "Split the string at the first occurrence of sep, and return a 3-tuple containing the part before the separator, the separator itself, and the part after the separator. If the separator is not found, return a 3-tuple containing the string itself, followed by two empty strings.\n",
    "\n",
    "str.replace(old, new[, count])\n",
    "Return a copy of the string with all occurrences of substring old replaced by new. If the optional argument count is given, only the first count occurrences are replaced.\n",
    "\n",
    "str.rfind(sub[, start[, end]])\n",
    "Return the highest index in the string where substring sub is found, such that sub is contained within s[start:end]. Optional arguments start and end are interpreted as in slice notation. Return -1 on failure.\n",
    "\n",
    "str.rindex(sub[, start[, end]])\n",
    "Like rfind() but raises ValueError when the substring sub is not found.\n",
    "\n",
    "str.rjust(width[, fillchar])\n",
    "Return the string right justified in a string of length width. Padding is done using the specified fillchar (default is an ASCII space). The original string is returned if width is less than or equal to len(s).\n",
    "\n",
    "str.rpartition(sep)\n",
    "Split the string at the last occurrence of sep, and return a 3-tuple containing the part before the separator, the separator itself, and the part after the separator. If the separator is not found, return a 3-tuple containing two empty strings, followed by the string itself.\n",
    "\n",
    "str.rsplit(sep=None, maxsplit=-1)\n",
    "Return a list of the words in the string, using sep as the delimiter string. If maxsplit is given, at most maxsplit splits are done, the rightmost ones. If sep is not specified or None, any whitespace string is a separator. Except for splitting from the right, rsplit() behaves like split() which is described in detail below.\n",
    "\n",
    "str.rstrip([chars])\n",
    "Return a copy of the string with trailing characters removed. The chars argument is a string specifying the set of characters to be removed. If omitted or None, the chars argument defaults to removing whitespace. The chars argument is not a suffix; rather, all combinations of its values are stripped:\n",
    "\n",
    ">>>\n",
    ">>> '   spacious   '.rstrip()\n",
    "'   spacious'\n",
    ">>> 'mississippi'.rstrip('ipz')\n",
    "'mississ'\n",
    "str.split(sep=None, maxsplit=-1)\n",
    "Return a list of the words in the string, using sep as the delimiter string. If maxsplit is given, at most maxsplit splits are done (thus, the list will have at most maxsplit+1 elements). If maxsplit is not specified or -1, then there is no limit on the number of splits (all possible splits are made).\n",
    "\n",
    "If sep is given, consecutive delimiters are not grouped together and are deemed to delimit empty strings (for example, '1,,2'.split(',') returns ['1', '', '2']). The sep argument may consist of multiple characters (for example, '1<>2<>3'.split('<>') returns ['1', '2', '3']). Splitting an empty string with a specified separator returns [''].\n",
    "\n",
    "For example:\n",
    "\n",
    ">>>\n",
    ">>> '1,2,3'.split(',')\n",
    "['1', '2', '3']\n",
    ">>> '1,2,3'.split(',', maxsplit=1)\n",
    "['1', '2,3']\n",
    ">>> '1,2,,3,'.split(',')\n",
    "['1', '2', '', '3', '']\n",
    "If sep is not specified or is None, a different splitting algorithm is applied: runs of consecutive whitespace are regarded as a single separator, and the result will contain no empty strings at the start or end if the string has leading or trailing whitespace. Consequently, splitting an empty string or a string consisting of just whitespace with a None separator returns [].\n",
    "\n",
    "For example:\n",
    "\n",
    ">>>\n",
    ">>> '1 2 3'.split()\n",
    "['1', '2', '3']\n",
    ">>> '1 2 3'.split(maxsplit=1)\n",
    "['1', '2 3']\n",
    ">>> '   1   2   3   '.split()\n",
    "['1', '2', '3']\n",
    "str.splitlines([keepends])\n",
    "Return a list of the lines in the string, breaking at line boundaries. Line breaks are not included in the resulting list unless keepends is given and true.\n",
    "\n",
    "This method splits on the following line boundaries. In particular, the boundaries are a superset of universal newlines.\n",
    "\n",
    "Representation\n",
    "\n",
    "Description\n",
    "\n",
    "\\n\n",
    "\n",
    "Line Feed\n",
    "\n",
    "\\r\n",
    "\n",
    "Carriage Return\n",
    "\n",
    "\\r\\n\n",
    "\n",
    "Carriage Return + Line Feed\n",
    "\n",
    "\\v or \\x0b\n",
    "\n",
    "Line Tabulation\n",
    "\n",
    "\\f or \\x0c\n",
    "\n",
    "Form Feed\n",
    "\n",
    "\\x1c\n",
    "\n",
    "File Separator\n",
    "\n",
    "\\x1d\n",
    "\n",
    "Group Separator\n",
    "\n",
    "\\x1e\n",
    "\n",
    "Record Separator\n",
    "\n",
    "\\x85\n",
    "\n",
    "Next Line (C1 Control Code)\n",
    "\n",
    "\\u2028\n",
    "\n",
    "Line Separator\n",
    "\n",
    "\\u2029\n",
    "\n",
    "Paragraph Separator\n",
    "\n",
    "Changed in version 3.2: \\v and \\f added to list of line boundaries.\n",
    "\n",
    "For example:\n",
    "\n",
    ">>>\n",
    ">>> 'ab c\\n\\nde fg\\rkl\\r\\n'.splitlines()\n",
    "['ab c', '', 'de fg', 'kl']\n",
    ">>> 'ab c\\n\\nde fg\\rkl\\r\\n'.splitlines(keepends=True)\n",
    "['ab c\\n', '\\n', 'de fg\\r', 'kl\\r\\n']\n",
    "Unlike split() when a delimiter string sep is given, this method returns an empty list for the empty string, and a terminal line break does not result in an extra line:\n",
    "\n",
    ">>>\n",
    ">>> \"\".splitlines()\n",
    "[]\n",
    ">>> \"One line\\n\".splitlines()\n",
    "['One line']\n",
    "For comparison, split('\\n') gives:\n",
    "\n",
    ">>>\n",
    ">>> ''.split('\\n')\n",
    "['']\n",
    ">>> 'Two lines\\n'.split('\\n')\n",
    "['Two lines', '']\n",
    "str.startswith(prefix[, start[, end]])\n",
    "Return True if string starts with the prefix, otherwise return False. prefix can also be a tuple of prefixes to look for. With optional start, test string beginning at that position. With optional end, stop comparing string at that position.\n",
    "\n",
    "str.strip([chars])\n",
    "Return a copy of the string with the leading and trailing characters removed. The chars argument is a string specifying the set of characters to be removed. If omitted or None, the chars argument defaults to removing whitespace. The chars argument is not a prefix or suffix; rather, all combinations of its values are stripped:\n",
    "\n",
    ">>>\n",
    ">>> '   spacious   '.strip()\n",
    "'spacious'\n",
    ">>> 'www.example.com'.strip('cmowz.')\n",
    "'example'\n",
    "The outermost leading and trailing chars argument values are stripped from the string. Characters are removed from the leading end until reaching a string character that is not contained in the set of characters in chars. A similar action takes place on the trailing end. For example:\n",
    "\n",
    ">>>\n",
    ">>> comment_string = '#....... Section 3.2.1 Issue #32 .......'\n",
    ">>> comment_string.strip('.#! ')\n",
    "'Section 3.2.1 Issue #32'\n",
    "str.swapcase()\n",
    "Return a copy of the string with uppercase characters converted to lowercase and vice versa. Note that it is not necessarily true that s.swapcase().swapcase() == s.\n",
    "\n",
    "str.title()\n",
    "Return a titlecased version of the string where words start with an uppercase character and the remaining characters are lowercase.\n",
    "\n",
    "For example:\n",
    "\n",
    ">>>\n",
    ">>> 'Hello world'.title()\n",
    "'Hello World'\n",
    "The algorithm uses a simple language-independent definition of a word as groups of consecutive letters. The definition works in many contexts but it means that apostrophes in contractions and possessives form word boundaries, which may not be the desired result:\n",
    "\n",
    ">>>\n",
    ">>> \"they're bill's friends from the UK\".title()\n",
    "\"They'Re Bill'S Friends From The Uk\"\n",
    "A workaround for apostrophes can be constructed using regular expressions:\n",
    "\n",
    ">>>\n",
    ">>> import re\n",
    ">>> def titlecase(s):\n",
    "...     return re.sub(r\"[A-Za-z]+('[A-Za-z]+)?\",\n",
    "...                   lambda mo: mo.group(0)[0].upper() +\n",
    "...                              mo.group(0)[1:].lower(),\n",
    "...                   s)\n",
    "...\n",
    ">>> titlecase(\"they're bill's friends.\")\n",
    "\"They're Bill's Friends.\"\n",
    "str.translate(table)\n",
    "Return a copy of the string in which each character has been mapped through the given translation table. The table must be an object that implements indexing via __getitem__(), typically a mapping or sequence. When indexed by a Unicode ordinal (an integer), the table object can do any of the following: return a Unicode ordinal or a string, to map the character to one or more other characters; return None, to delete the character from the return string; or raise a LookupError exception, to map the character to itself.\n",
    "\n",
    "You can use str.maketrans() to create a translation map from character-to-character mappings in different formats.\n",
    "\n",
    "See also the codecs module for a more flexible approach to custom character mappings.\n",
    "\n",
    "str.upper()\n",
    "Return a copy of the string with all the cased characters 4 converted to uppercase. Note that s.upper().isupper() might be False if s contains uncased characters or if the Unicode category of the resulting character(s) is not “Lu” (Letter, uppercase), but e.g. “Lt” (Letter, titlecase).\n",
    "\n",
    "The uppercasing algorithm used is described in section 3.13 of the Unicode Standard.\n",
    "\n",
    "str.zfill(width)\n",
    "Return a copy of the string left filled with ASCII '0' digits to make a string of length width. A leading sign prefix ('+'/'-') is handled by inserting the padding after the sign character rather than before. The original string is returned if width is less than or equal to len(s).\n",
    "\n",
    "For example:\n",
    "\n",
    ">>>\n",
    ">>> \"42\".zfill(5)\n",
    "'00042'\n",
    ">>> \"-42\".zfill(5)\n",
    "'-0042'\n",
    "###\"\"\"\n",
    "\n",
    "#clear_output()"
   ]
  },
  {
   "cell_type": "code",
   "execution_count": 57,
   "metadata": {},
   "outputs": [
    {
     "name": "stdout",
     "output_type": "stream",
     "text": [
      "3\n",
      "The number of a's in  banana is  3\n"
     ]
    }
   ],
   "source": [
    "# 8.2 COMPLETED\n",
    "# Exercise 8.2.\n",
    "# There is a string method called count that is similar to the function in Section 8.7. \n",
    "# Read the documentation of this method and write an invocation that counts the number of a’s in 'banana'\n",
    "# 8.7 method:\n",
    "#word = 'banana'\n",
    "#count = 0\n",
    "#for letter in word:\n",
    "#    if letter == 'a':\n",
    "#        count = count + 1\n",
    "#print(count)\n",
    "\n",
    "word = 'banana'\n",
    "print(word.count('a'))\n",
    "print(\"The number of a's in \", word, \"is \", word.count('a'))"
   ]
  },
  {
   "cell_type": "code",
   "execution_count": 5,
   "metadata": {},
   "outputs": [
    {
     "data": {
      "text/plain": [
       "'banana'"
      ]
     },
     "execution_count": 5,
     "metadata": {},
     "output_type": "execute_result"
    }
   ],
   "source": [
    "# 8.3 COMPLETED\n",
    "# A string slice can take a third index that specifies the “step size”; that is, the number of spaces between \n",
    "# successive characters. A step size of 2 means every other character; 3 means every third, etc.\n",
    "# fruit = 'banana' fruit[0:5:2] 'bnn' A step size of -1 goes through the word backwards, so the slice [::-1] \n",
    "# generates a reversed string. Use this idiom to write a one-line version of is_palindrome from Exercise 6.3.\n",
    "fruit = 'banana'\n",
    "fruit[0:5:2]               # 0 to 5 in steps of 2 or every other character; step size=3 means every 3rd char\n",
    "fruit[::-1]                 # prints banana in reverse\n",
    "fruit[::1]"
   ]
  },
  {
   "cell_type": "code",
   "execution_count": 12,
   "metadata": {},
   "outputs": [
    {
     "name": "stdout",
     "output_type": "stream",
     "text": [
      "  noxyx is NOT a palindrome\n"
     ]
    }
   ],
   "source": [
    "# one line version os is_palindrome from Exercise 6.3\n",
    "def is_one_palindrome(word):\n",
    "    if (word[::1] == word[::-1]):\n",
    "        print(\" \",word, \"is a palindrome\")\n",
    "    else:\n",
    "        print(\" \",word, \"is NOT a palindrome\")\n",
    "is_one_palindrome('noxyx')"
   ]
  },
  {
   "cell_type": "code",
   "execution_count": 76,
   "metadata": {},
   "outputs": [
    {
     "data": {
      "text/plain": [
       "False"
      ]
     },
     "execution_count": 76,
     "metadata": {},
     "output_type": "execute_result"
    }
   ],
   "source": [
    "# 8.4 COMPLETED\n",
    "# The following functions are all intended to check whether a string contains any lowercase letters, but at least \n",
    "# some of them are wrong. For each function, describe what the function actually does (assuming that the parameter \n",
    "# is a string).\n",
    "\n",
    "def any_lowercase1(s):\n",
    "    for c in s:\n",
    "        if c.islower():\n",
    "            return True\n",
    "        else:\n",
    "            return False\n",
    "        \n",
    "# Returns True if FIRST CHARACTER in string is lower case\n",
    "\n",
    "def any_lowercase2(s):\n",
    "    for c in s:\n",
    "        if 'c'.islower():\n",
    "            return 'True'\n",
    "        else:\n",
    "            return 'False'\n",
    "        \n",
    "# Always returns True\n",
    "\n",
    "def any_lowercase3(s):\n",
    "    for c in s:\n",
    "        flag = c.islower()\n",
    "    return flag\n",
    "\n",
    "# returns True if ANY one CHAR is lower case, else false (Does each character compare)\n",
    "\n",
    "def any_lowercase4(s):\n",
    "    flag = False\n",
    "    for c in s:\n",
    "        flag = flag or c.islower()\n",
    "    return flag\n",
    "\n",
    "# returns True if ANY one CHAR is lower case, else false (Does each character compare)\n",
    "\n",
    "def any_lowercase5(s):\n",
    "    for c in s:\n",
    "        if not c.islower():\n",
    "            return False\n",
    "    return True\n",
    "\n",
    "# returns True if ALL characters are lowercase\n",
    "\n",
    "x='sSSSs'\n",
    "any_lowercase5(x)"
   ]
  },
  {
   "cell_type": "code",
   "execution_count": 78,
   "metadata": {},
   "outputs": [
    {
     "data": {
      "text/plain": [
       "2"
      ]
     },
     "execution_count": 78,
     "metadata": {},
     "output_type": "execute_result"
    }
   ],
   "source": [
    "# 8.5 COMPLETED\n",
    "# Exercise 8.5.\n",
    "# A Caesar cypher is a weak form of encryption that involves “rotating” each letter by a fixed number of places. \n",
    "# To rotate a letter means to shift it through the alphabet, wrapping around to the beginning if necessary, so ’A’ \n",
    "# rotated by 3 is ’D’ and ’Z’ rotated by 1 is ’A’.\n",
    "\n",
    "# To rotate a word, rotate each letter by the same amount. For example, “cheer” rotated by 7 is “jolly” and “melon” \n",
    "# rotated by -10 is “cubed”. In the movie 2001: A Space Odyssey, the ship computer is called HAL, which is IBM rotated by -1.\n",
    "\n",
    "# Write a function called rotate_word that takes a string and an integer as parameters, and returns a new string that \n",
    "# contains the letters from the original string rotated by the given amount.\n",
    "\n",
    "# You might want to use the built-in function ord, which converts a character to a numeric code, and chr, which converts \n",
    "# numeric codes to characters. Letters of the alphabet are encoded in alphabetical order, so for example:\n",
    "\n",
    "ord('c') - ord('a')\n",
    "\n",
    "# Because 'c' is the two-eth letter of the alphabet. But beware: the numeric codes for upper case letters are different.\n",
    "\n",
    "# Potentially offensive jokes on the Internet are sometimes encoded in ROT13, which is a Caesar cypher with rotation 13. \n",
    "# If you are not easily offended, find and decode some of them."
   ]
  },
  {
   "cell_type": "code",
   "execution_count": 120,
   "metadata": {},
   "outputs": [
    {
     "name": "stdout",
     "output_type": "stream",
     "text": [
      "122\n",
      "z\n"
     ]
    }
   ],
   "source": [
    "print(ord('z'))\n",
    "print(chr(122))"
   ]
  },
  {
   "cell_type": "code",
   "execution_count": 58,
   "metadata": {
    "scrolled": true
   },
   "outputs": [
    {
     "name": "stdout",
     "output_type": "stream",
     "text": [
      "Please enter a string :Shaila\n",
      "Please enter a value for string rotation :2\n",
      "Shaila 2\n",
      "<class 'str'>\n",
      "<class 'int'>\n",
      "The modified word for  Shaila rotated by 2 is  Ujcknc\n"
     ]
    }
   ],
   "source": [
    "# SOLUTION WITH INPUT PROMPTING, WORD ROTATION WITH CASE HANDLING(upper and lower)\n",
    "\n",
    "def get_num(x,n):\n",
    "    if(65 <= x <=90):\n",
    "        upper=x+n\n",
    "        if(65 <= upper <= 90):\n",
    "            return upper\n",
    "        else:\n",
    "            mod=upper-90\n",
    "            newupper=65+mod-1\n",
    "            return newupper    \n",
    "    if(97 <= x <= 122):\n",
    "        lower=x+n\n",
    "        if(97 <= lower <= 122):\n",
    "            return lower\n",
    "        else:\n",
    "            ext=lower-122\n",
    "            newlower=97+ext-1\n",
    "            return newlower \n",
    "        \n",
    "# A-Z is 65-90 and a-z is 97-122\n",
    "\n",
    "def rotate_word(word,n,new):\n",
    "    length=len(word)\n",
    "    for i in range(0,length):\n",
    "        x=chr(get_num(ord(word[i]),n))\n",
    "        new+=x\n",
    "#        print(word[i],x, new)\n",
    "    return new\n",
    "#        return new\n",
    "\n",
    "while True:\n",
    "    word=input(\"Please enter a string :\")\n",
    "    if (type(word) != str):\n",
    "        print(\"Invalid input, please enter a string\")\n",
    "    else:\n",
    "        val=input(\"Please enter a value for string rotation :\")\n",
    "        if (type(int(val)) != int):\n",
    "            print(\"Invalid input, please enter a number\")\n",
    "        break\n",
    "        \n",
    "new=''\n",
    "print(word,int(val))\n",
    "print(type(word))\n",
    "n=int(val)\n",
    "print(type(n))\n",
    "word_mod = rotate_word(word,n,new)\n",
    "print(\"The modified word for \", word, \"rotated by\", n, \"is \",word_mod)"
   ]
  },
  {
   "cell_type": "code",
   "execution_count": 14,
   "metadata": {},
   "outputs": [
    {
     "name": "stdout",
     "output_type": "stream",
     "text": [
      "Modified word for  shaila  is  ujcknc\n"
     ]
    }
   ],
   "source": [
    "# THIS SOLUTION DOES NOT TAKE INTO ACCOUNT THE ROLLING OVER OF ALPHABETS OR CASE OF ALPHABETS\n",
    "def str_mod(word):\n",
    "    mod_word=''\n",
    "    for x in range (0,len(word)):\n",
    "        mod_word+=(chr(ord(word[x])+2))\n",
    "    print(\"Modified word for \", word, \" is \", mod_word)\n",
    "    \n",
    "str_mod('shaila')"
   ]
  },
  {
   "cell_type": "code",
   "execution_count": 20,
   "metadata": {},
   "outputs": [
    {
     "name": "stdout",
     "output_type": "stream",
     "text": [
      "The modified word is  Ujcknc\n"
     ]
    }
   ],
   "source": [
    "# SOLUTION WITHOUT INPUT PROMPTING\n",
    "\n",
    "def get_num(x,n):\n",
    "    if(65 <= x <=90):\n",
    "        upper=x+n\n",
    "        if(65 <= upper <= 90):\n",
    "            return upper\n",
    "        else:\n",
    "            mod=upper-90\n",
    "            newupper=65+mod-1\n",
    "            return newupper    \n",
    "    if(97 <= x <= 122):\n",
    "        lower=x+n\n",
    "        if(97 <= lower <= 122):\n",
    "            return lower\n",
    "        else:\n",
    "            ext=lower-122\n",
    "            newlower=97+ext-1\n",
    "            return newlower \n",
    "        \n",
    "# A-Z is 65-90 and a-z is 97-122\n",
    "\n",
    "def rotate_word(word,n,new):\n",
    "    length=len(word)\n",
    "    for i in range(0,length):\n",
    "        x=chr(get_num(ord(word[i]),n))\n",
    "        new+=x\n",
    "#        print(word[i],x, new)\n",
    "    return new\n",
    "#        return new\n",
    "\n",
    "\n",
    "        \n",
    "new=''\n",
    "word_mod = rotate_word('Shaila',2,new)\n",
    "print(\"The modified word is \",word_mod)"
   ]
  }
 ],
 "metadata": {
  "kernelspec": {
   "display_name": "Python 3",
   "language": "python",
   "name": "python3"
  },
  "language_info": {
   "codemirror_mode": {
    "name": "ipython",
    "version": 3
   },
   "file_extension": ".py",
   "mimetype": "text/x-python",
   "name": "python",
   "nbconvert_exporter": "python",
   "pygments_lexer": "ipython3",
   "version": "3.7.3"
  }
 },
 "nbformat": 4,
 "nbformat_minor": 2
}
