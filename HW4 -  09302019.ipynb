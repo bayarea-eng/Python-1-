{
 "cells": [
  {
   "cell_type": "markdown",
   "metadata": {},
   "source": [
    "CHAPTER 6 to CHAPTER 10 HOMEWORK - SHAILA\n",
    "--------------------------------------------------------------------------\n",
    "\n"
   ]
  },
  {
   "cell_type": "markdown",
   "metadata": {},
   "source": [
    "### 6.10 Glossary\n",
    "\n",
    "__temporary variable:__ A variable used to store an intermediate value in a complex calculation.\n",
    "dead code: Part of a program that can never run, often because it appears after a return\n",
    "statement.\n",
    "\n",
    "__incremental development:__ A program development plan intended to avoid debugging by\n",
    "adding and testing only a small amount of code at a time.\n",
    "\n",
    "__scaffolding:__ Code that is used during program development but is not part of the final\n",
    "version.\n",
    "\n",
    "__guardian:__ A programming pattern that uses a conditional statement to check for and handle\n",
    "circumstances that might cause an error.\n",
    "\n",
    "\n",
    "### 6.11 Exercises\n",
    "#### Exercise 6.1. \n",
    "Draw a stack diagram for the following program. What does the program print?"
   ]
  },
  {
   "cell_type": "code",
   "execution_count": 1,
   "metadata": {
    "scrolled": false
   },
   "outputs": [
    {
     "name": "stdout",
     "output_type": "stream",
     "text": [
      "9 90\n",
      "8100\n"
     ]
    }
   ],
   "source": [
    "def b(z):\n",
    "    prod = a(z, z)\n",
    "    print(z, prod)\n",
    "    return prod\n",
    "\n",
    "def a(x, y):\n",
    "    x = x + 1\n",
    "    return x * y\n",
    "\n",
    "def c(x, y, z):\n",
    "    total = x + y + z\n",
    "    square = b(total)**2\n",
    "    return square\n",
    "\n",
    "x = 1\n",
    "y = x + 1\n",
    "print(c(x, y+3, x+y))"
   ]
  },
  {
   "cell_type": "code",
   "execution_count": null,
   "metadata": {},
   "outputs": [],
   "source": []
  },
  {
   "cell_type": "markdown",
   "metadata": {},
   "source": [
    "\"\"\"\n",
    "DO NOT RUN THIS CELL\n",
    "FORMATTING ISSUES - CHECK WITH HAI\n",
    "#Solution: Stack Diagram\n",
    ">**__main__                                                              # Main program starts\n",
    ">x --> 1 and y --> 2 (=x+1)\n",
    ">>calls printing of function c(1,5,3) where fn(c) = x+y+z --> total # Fn c starts\n",
    ">>total --> (1+5+3=) 9                                              # c=x+y+z\n",
    ">>square calls function b(total=9)                                  # b(c)\n",
    ">>>        b(9) calls function a(9,9) and assigns it to prod            # Fn b starts\n",
    ">>>            In function a(9,9),                                      # Fn a starts\n",
    ">>>>                x --> x+1 --> 9+1 = 10; \n",
    ">>>>                returns x*y --> 9*10 = 90                           # Fn a ends\n",
    ">>>        prod --> 90\n",
    ">>>        output (9, 90)\n",
    ">>>        return 90                                                    # Fn b ends\n",
    ">>    square --> 90 to the power 2 = 8100\n",
    ">>    return 8100                                                       # Fn c ends\n",
    ">output 8100 (or print)                                                 # Main program ends\n",
    "\"\"\"\n",
    "#Completed"
   ]
  },
  {
   "cell_type": "markdown",
   "metadata": {},
   "source": [
    "\"\"\" TEST - DO NOT RUN CELL\n",
    "\n",
    "#Solution: Stack Diagram\n",
    "__main__                                                                # Main program starts\n",
    "    x --> 1 and y --> 2 (=x+1)\n",
    "    calls printing of function c(1,5,3) where fn(c) = x+y+z --> total   # Function c starts\n",
    "    total --> (1+5+3=) 9\n",
    "    square calls function b(total=9) and squares it\n",
    "        b(9) calls function a(9,9) and assigns it to prod               # Function b starts\n",
    "            In function a(9,9),                                         # Function a starts\n",
    "                x --> x+1 --> 9+1 = 10; \n",
    "                returns x*y --> 9*10 = 90                               # Function a ends\n",
    "        prod --> 90\n",
    "        output (9, 90)\n",
    "        return 90                                                       # Function b ends\n",
    "    square --> 90**2 = 8100\n",
    "    return 8100                                                         # Function c ends\n",
    "output 8100 (or print)                                                  # Main program ends\n",
    "\"\"\"\n",
    "#Completed"
   ]
  },
  {
   "cell_type": "code",
   "execution_count": 64,
   "metadata": {},
   "outputs": [],
   "source": [
    " \n",
    "# Solution: Stack Diagram - COMPLETED\n",
    "# __main__                                                                # Main program starts\n",
    "#     x --> 1 and y --> 2 (=x+1)\n",
    "#     calls printing of function c(1,5,3) where fn(c) = x+y+z --> total   # Function c starts\n",
    "#     total --> (1+5+3=) 9\n",
    "#     square calls function b(total=9) and squares it\n",
    "#         b(9) calls function a(9,9) and assigns it to prod               # Function b starts\n",
    "#             In function a(9,9),                                         # Function a starts\n",
    "#                 x --> x+1 --> 9+1 = 10; \n",
    "#                 returns x*y --> 9*10 = 90                               # Function a ends\n",
    "#         prod --> 90\n",
    "#         output (9, 90)\n",
    "#         return 90                                                       # Function b ends\n",
    "#     square --> 90**2 = 8100\n",
    "#     return 8100                                                         # Function c ends\n",
    "# output 8100 (or print)                                                  # Main program ends\n",
    "# \n"
   ]
  },
  {
   "cell_type": "markdown",
   "metadata": {},
   "source": [
    "#### Exercise 6.2. \n",
    "The Ackermann function, A(m, n), is defined:\n",
    "\n",
    "<table style=\"width:70%; border-style:solid;\"> \n",
    "    <tr><td>A(m, n) = </td> <td>n + 1</td> <td>if m = 0</td>  </tr>\n",
    "    <tr><td></td> <td>A(m - 1, 1)</td> <td>if m > 0 and n = 0</td>  </tr>\n",
    "    <tr><td></td> <td>A(m - 1, A(m, n - 1))</td> <td>m > 0 and n > 0</td>  </tr></table></p>\n",
    "                  \n",
    "See http://en.wikipedia.org/wiki/Ackermann_function . Write a function named ack\n",
    "that evaluates the Ackermann function. Use your function to evaluate ack(3, 4), which should be 125. What happens for larger values of m and n? \n",
    "\n",
    "Solution: http://thinkpython2.com/code/ackermann.py ."
   ]
  },
  {
   "cell_type": "code",
   "execution_count": 40,
   "metadata": {
    "scrolled": false
   },
   "outputs": [
    {
     "data": {
      "text/plain": [
       "125"
      ]
     },
     "execution_count": 40,
     "metadata": {},
     "output_type": "execute_result"
    }
   ],
   "source": [
    "# My Solution - COMPLETED\n",
    "\n",
    "def ackermann(a,b):\n",
    "    if a == 0:\n",
    "#        print(a,b)\n",
    "        return b+1\n",
    "    if b == 0:\n",
    "        a = a-1\n",
    "#        print(a,b)\n",
    "        return ackermann(a, 1)\n",
    "    return ackermann(a-1, ackermann(a,b-1))\n",
    "#    else:\n",
    "#        a = a-1\n",
    "#        b = b-1\n",
    "#        print(a,b)\n",
    "#        return ackermann(a,b)\n",
    "\n",
    "ackermann(3,4)\n",
    "        "
   ]
  },
  {
   "cell_type": "code",
   "execution_count": 3,
   "metadata": {},
   "outputs": [
    {
     "name": "stdout",
     "output_type": "stream",
     "text": [
      "125\n"
     ]
    }
   ],
   "source": [
    "# Solution From Link\n",
    "def ackermann(m, n):\n",
    "    \"\"\"Computes the Ackermann function A(m, n)\n",
    "\n",
    "    See http://en.wikipedia.org/wiki/Ackermann_function\n",
    "\n",
    "    n, m: non-negative integers\n",
    "    \"\"\"\n",
    "    if m == 0:\n",
    "        return n+1\n",
    "    if n == 0:\n",
    "        return ackermann(m-1, 1)\n",
    "    return ackermann(m-1, ackermann(m, n-1))\n",
    "\n",
    "\n",
    "print(ackermann(3, 4))"
   ]
  },
  {
   "cell_type": "markdown",
   "metadata": {},
   "source": [
    "#### Exercise 6.3. \n",
    "A palindrome is a word that is spelled the same backward and forward, like “noon”\n",
    "and “redivider”. Recursively, a word is a palindrome if the first and last letters are the same and the\n",
    "middle is a palindrome.\n",
    "\n",
    "The following are functions that take a string argument and return the first, last, and middle letters:"
   ]
  },
  {
   "cell_type": "code",
   "execution_count": 4,
   "metadata": {
    "scrolled": false
   },
   "outputs": [
    {
     "data": {
      "text/plain": [
       "''"
      ]
     },
     "execution_count": 4,
     "metadata": {},
     "output_type": "execute_result"
    }
   ],
   "source": [
    "def first(word):\n",
    "    return word[0]\n",
    "\n",
    "def last(word):\n",
    "    return word[-1]\n",
    "\n",
    "def middle(word):\n",
    "    return word[1:-1]\n",
    "\n",
    "middle('')"
   ]
  },
  {
   "cell_type": "code",
   "execution_count": 42,
   "metadata": {
    "scrolled": true
   },
   "outputs": [
    {
     "name": "stdout",
     "output_type": "stream",
     "text": [
      "9\n",
      "Word nooxyxoon is a palindrome with ODD number of characters\n"
     ]
    }
   ],
   "source": [
    "# SOLUTION WITH COMPLETED WITH Odd or even letters and single word. Fix '' to be put in place\n",
    "    \n",
    "def check_f_l(word, n, f, l):\n",
    "    first=word[f]\n",
    "    last=word[l]\n",
    "#    print(first, last, n, f, l, word)\n",
    "    if (n == 1) and (word != ''):\n",
    "        print(\"Word {0} is a palindrome with {1} number of character\".format(word,n))\n",
    "#    if (n == 1) and (word == ''):\n",
    "#        print(\"Word {0} is a NULL with NO character\".format(word))\n",
    "    else:\n",
    "        while (n >= 0):\n",
    "            if (first != last):\n",
    "                print(first, last, \"Ouch!\")\n",
    "                print(\"Word {0} is not a palindrome\".format(word))\n",
    "                break\n",
    "            while (first == last):\n",
    "#            print(first, last, n, f, l)\n",
    "                n = n-2\n",
    "                f = f+1\n",
    "                l = l-1\n",
    "                first=word[f]\n",
    "                last=word[l]\n",
    "#            print(first, last, n, f, l)\n",
    "                if(n == 0):\n",
    "                    print(\"Word {0} is a palindrome with EVEN number of characters\".format(word))\n",
    "                if(n == 1):\n",
    "                    print(\"Word {0} is a palindrome with ODD number of characters\".format(word))\n",
    "                break\n",
    "               \n",
    "def is_palindrome(word):\n",
    "    n = len(word)\n",
    "    print(n)\n",
    "#    if (n == 1) and (word == ''):\n",
    "#        print(\"Word {0} is a NULL with NO character\".format(word))\n",
    "#    break\n",
    "    f=int(0)\n",
    "    l=int(-1)\n",
    "    check_f_l(word,n,f,l)\n",
    "            \n",
    "is_palindrome('nooxyxoon')"
   ]
  },
  {
   "cell_type": "markdown",
   "metadata": {},
   "source": [
    "We’ll see how they work in Chapter 8.\n",
    "\n",
    "1. Test the functions in the cell above. What happens if\n",
    "you call middle with a string with two letters? One letter? What about the empty string,\n",
    "which is written '' and contains no letters?<br><br>\n",
    "\n",
    "2. Write a function called is_palindrome that takes a string argument and returns True if it\n",
    "is a palindrome and False otherwise. Remember that you can use the built-in function len\n",
    "to check the length of a string.\n",
    "\n",
    "Solution: http://thinkpython2.com/code/palindrome_soln.py ."
   ]
  },
  {
   "cell_type": "markdown",
   "metadata": {},
   "source": [
    "#### Exercise 6.4. \n",
    "A number, a, is a power of b if it is divisible by b and a/b is a power of b. Write a\n",
    "function called is_power that takes parameters a and b and returns True if a is a power of b. Note:\n",
    "you will have to think about the base case."
   ]
  },
  {
   "cell_type": "code",
   "execution_count": 7,
   "metadata": {
    "scrolled": true
   },
   "outputs": [
    {
     "name": "stdout",
     "output_type": "stream",
     "text": [
      "returned value is  True\n"
     ]
    }
   ],
   "source": [
    "#COMPLETED\n",
    "def is_divisible(a,b):\n",
    "    if (a%b == 0):\n",
    "        return True\n",
    "    else:\n",
    "        return False\n",
    "    \n",
    "def is_power(a,b):\n",
    "        x=is_divisible(a,b)\n",
    "        print(\"returned value is \", x)\n",
    "\n",
    "is_power(27,3)"
   ]
  },
  {
   "cell_type": "code",
   "execution_count": 8,
   "metadata": {
    "scrolled": true
   },
   "outputs": [
    {
     "name": "stdout",
     "output_type": "stream",
     "text": [
      "12 3\n",
      "after div 4 3\n",
      "FALSE, a is NOT a power of b\n"
     ]
    }
   ],
   "source": [
    "# COMPLETED\n",
    "\n",
    "def is_divisible(a,b):\n",
    "    if (a%b == 0):\n",
    "        return True\n",
    "    else:\n",
    "        return False\n",
    "    \n",
    "def print_true():\n",
    "    print(\"TRUE, a is a power of b\")\n",
    "\n",
    "def print_false():\n",
    "    print(\"FALSE, a is NOT a power of b\")\n",
    "    \n",
    "def is_power(a,b):\n",
    "    if(is_divisible(a,b) == False):\n",
    "        print_false()\n",
    "    while(is_divisible(a,b) == True):\n",
    "        print(a,b)\n",
    "        a=a//b\n",
    "        print(\"after div\", a,b)\n",
    "        if(a == 1):\n",
    "            print_true()\n",
    "        if(a%b != 0) and ( a != 1):\n",
    "            print_false()     \n",
    "\n",
    "is_power(12,3)"
   ]
  },
  {
   "cell_type": "code",
   "execution_count": 9,
   "metadata": {
    "scrolled": true
   },
   "outputs": [
    {
     "name": "stdout",
     "output_type": "stream",
     "text": [
      "256 2\n",
      "after div 128 2\n",
      "128 2\n",
      "after div 64 2\n",
      "64 2\n",
      "after div 32 2\n",
      "32 2\n",
      "after div 16 2\n",
      "16 2\n",
      "after div 8 2\n",
      "8 2\n",
      "after div 4 2\n",
      "4 2\n",
      "after div 2 2\n",
      "2 2\n",
      "after div 1 2\n",
      "TRUE, a is a power of b\n"
     ]
    }
   ],
   "source": [
    "# FINAL SOLUTION\n",
    "\n",
    "def is_divisible(a,b):\n",
    "    if (a%b == 0):\n",
    "        return True\n",
    "    else:\n",
    "        return False\n",
    "    \n",
    "def print_true():\n",
    "    print(\"TRUE, a is a power of b\")\n",
    "\n",
    "def print_false():\n",
    "    print(\"FALSE, a is NOT a power of b\")\n",
    "    \n",
    "def is_power(a,b):\n",
    "\n",
    "    while(is_divisible(a,b)):\n",
    "        print(a,b)\n",
    "        a=a//b\n",
    "        print(\"after div\", a,b)\n",
    "        if(a == 1):\n",
    "            print_true()\n",
    "        if(a%b != 0) and ( a != 1):\n",
    "            print_false()     \n",
    "\n",
    "is_power(256, 2)"
   ]
  },
  {
   "cell_type": "markdown",
   "metadata": {},
   "source": [
    "#### Exercise 6.5. \n",
    "The greatest common divisor (GCD) of a and b is the largest number that divides\n",
    "both of them with no remainder.\n",
    "\n",
    "One way to find the GCD of two numbers is based on the observation that if r is the remainder when\n",
    "a is divided by b, then gcd(a, b) = gcd(b, r). As a base case, we can use gcd(a, 0) = a.\n",
    "\n",
    "Write a function called gcd that takes parameters a and b and returns their greatest common divisor.\n",
    "\n",
    "Credit: This exercise is based on an example from Abelson and Sussman’s Structure and Interpretation\n",
    "of Computer Programs."
   ]
  },
  {
   "cell_type": "code",
   "execution_count": 10,
   "metadata": {},
   "outputs": [
    {
     "name": "stdout",
     "output_type": "stream",
     "text": [
      "One of the numbers is a prime number, hence GCD is 1\n"
     ]
    }
   ],
   "source": [
    "#  FINAL SOLUTION (NOT)\n",
    "# prime function\n",
    "# Iterate from 2 to n / 2  \n",
    "# If num is divisible by any number between  \n",
    "# 2 and n / 2, it is not prime\n",
    "\n",
    "#            print(n, \"is not a prime number\") \n",
    "#            print(n, \"is a prime number\") \n",
    "#    else: \n",
    "#        print(n, \"is not a prime number\") \n",
    "\n",
    "def is_prime(n):\n",
    "    if n > 1:\n",
    "        for i in range(2, n//2):     \n",
    "            if (n % i) == 0:\n",
    "                return False\n",
    "            else:\n",
    "                return True\n",
    "\n",
    "def gcd(a,b):\n",
    "    if ((is_prime(a)==True) or (is_prime(b)==True)):\n",
    "        print(\"One of the numbers is a prime number, hence GCD is 1\")\n",
    "\n",
    "gcd(9,3)"
   ]
  },
  {
   "cell_type": "code",
   "execution_count": 11,
   "metadata": {},
   "outputs": [
    {
     "name": "stdout",
     "output_type": "stream",
     "text": [
      "0\n",
      "GCD of a=256 and b=32 is 32\n"
     ]
    }
   ],
   "source": [
    "# FINAL SOLUTION - NOT COMPLETE\n",
    "\n",
    "def gcd(a,b):\n",
    "    r = a%b\n",
    "    print(r)\n",
    "    if r == 0:\n",
    "        print(\"GCD of a={0} and b={1} is {2}\".format(a,b,b))\n",
    "    else:\n",
    "        while(r != 0):\n",
    "            a=b\n",
    "            b=r\n",
    "            print(a,b)\n",
    "            gcd(a,b)\n",
    "            \n",
    "gcd(256,32)\n",
    "        "
   ]
  },
  {
   "cell_type": "markdown",
   "metadata": {},
   "source": [
    "\n",
    "### 7.9 Exercises\n",
    "\n",
    "#### Exercise 7.1. \n",
    "Copy the loop from Section 7.5 and encapsulate it in a function called mysqrt that\n",
    "takes a as a parameter, chooses a reasonable value of x, and returns an estimate of the square root of\n",
    "a.\n",
    "\n",
    "To test it, write a function named test_square_root that prints a table like this:\n",
    "<table> <tr> <th>a</th> <th>mysqrt(a)</th> <th>math.sqrt(a)</th> <th>diff</th> </tr>\n",
    "    <tr> <td>1.0</td> <td>1.0</td> <td>1.0</td> <td>0.0</td> </tr>\n",
    "    <tr> <td>2.0</td> <td>1.41421356237</td> <td>1.41421356237</td> <td>2.22044604925e-16</td> </tr>\n",
    "    <tr> <td>3.0</td> <td>1.73205080757</td> <td>1.73205080757</td> <td>0.0</td> </tr>\n",
    "    <tr> <td>4.0</td> <td>2.0</td> <td>2.0 </td> <td>0.0</td> </tr>\n",
    "    <tr> <td>5.0</td> <td>2.2360679775</td> <td>2.2360679775</td> <td>0.0</td> </tr>\n",
    "    <tr> <td>6.0</td> <td>2.44948974278</td> <td>2.44948974278</td> <td>0.0</td> </tr>\n",
    "    <tr> <td>7.0</td> <td>2.64575131106</td> <td>2.64575131106</td> <td>0.0</td> </tr>\n",
    "    <tr> <td>8.0</td> <td>2.82842712475</td> <td>2.82842712475</td> <td>4.4408920985e-16</td> </tr>\n",
    "    <tr> <td>9.0</td> <td>3.0</td> <td>3.0</td> <td>0.0</td> </tr> </table>\n",
    "\n",
    "The first column is a number, a; the second column is the square root of a computed with mysqrt;\n",
    "the third column is the square root computed by math.sqrt; the fourth column is the absolute value\n",
    "of the difference between the two estimates."
   ]
  },
  {
   "cell_type": "code",
   "execution_count": 39,
   "metadata": {},
   "outputs": [
    {
     "name": "stdout",
     "output_type": "stream",
     "text": [
      "1\n",
      "1.5\n",
      "1.4166666666666665\n",
      "1.4142156862745097\n",
      "1.4142135623746899\n"
     ]
    }
   ],
   "source": [
    "# Copied from Section 7.5 below:\n",
    "\n",
    "a = 2\n",
    "x = 1\n",
    "epsilon = 0.0000001\n",
    "\n",
    "while True:\n",
    "    print(x)\n",
    "    y = (x + a/x) / 2\n",
    "    if abs(y-x) < epsilon:\n",
    "        break    \n",
    "    x = y"
   ]
  },
  {
   "cell_type": "code",
   "execution_count": 44,
   "metadata": {},
   "outputs": [
    {
     "name": "stdout",
     "output_type": "stream",
     "text": [
      "a ('          ', 'my_sqrt(a)') ('        ', 'math_sqrt(a)') diff\n",
      "1 ('                   ', '1') ('                 ', '1.0') 0.0\n",
      "2 ('  ', '1.4142135623746899') ('  ', '1.4142135623730951') 1.5947243525715749e-12\n",
      "3 ('  ', '1.7320508100147274') ('  ', '1.7320508075688772') 2.44585018904786e-09\n",
      "4 ('  ', '2.0000000929222947') ('                 ', '2.0') 9.2922294747666e-08\n",
      "5 ('   ', '2.236067977499978') ('    ', '2.23606797749979') 1.8829382497642655e-13\n",
      "6 ('  ', '2.4494897427875517') ('   ', '2.449489742783178') 4.373834627813267e-12\n",
      "7 ('  ', '2.6457513111113693') ('  ', '2.6457513110645907') 4.6778581008766196e-11\n",
      "8 ('  ', '2.8284271250498643') ('  ', '2.8284271247461903') 3.0367397485520087e-10\n",
      "9 ('   ', '3.000000001396984') ('                 ', '3.0') 1.3969838619232178e-09\n"
     ]
    }
   ],
   "source": [
    "# 7.1 SOLTUTION COMPLETED\n",
    "\n",
    "import math\n",
    "\n",
    "def my_sqrt(a,x):\n",
    "    while True:\n",
    "#        print(a, x)\n",
    "        y = (x + a/x) / 2\n",
    "        if abs(y-x) < epsilon:\n",
    "            break    \n",
    "        x = y\n",
    "    return x\n",
    "\n",
    "def get_diff(math_sqrt,my):\n",
    "    diff=math_sqrt-my\n",
    "    if abs(diff) < delta:\n",
    "        return 0\n",
    "    else:\n",
    "        return diff\n",
    "\n",
    "def right_justify(s):\n",
    "    Length=len(s)\n",
    "    NumSpaces=20-Length\n",
    "#    print(NumSpaces)\n",
    "    FinalString=(' '*NumSpaces,s)\n",
    "    return FinalString\n",
    "\n",
    "#right_justify('Bayarea')\n",
    "\n",
    "def test_sqrt():\n",
    "    x=1\n",
    "    for a in range(1,10):\n",
    "        my = my_sqrt(a,x)\n",
    "        my_fix = right_justify(str(my))\n",
    "        math_sqrt = math.sqrt(a)\n",
    "        math_sqrt_fix = right_justify(str(math_sqrt))\n",
    "#        my_diff = get_diff(math_sqrt,my)\n",
    "        my_diff= abs(math_sqrt - my)\n",
    "        print(a, my_fix, math_sqrt_fix, my_diff)\n",
    "\n",
    "epsilon = 0.0000001\n",
    "delta = 1e-15\n",
    "a='my_sqrt(a)'\n",
    "b='math_sqrt(a)'\n",
    "c='diff'\n",
    "a_fix=right_justify(a)\n",
    "b_fix=right_justify(b)\n",
    "\n",
    "print(\"a\", a_fix, b_fix, c)\n",
    "test_sqrt()"
   ]
  },
  {
   "cell_type": "markdown",
   "metadata": {},
   "source": [
    "#### Exercise 7.2. \n",
    "The built-in function eval takes a string and evaluates it using the Python interpreter.\n",
    "For example:"
   ]
  },
  {
   "cell_type": "code",
   "execution_count": 13,
   "metadata": {},
   "outputs": [
    {
     "data": {
      "text/plain": [
       "7"
      ]
     },
     "execution_count": 13,
     "metadata": {},
     "output_type": "execute_result"
    }
   ],
   "source": [
    "eval('1 + 2 * 3')"
   ]
  },
  {
   "cell_type": "code",
   "execution_count": 14,
   "metadata": {},
   "outputs": [
    {
     "data": {
      "text/plain": [
       "2.23606797749979"
      ]
     },
     "execution_count": 14,
     "metadata": {},
     "output_type": "execute_result"
    }
   ],
   "source": [
    "import math\n",
    "eval('math.sqrt(5)')"
   ]
  },
  {
   "cell_type": "code",
   "execution_count": 15,
   "metadata": {},
   "outputs": [
    {
     "data": {
      "text/plain": [
       "float"
      ]
     },
     "execution_count": 15,
     "metadata": {},
     "output_type": "execute_result"
    }
   ],
   "source": [
    "eval('type(math.pi)')"
   ]
  },
  {
   "cell_type": "markdown",
   "metadata": {},
   "source": [
    "Write a function called eval_loop that iteratively prompts the user, takes the resulting input and\n",
    "evaluates it using eval, and prints the result.\n",
    "It should continue until the user enters 'done', and then return the value of the last expression it\n",
    "evaluated."
   ]
  },
  {
   "cell_type": "code",
   "execution_count": 16,
   "metadata": {},
   "outputs": [
    {
     "name": "stdout",
     "output_type": "stream",
     "text": [
      "1\n",
      "2\n",
      "3\n",
      "done\n",
      "Result is  5\n"
     ]
    }
   ],
   "source": [
    "# SOLUTION: COMPLETED\n",
    "there_is_input = True\n",
    "\n",
    "int(x)\n",
    "a=b=c=x=0\n",
    "\n",
    "while (there_is_input):\n",
    "    I=input()\n",
    "    if (I.isdigit()):\n",
    "        a,b,c = I,a,b\n",
    "        a1=int(a)\n",
    "        b1=int(b)\n",
    "        c1=int(c)\n",
    "        x=eval('a1+b1*c1')\n",
    "    if (I.isalpha()):\n",
    "        if (I != 'done'):\n",
    "            print(\"Invalid string\")\n",
    "        if(I == 'done'):\n",
    "            print(\"Result is \", x)\n",
    "            break"
   ]
  },
  {
   "cell_type": "code",
   "execution_count": 17,
   "metadata": {},
   "outputs": [
    {
     "name": "stdout",
     "output_type": "stream",
     "text": [
      "1\n",
      "I am int\n",
      "1 0 0 0\n",
      "1 0 0\n",
      "exit loop)\n",
      "2\n",
      "I am int\n",
      "2 1 0 0\n",
      "2 1 0\n",
      "exit loop)\n",
      "3\n",
      "I am int\n",
      "3 2 1 0\n",
      "3 2 1\n",
      "exit loop)\n",
      "4\n",
      "I am int\n",
      "4 3 2 1\n",
      "4 3 2\n",
      "exit loop)\n",
      "5\n",
      "I am int\n",
      "5 4 3 2\n",
      "5 4 3\n",
      "exit loop)\n",
      "6\n",
      "I am int\n",
      "6 5 4 3\n",
      "6 5 4\n",
      "exit loop)\n",
      "done\n",
      "done 6 5 4\n",
      "I am str\n",
      "6 5 4\n",
      "<class 'str'>\n",
      "<class 'str'>\n",
      "<class 'str'>\n",
      "<class 'int'>\n",
      "<class 'str'>\n",
      "<class 'int'>\n",
      "<class 'int'>\n",
      "<class 'int'>\n",
      "<class 'int'>\n",
      "26\n"
     ]
    }
   ],
   "source": [
    "# LONG SOLUTION COMPLETED\n",
    "\n",
    "there_is_input = True\n",
    "\n",
    "a=b=c=x=0\n",
    "\n",
    "#int(a)\n",
    "#int(b)\n",
    "#int(c)\n",
    "#int(x)\n",
    "\n",
    "while (there_is_input):\n",
    "    I=input()\n",
    "    if (I.isdigit()):\n",
    "        int(I)\n",
    "        print('I am int')\n",
    "        print(I,a,b,c)\n",
    "        a,b,c = I,a,b\n",
    "        print(a,b,c)\n",
    "        print('exit loop)')\n",
    "    if (I.isalpha()):\n",
    "        print(I,a,b,c)\n",
    "        print('I am str')\n",
    "        print(a,b,c)\n",
    "        print(type(a))\n",
    "        print(type(b))\n",
    "        print(type(c))\n",
    "        print(type(x))\n",
    "        print(type(I))\n",
    "        a1=int(a)\n",
    "        b1=int(b)\n",
    "        c1=int(c)\n",
    "        int(x)\n",
    "        print(type(a1))\n",
    "        print(type(b1))\n",
    "        print(type(c1))\n",
    "        print(type(x))\n",
    "        if (I != 'done'):\n",
    "            print(\"Invalid string\")\n",
    "        if(I == 'done'):\n",
    "            x=a1+b1*c1\n",
    "            print(x)\n",
    "            break"
   ]
  },
  {
   "cell_type": "markdown",
   "metadata": {},
   "source": [
    "#### Exercise 7.3. \n",
    "The mathematician Srinivasa Ramanujan found an infinite series that can be used to\n",
    "generate a numerical approximation of 1/p:\n",
    "\n",
    "$$\\frac{1}{n} = \\frac{2\\sqrt{2}}{9801}\\sum_{k=0}^{\\infty }\\frac{(4k)!(1103 + 26390k)}{(k!)^{4}396^{4k}}$$\n",
    "\n",
    "Write a function called estimate_pi that uses this formula to compute and return an estimate of\n",
    "p. It should use a while loop to compute terms of the summation until the last term is smaller than\n",
    "1e-15 (which is Python notation for $10^{15}$). You can check the result by comparing it to math.pi.\n",
    "Solution: http://thinkpython2.com/code/pi.py ."
   ]
  },
  {
   "cell_type": "code",
   "execution_count": 55,
   "metadata": {},
   "outputs": [
    {
     "name": "stdout",
     "output_type": "stream",
     "text": [
      "3.141592653589793\n"
     ]
    }
   ],
   "source": [
    "# 7.3 MY SOLUTION COMPLETED\n",
    "\n",
    "import math\n",
    "\n",
    "c = eval('((2*math.sqrt(2)) / 9801)')\n",
    "diff = 1e-15\n",
    "\n",
    "def factorial(n):\n",
    "    num=n\n",
    "    fact=n-n+1\n",
    "#    print(num, fact)\n",
    "    while(n>=1):\n",
    "        fact=fact*n\n",
    "        n = n-1\n",
    "        if (n == 1):\n",
    "#            print(\"Factorial of n \", num, \"is \",fact)\n",
    "            return fact\n",
    "    if(n==0):\n",
    "        return 1\n",
    "    \n",
    "def find_sum(k):\n",
    "    c = eval('((2*math.sqrt(2)) / 9801)')\n",
    "    x1=eval('1103 + (26390 * k)')\n",
    "    y1=factorial(4*k)\n",
    "    a=factorial(k)\n",
    "    a1=a**4\n",
    "    b1=396**(4*k)\n",
    "    z=(c * (x1 * y1) / (a1 * b1))\n",
    "    tot += z\n",
    "    print(c,x1,y1,a1,b1,z)\n",
    "    return z\n",
    "    \n",
    "# factorial(6)\n",
    "# cur = find_sum(0)\n",
    "# print(cur)\n",
    "\n",
    "k=0\n",
    "prev=0\n",
    "\n",
    "def estimate_pi():\n",
    "    k=0\n",
    "    tot=0\n",
    "    prev=0\n",
    "    while True:\n",
    "        c = eval('((2*math.sqrt(2)) / 9801)')\n",
    "        x1=eval('1103 + (26390 * k)')\n",
    "        y1=factorial(4*k)\n",
    "        a=factorial(k)\n",
    "        a1=a**4\n",
    "        b1=396**(4*k)\n",
    "        z=(c * (x1 * y1) / (a1 * b1))\n",
    "        tot += z\n",
    "#        print(z, tot)\n",
    "        if abs(z) <= diff:\n",
    "            print(1/tot)\n",
    "            break\n",
    "        else:\n",
    "            k=k+1\n",
    "#            print(k, z, tot, 1/tot)\n",
    "\n",
    "estimate_pi()"
   ]
  },
  {
   "cell_type": "code",
   "execution_count": 19,
   "metadata": {
    "scrolled": true
   },
   "outputs": [
    {
     "name": "stdout",
     "output_type": "stream",
     "text": [
      "3.141592653589793\n"
     ]
    }
   ],
   "source": [
    "# SOLUTION - FROM LINK\n",
    "\n",
    "import math\n",
    "\n",
    "def factorial(n):\n",
    "    \"\"\"Computes factorial of n recursively.\"\"\"\n",
    "    if n == 0:\n",
    "        return 1\n",
    "    else:\n",
    "        recurse = factorial(n-1)\n",
    "        result = n * recurse\n",
    "        return result\n",
    "\n",
    "\n",
    "def estimate_pi():\n",
    "    \"\"\"Computes an estimate of pi.\n",
    "\n",
    "    Algorithm due to Srinivasa Ramanujan, from \n",
    "    http://en.wikipedia.org/wiki/Pi\n",
    "    \"\"\"\n",
    "    total = 0\n",
    "    k = 0\n",
    "    factor = 2 * math.sqrt(2) / 9801\n",
    "    while True:\n",
    "        num = factorial(4*k) * (1103 + 26390*k)\n",
    "        den = factorial(k)**4 * 396**(4*k)\n",
    "        term = factor * num / den\n",
    "        total += term\n",
    "        \n",
    "        if abs(term) < 1e-15:\n",
    "            break\n",
    "        k += 1\n",
    "\n",
    "    return 1 / total\n",
    "\n",
    "print(estimate_pi())"
   ]
  },
  {
   "cell_type": "code",
   "execution_count": null,
   "metadata": {},
   "outputs": [],
   "source": [
    "### CHAPTER 8"
   ]
  },
  {
   "cell_type": "code",
   "execution_count": 48,
   "metadata": {},
   "outputs": [
    {
     "data": {
      "text/plain": [
       "'\\n###\\n8.13 Exercises\\nExercise 8.1.\\nRead the documentation of the string methods at http://docs.python.org/3/library/stdtypes.html#string-methods . \\nYou might want to experiment with some of them in the next cell to make sure you understand how they work. strip and \\nreplace are particularly useful.\\n\\nThe documentation uses a syntax that might be confusing. For example, in find(sub[, start[, end]]), the brackets \\nindicate optional arguments. So sub is required, but start is optional, and if you include start, then end is optional.\\n###\\n'"
      ]
     },
     "execution_count": 48,
     "metadata": {},
     "output_type": "execute_result"
    }
   ],
   "source": [
    "\"\"\"\n",
    "###\n",
    "8.13 Exercises\n",
    "Exercise 8.1.\n",
    "Read the documentation of the string methods at http://docs.python.org/3/library/stdtypes.html#string-methods . \n",
    "You might want to experiment with some of them in the next cell to make sure you understand how they work. strip and \n",
    "replace are particularly useful.\n",
    "\n",
    "The documentation uses a syntax that might be confusing. For example, in find(sub[, start[, end]]), the brackets \n",
    "indicate optional arguments. So sub is required, but start is optional, and if you include start, then end is optional.\n",
    "###\n",
    "\"\"\""
   ]
  },
  {
   "cell_type": "code",
   "execution_count": 59,
   "metadata": {
    "scrolled": false
   },
   "outputs": [
    {
     "data": {
      "text/plain": [
       "'Shaila'"
      ]
     },
     "execution_count": 59,
     "metadata": {},
     "output_type": "execute_result"
    }
   ],
   "source": [
    "# PRACTICE from LINK ABOVE EXERCISE PRACTICE FOR 8.1 COMPLETED\n",
    "# Capitalize first letter\n",
    "x='shaila'\n",
    "str.capitalize(x)"
   ]
  },
  {
   "cell_type": "code",
   "execution_count": 58,
   "metadata": {},
   "outputs": [
    {
     "data": {
      "text/plain": [
       "'shaila'"
      ]
     },
     "execution_count": 58,
     "metadata": {},
     "output_type": "execute_result"
    }
   ],
   "source": [
    "# Casefolded strings may be used for caseless matching\n",
    "x='SHAILA'\n",
    "str.casefold(x)"
   ]
  },
  {
   "cell_type": "code",
   "execution_count": 64,
   "metadata": {
    "scrolled": true
   },
   "outputs": [
    {
     "data": {
      "text/plain": [
       "'yyyshailayy'"
      ]
     },
     "execution_count": 64,
     "metadata": {},
     "output_type": "execute_result"
    }
   ],
   "source": [
    "# return centered string\n",
    "x='shaila'\n",
    "x.center(11, 'y')"
   ]
  },
  {
   "cell_type": "code",
   "execution_count": 77,
   "metadata": {
    "scrolled": false
   },
   "outputs": [
    {
     "data": {
      "text/plain": [
       "2"
      ]
     },
     "execution_count": 77,
     "metadata": {},
     "output_type": "execute_result"
    }
   ],
   "source": [
    "# return number of non-overlapping occurances of sub-string in range start,end\n",
    "x='shaila'\n",
    "x.count('la', 0, 10)\n",
    "x.count('a', 0, 10)"
   ]
  },
  {
   "cell_type": "code",
   "execution_count": 69,
   "metadata": {
    "scrolled": true
   },
   "outputs": [
    {
     "data": {
      "text/plain": [
       "'Shaila'"
      ]
     },
     "execution_count": 69,
     "metadata": {},
     "output_type": "execute_result"
    }
   ],
   "source": [
    "# also capitalizes first letter\n",
    "x='shaila'\n",
    "str.title(x)"
   ]
  },
  {
   "cell_type": "code",
   "execution_count": 73,
   "metadata": {},
   "outputs": [
    {
     "data": {
      "text/plain": [
       "False"
      ]
     },
     "execution_count": 73,
     "metadata": {},
     "output_type": "execute_result"
    }
   ],
   "source": [
    "# returns true if endswith is true or false\n",
    "x='shaila'\n",
    "str.endswith(x,'y')    # below also works\n",
    "x.endswith('y')"
   ]
  },
  {
   "cell_type": "code",
   "execution_count": 76,
   "metadata": {},
   "outputs": [
    {
     "data": {
      "text/plain": [
       "2"
      ]
     },
     "execution_count": 76,
     "metadata": {},
     "output_type": "execute_result"
    }
   ],
   "source": [
    "# also capitalizes first letter\n",
    "x='shaila'\n",
    "str.endswith(x,'y')    # below also works\n",
    "x.index('a')"
   ]
  },
  {
   "cell_type": "code",
   "execution_count": 82,
   "metadata": {},
   "outputs": [
    {
     "data": {
      "text/plain": [
       "4"
      ]
     },
     "execution_count": 82,
     "metadata": {},
     "output_type": "execute_result"
    }
   ],
   "source": [
    "# finds substring start,end\n",
    "x='shaila'\n",
    "x.find('la', 0, 10)                     # WHY DOES THIS SHOW 4\n",
    "#x.find('a', 0, 10)"
   ]
  },
  {
   "cell_type": "code",
   "execution_count": 85,
   "metadata": {
    "scrolled": true
   },
   "outputs": [
    {
     "data": {
      "text/plain": [
       "['sh', 'il', '']"
      ]
     },
     "execution_count": 85,
     "metadata": {},
     "output_type": "execute_result"
    }
   ],
   "source": [
    "x='shaila'\n",
    "x.split('a')"
   ]
  },
  {
   "cell_type": "code",
   "execution_count": null,
   "metadata": {
    "scrolled": false
   },
   "outputs": [],
   "source": [
    "\"\"\"\n",
    "###\n",
    "str.center(width[, fillchar])\n",
    "Return centered in a string of length width. Padding is done using the specified fillchar (default is an ASCII space). \n",
    "The original string is returned if width is less than or equal to len(s).\n",
    "\n",
    "str.count(sub[, start[, end]])\n",
    "Return the number of non-overlapping occurrences of substring sub in the range [start, end]. \n",
    "Optional arguments start and end are interpreted as in slice notation.\n",
    "\n",
    "str.encode(encoding=\"utf-8\", errors=\"strict\")\n",
    "Return an encoded version of the string as a bytes object. Default encoding is 'utf-8'. errors may be given to set a different error handling scheme. The default for errors is 'strict', meaning that encoding errors raise a UnicodeError. Other possible values are 'ignore', 'replace', 'xmlcharrefreplace', 'backslashreplace' and any other name registered via codecs.register_error(), see section Error Handlers. For a list of possible encodings, see section Standard Encodings.\n",
    "\n",
    "Changed in version 3.1: Support for keyword arguments added.\n",
    "\n",
    "str.endswith(suffix[, start[, end]])\n",
    "Return True if the string ends with the specified suffix, otherwise return False. \n",
    "suffix can also be a tuple of suffixes to look for. With optional start, test beginning at that position. \n",
    "With optional end, stop comparing at that position.\n",
    "\n",
    "str.expandtabs(tabsize=8)\n",
    "Return a copy of the string where all tab characters are replaced by one or more spaces, depending on the current column and the given tab size. Tab positions occur every tabsize characters (default is 8, giving tab positions at columns 0, 8, 16 and so on). To expand the string, the current column is set to zero and the string is examined character by character. If the character is a tab (\\t), one or more space characters are inserted in the result until the current column is equal to the next tab position. (The tab character itself is not copied.) If the character is a newline (\\n) or return (\\r), it is copied and the current column is reset to zero. Any other character is copied unchanged and the current column is incremented by one regardless of how the character is represented when printed.\n",
    "\n",
    ">>> '01\\t012\\t0123\\t01234'.expandtabs()\n",
    "'01      012     0123    01234'\n",
    ">>> '01\\t012\\t0123\\t01234'.expandtabs(4)\n",
    "'01  012 0123    01234'\n",
    "str.find(sub[, start[, end]])\n",
    "Return the lowest index in the string where substring sub is found within the slice s[start:end]. Optional arguments start and end are interpreted as in slice notation. Return -1 if sub is not found.\n",
    "\n",
    "Note The find() method should be used only if you need to know the position of sub. To check if sub is a substring or not, use the in operator:\n",
    ">>>\n",
    ">>> 'Py' in 'Python'\n",
    "True\n",
    "str.format(*args, **kwargs)\n",
    "Perform a string formatting operation. The string on which this method is called can contain literal text or replacement fields delimited by braces {}. Each replacement field contains either the numeric index of a positional argument, or the name of a keyword argument. Returns a copy of the string where each replacement field is replaced with the string value of the corresponding argument.\n",
    "\n",
    ">>> \"The sum of 1 + 2 is {0}\".format(1+2)\n",
    "'The sum of 1 + 2 is 3'\n",
    "See Format String Syntax for a description of the various formatting options that can be specified in format strings.\n",
    "\n",
    "Note When formatting a number (int, float, complex, decimal.Decimal and subclasses) with the n type (ex: '{:n}'.format(1234)), the function temporarily sets the LC_CTYPE locale to the LC_NUMERIC locale to decode decimal_point and thousands_sep fields of localeconv() if they are non-ASCII or longer than 1 byte, and the LC_NUMERIC locale is different than the LC_CTYPE locale. This temporary change affects other threads.\n",
    "Changed in version 3.7: When formatting a number with the n type, the function sets temporarily the LC_CTYPE locale to the LC_NUMERIC locale in some cases.\n",
    "\n",
    "str.format_map(mapping)\n",
    "Similar to str.format(**mapping), except that mapping is used directly and not copied to a dict. This is useful if for example mapping is a dict subclass:\n",
    "\n",
    ">>> class Default(dict):\n",
    "...     def __missing__(self, key):\n",
    "...         return key\n",
    "...\n",
    ">>> '{name} was born in {country}'.format_map(Default(name='Guido'))\n",
    "'Guido was born in country'\n",
    "New in version 3.2.\n",
    "\n",
    "str.index(sub[, start[, end]])\n",
    "Like find(), but raise ValueError when the substring is not found.\n",
    "\n",
    "str.isalnum()\n",
    "Return true if all characters in the string are alphanumeric and there is at least one character, false otherwise. A character c is alphanumeric if one of the following returns True: c.isalpha(), c.isdecimal(), c.isdigit(), or c.isnumeric().\n",
    "\n",
    "str.isalpha()\n",
    "Return true if all characters in the string are alphabetic and there is at least one character, false otherwise. Alphabetic characters are those characters defined in the Unicode character database as “Letter”, i.e., those with general category property being one of “Lm”, “Lt”, “Lu”, “Ll”, or “Lo”. Note that this is different from the “Alphabetic” property defined in the Unicode Standard.\n",
    "\n",
    "str.isascii()\n",
    "Return true if the string is empty or all characters in the string are ASCII, false otherwise. ASCII characters have code points in the range U+0000-U+007F.\n",
    "\n",
    "New in version 3.7.\n",
    "\n",
    "str.isdecimal()\n",
    "Return true if all characters in the string are decimal characters and there is at least one character, false otherwise. Decimal characters are those that can be used to form numbers in base 10, e.g. U+0660, ARABIC-INDIC DIGIT ZERO. Formally a decimal character is a character in the Unicode General Category “Nd”.\n",
    "\n",
    "str.isdigit()\n",
    "Return true if all characters in the string are digits and there is at least one character, false otherwise. Digits include decimal characters and digits that need special handling, such as the compatibility superscript digits. This covers digits which cannot be used to form numbers in base 10, like the Kharosthi numbers. Formally, a digit is a character that has the property value Numeric_Type=Digit or Numeric_Type=Decimal.\n",
    "\n",
    "str.isidentifier()\n",
    "Return true if the string is a valid identifier according to the language definition, section Identifiers and keywords.\n",
    "\n",
    "Use keyword.iskeyword() to test for reserved identifiers such as def and class.\n",
    "\n",
    "str.islower()\n",
    "Return true if all cased characters 4 in the string are lowercase and there is at least one cased character, false otherwise.\n",
    "\n",
    "str.isnumeric()\n",
    "Return true if all characters in the string are numeric characters, and there is at least one character, false otherwise. Numeric characters include digit characters, and all characters that have the Unicode numeric value property, e.g. U+2155, VULGAR FRACTION ONE FIFTH. Formally, numeric characters are those with the property value Numeric_Type=Digit, Numeric_Type=Decimal or Numeric_Type=Numeric.\n",
    "\n",
    "str.isprintable()\n",
    "Return true if all characters in the string are printable or the string is empty, false otherwise. Nonprintable characters are those characters defined in the Unicode character database as “Other” or “Separator”, excepting the ASCII space (0x20) which is considered printable. (Note that printable characters in this context are those which should not be escaped when repr() is invoked on a string. It has no bearing on the handling of strings written to sys.stdout or sys.stderr.)\n",
    "\n",
    "str.isspace()\n",
    "Return true if there are only whitespace characters in the string and there is at least one character, false otherwise.\n",
    "\n",
    "A character is whitespace if in the Unicode character database (see unicodedata), either its general category is Zs (“Separator, space”), or its bidirectional class is one of WS, B, or S.\n",
    "\n",
    "str.istitle()\n",
    "Return true if the string is a titlecased string and there is at least one character, for example uppercase characters may only follow uncased characters and lowercase characters only cased ones. Return false otherwise.\n",
    "\n",
    "str.isupper()\n",
    "Return true if all cased characters 4 in the string are uppercase and there is at least one cased character, false otherwise.\n",
    "\n",
    "str.join(iterable)\n",
    "Return a string which is the concatenation of the strings in iterable. A TypeError will be raised if there are any non-string values in iterable, including bytes objects. The separator between elements is the string providing this method.\n",
    "\n",
    "str.ljust(width[, fillchar])\n",
    "Return the string left justified in a string of length width. Padding is done using the specified fillchar (default is an ASCII space). The original string is returned if width is less than or equal to len(s).\n",
    "\n",
    "str.lower()\n",
    "Return a copy of the string with all the cased characters 4 converted to lowercase.\n",
    "\n",
    "The lowercasing algorithm used is described in section 3.13 of the Unicode Standard.\n",
    "\n",
    "str.lstrip([chars])\n",
    "Return a copy of the string with leading characters removed. The chars argument is a string specifying the set of characters to be removed. If omitted or None, the chars argument defaults to removing whitespace. The chars argument is not a prefix; rather, all combinations of its values are stripped:\n",
    "\n",
    ">>>\n",
    ">>> '   spacious   '.lstrip()\n",
    "'spacious   '\n",
    ">>> 'www.example.com'.lstrip('cmowz.')\n",
    "'example.com'\n",
    "static str.maketrans(x[, y[, z]])\n",
    "This static method returns a translation table usable for str.translate().\n",
    "\n",
    "If there is only one argument, it must be a dictionary mapping Unicode ordinals (integers) or characters (strings of length 1) to Unicode ordinals, strings (of arbitrary lengths) or None. Character keys will then be converted to ordinals.\n",
    "\n",
    "If there are two arguments, they must be strings of equal length, and in the resulting dictionary, each character in x will be mapped to the character at the same position in y. If there is a third argument, it must be a string, whose characters will be mapped to None in the result.\n",
    "\n",
    "str.partition(sep)\n",
    "Split the string at the first occurrence of sep, and return a 3-tuple containing the part before the separator, the separator itself, and the part after the separator. If the separator is not found, return a 3-tuple containing the string itself, followed by two empty strings.\n",
    "\n",
    "str.replace(old, new[, count])\n",
    "Return a copy of the string with all occurrences of substring old replaced by new. If the optional argument count is given, only the first count occurrences are replaced.\n",
    "\n",
    "str.rfind(sub[, start[, end]])\n",
    "Return the highest index in the string where substring sub is found, such that sub is contained within s[start:end]. Optional arguments start and end are interpreted as in slice notation. Return -1 on failure.\n",
    "\n",
    "str.rindex(sub[, start[, end]])\n",
    "Like rfind() but raises ValueError when the substring sub is not found.\n",
    "\n",
    "str.rjust(width[, fillchar])\n",
    "Return the string right justified in a string of length width. Padding is done using the specified fillchar (default is an ASCII space). The original string is returned if width is less than or equal to len(s).\n",
    "\n",
    "str.rpartition(sep)\n",
    "Split the string at the last occurrence of sep, and return a 3-tuple containing the part before the separator, the separator itself, and the part after the separator. If the separator is not found, return a 3-tuple containing two empty strings, followed by the string itself.\n",
    "\n",
    "str.rsplit(sep=None, maxsplit=-1)\n",
    "Return a list of the words in the string, using sep as the delimiter string. If maxsplit is given, at most maxsplit splits are done, the rightmost ones. If sep is not specified or None, any whitespace string is a separator. Except for splitting from the right, rsplit() behaves like split() which is described in detail below.\n",
    "\n",
    "str.rstrip([chars])\n",
    "Return a copy of the string with trailing characters removed. The chars argument is a string specifying the set of characters to be removed. If omitted or None, the chars argument defaults to removing whitespace. The chars argument is not a suffix; rather, all combinations of its values are stripped:\n",
    "\n",
    ">>>\n",
    ">>> '   spacious   '.rstrip()\n",
    "'   spacious'\n",
    ">>> 'mississippi'.rstrip('ipz')\n",
    "'mississ'\n",
    "str.split(sep=None, maxsplit=-1)\n",
    "Return a list of the words in the string, using sep as the delimiter string. If maxsplit is given, at most maxsplit splits are done (thus, the list will have at most maxsplit+1 elements). If maxsplit is not specified or -1, then there is no limit on the number of splits (all possible splits are made).\n",
    "\n",
    "If sep is given, consecutive delimiters are not grouped together and are deemed to delimit empty strings (for example, '1,,2'.split(',') returns ['1', '', '2']). The sep argument may consist of multiple characters (for example, '1<>2<>3'.split('<>') returns ['1', '2', '3']). Splitting an empty string with a specified separator returns [''].\n",
    "\n",
    "For example:\n",
    "\n",
    ">>>\n",
    ">>> '1,2,3'.split(',')\n",
    "['1', '2', '3']\n",
    ">>> '1,2,3'.split(',', maxsplit=1)\n",
    "['1', '2,3']\n",
    ">>> '1,2,,3,'.split(',')\n",
    "['1', '2', '', '3', '']\n",
    "If sep is not specified or is None, a different splitting algorithm is applied: runs of consecutive whitespace are regarded as a single separator, and the result will contain no empty strings at the start or end if the string has leading or trailing whitespace. Consequently, splitting an empty string or a string consisting of just whitespace with a None separator returns [].\n",
    "\n",
    "For example:\n",
    "\n",
    ">>>\n",
    ">>> '1 2 3'.split()\n",
    "['1', '2', '3']\n",
    ">>> '1 2 3'.split(maxsplit=1)\n",
    "['1', '2 3']\n",
    ">>> '   1   2   3   '.split()\n",
    "['1', '2', '3']\n",
    "str.splitlines([keepends])\n",
    "Return a list of the lines in the string, breaking at line boundaries. Line breaks are not included in the resulting list unless keepends is given and true.\n",
    "\n",
    "This method splits on the following line boundaries. In particular, the boundaries are a superset of universal newlines.\n",
    "\n",
    "Representation\n",
    "\n",
    "Description\n",
    "\n",
    "\\n\n",
    "\n",
    "Line Feed\n",
    "\n",
    "\\r\n",
    "\n",
    "Carriage Return\n",
    "\n",
    "\\r\\n\n",
    "\n",
    "Carriage Return + Line Feed\n",
    "\n",
    "\\v or \\x0b\n",
    "\n",
    "Line Tabulation\n",
    "\n",
    "\\f or \\x0c\n",
    "\n",
    "Form Feed\n",
    "\n",
    "\\x1c\n",
    "\n",
    "File Separator\n",
    "\n",
    "\\x1d\n",
    "\n",
    "Group Separator\n",
    "\n",
    "\\x1e\n",
    "\n",
    "Record Separator\n",
    "\n",
    "\\x85\n",
    "\n",
    "Next Line (C1 Control Code)\n",
    "\n",
    "\\u2028\n",
    "\n",
    "Line Separator\n",
    "\n",
    "\\u2029\n",
    "\n",
    "Paragraph Separator\n",
    "\n",
    "Changed in version 3.2: \\v and \\f added to list of line boundaries.\n",
    "\n",
    "For example:\n",
    "\n",
    ">>>\n",
    ">>> 'ab c\\n\\nde fg\\rkl\\r\\n'.splitlines()\n",
    "['ab c', '', 'de fg', 'kl']\n",
    ">>> 'ab c\\n\\nde fg\\rkl\\r\\n'.splitlines(keepends=True)\n",
    "['ab c\\n', '\\n', 'de fg\\r', 'kl\\r\\n']\n",
    "Unlike split() when a delimiter string sep is given, this method returns an empty list for the empty string, and a terminal line break does not result in an extra line:\n",
    "\n",
    ">>>\n",
    ">>> \"\".splitlines()\n",
    "[]\n",
    ">>> \"One line\\n\".splitlines()\n",
    "['One line']\n",
    "For comparison, split('\\n') gives:\n",
    "\n",
    ">>>\n",
    ">>> ''.split('\\n')\n",
    "['']\n",
    ">>> 'Two lines\\n'.split('\\n')\n",
    "['Two lines', '']\n",
    "str.startswith(prefix[, start[, end]])\n",
    "Return True if string starts with the prefix, otherwise return False. prefix can also be a tuple of prefixes to look for. With optional start, test string beginning at that position. With optional end, stop comparing string at that position.\n",
    "\n",
    "str.strip([chars])\n",
    "Return a copy of the string with the leading and trailing characters removed. The chars argument is a string specifying the set of characters to be removed. If omitted or None, the chars argument defaults to removing whitespace. The chars argument is not a prefix or suffix; rather, all combinations of its values are stripped:\n",
    "\n",
    ">>>\n",
    ">>> '   spacious   '.strip()\n",
    "'spacious'\n",
    ">>> 'www.example.com'.strip('cmowz.')\n",
    "'example'\n",
    "The outermost leading and trailing chars argument values are stripped from the string. Characters are removed from the leading end until reaching a string character that is not contained in the set of characters in chars. A similar action takes place on the trailing end. For example:\n",
    "\n",
    ">>>\n",
    ">>> comment_string = '#....... Section 3.2.1 Issue #32 .......'\n",
    ">>> comment_string.strip('.#! ')\n",
    "'Section 3.2.1 Issue #32'\n",
    "str.swapcase()\n",
    "Return a copy of the string with uppercase characters converted to lowercase and vice versa. Note that it is not necessarily true that s.swapcase().swapcase() == s.\n",
    "\n",
    "str.title()\n",
    "Return a titlecased version of the string where words start with an uppercase character and the remaining characters are lowercase.\n",
    "\n",
    "For example:\n",
    "\n",
    ">>>\n",
    ">>> 'Hello world'.title()\n",
    "'Hello World'\n",
    "The algorithm uses a simple language-independent definition of a word as groups of consecutive letters. The definition works in many contexts but it means that apostrophes in contractions and possessives form word boundaries, which may not be the desired result:\n",
    "\n",
    ">>>\n",
    ">>> \"they're bill's friends from the UK\".title()\n",
    "\"They'Re Bill'S Friends From The Uk\"\n",
    "A workaround for apostrophes can be constructed using regular expressions:\n",
    "\n",
    ">>>\n",
    ">>> import re\n",
    ">>> def titlecase(s):\n",
    "...     return re.sub(r\"[A-Za-z]+('[A-Za-z]+)?\",\n",
    "...                   lambda mo: mo.group(0)[0].upper() +\n",
    "...                              mo.group(0)[1:].lower(),\n",
    "...                   s)\n",
    "...\n",
    ">>> titlecase(\"they're bill's friends.\")\n",
    "\"They're Bill's Friends.\"\n",
    "str.translate(table)\n",
    "Return a copy of the string in which each character has been mapped through the given translation table. The table must be an object that implements indexing via __getitem__(), typically a mapping or sequence. When indexed by a Unicode ordinal (an integer), the table object can do any of the following: return a Unicode ordinal or a string, to map the character to one or more other characters; return None, to delete the character from the return string; or raise a LookupError exception, to map the character to itself.\n",
    "\n",
    "You can use str.maketrans() to create a translation map from character-to-character mappings in different formats.\n",
    "\n",
    "See also the codecs module for a more flexible approach to custom character mappings.\n",
    "\n",
    "str.upper()\n",
    "Return a copy of the string with all the cased characters 4 converted to uppercase. Note that s.upper().isupper() might be False if s contains uncased characters or if the Unicode category of the resulting character(s) is not “Lu” (Letter, uppercase), but e.g. “Lt” (Letter, titlecase).\n",
    "\n",
    "The uppercasing algorithm used is described in section 3.13 of the Unicode Standard.\n",
    "\n",
    "str.zfill(width)\n",
    "Return a copy of the string left filled with ASCII '0' digits to make a string of length width. A leading sign prefix ('+'/'-') is handled by inserting the padding after the sign character rather than before. The original string is returned if width is less than or equal to len(s).\n",
    "\n",
    "For example:\n",
    "\n",
    ">>>\n",
    ">>> \"42\".zfill(5)\n",
    "'00042'\n",
    ">>> \"-42\".zfill(5)\n",
    "'-0042'\n",
    "###\"\"\"\n",
    "\n",
    "#clear_output()"
   ]
  },
  {
   "cell_type": "code",
   "execution_count": 57,
   "metadata": {},
   "outputs": [
    {
     "name": "stdout",
     "output_type": "stream",
     "text": [
      "3\n",
      "The number of a's in  banana is  3\n"
     ]
    }
   ],
   "source": [
    "# 8.2 COMPLETED\n",
    "# Exercise 8.2.\n",
    "# There is a string method called count that is similar to the function in Section 8.7. \n",
    "# Read the documentation of this method and write an invocation that counts the number of a’s in 'banana'\n",
    "# 8.7 method:\n",
    "#word = 'banana'\n",
    "#count = 0\n",
    "#for letter in word:\n",
    "#    if letter == 'a':\n",
    "#        count = count + 1\n",
    "#print(count)\n",
    "\n",
    "word = 'banana'\n",
    "print(word.count('a'))\n",
    "print(\"The number of a's in \", word, \"is \", word.count('a'))"
   ]
  },
  {
   "cell_type": "code",
   "execution_count": 5,
   "metadata": {},
   "outputs": [
    {
     "data": {
      "text/plain": [
       "'banana'"
      ]
     },
     "execution_count": 5,
     "metadata": {},
     "output_type": "execute_result"
    }
   ],
   "source": [
    "# 8.3 COMPLETED\n",
    "# A string slice can take a third index that specifies the “step size”; that is, the number of spaces between \n",
    "# successive characters. A step size of 2 means every other character; 3 means every third, etc.\n",
    "# fruit = 'banana' fruit[0:5:2] 'bnn' A step size of -1 goes through the word backwards, so the slice [::-1] \n",
    "# generates a reversed string. Use this idiom to write a one-line version of is_palindrome from Exercise 6.3.\n",
    "fruit = 'banana'\n",
    "fruit[0:5:2]               # 0 to 5 in steps of 2 or every other character; step size=3 means every 3rd char\n",
    "fruit[::-1]                 # prints banana in reverse\n",
    "fruit[::1]"
   ]
  },
  {
   "cell_type": "code",
   "execution_count": 12,
   "metadata": {},
   "outputs": [
    {
     "name": "stdout",
     "output_type": "stream",
     "text": [
      "  noxyx is NOT a palindrome\n"
     ]
    }
   ],
   "source": [
    "# one line version os is_palindrome from Exercise 6.3\n",
    "def is_one_palindrome(word):\n",
    "    if (word[::1] == word[::-1]):\n",
    "        print(\" \",word, \"is a palindrome\")\n",
    "    else:\n",
    "        print(\" \",word, \"is NOT a palindrome\")\n",
    "is_one_palindrome('noxyx')"
   ]
  },
  {
   "cell_type": "code",
   "execution_count": 76,
   "metadata": {},
   "outputs": [
    {
     "data": {
      "text/plain": [
       "False"
      ]
     },
     "execution_count": 76,
     "metadata": {},
     "output_type": "execute_result"
    }
   ],
   "source": [
    "# 8.4 COMPLETED\n",
    "# The following functions are all intended to check whether a string contains any lowercase letters, but at least \n",
    "# some of them are wrong. For each function, describe what the function actually does (assuming that the parameter \n",
    "# is a string).\n",
    "\n",
    "def any_lowercase1(s):\n",
    "    for c in s:\n",
    "        if c.islower():\n",
    "            return True\n",
    "        else:\n",
    "            return False\n",
    "        \n",
    "# Returns True if FIRST CHARACTER in string is lower case\n",
    "\n",
    "def any_lowercase2(s):\n",
    "    for c in s:\n",
    "        if 'c'.islower():\n",
    "            return 'True'\n",
    "        else:\n",
    "            return 'False'\n",
    "        \n",
    "# Always returns True\n",
    "\n",
    "def any_lowercase3(s):\n",
    "    for c in s:\n",
    "        flag = c.islower()\n",
    "    return flag\n",
    "\n",
    "# returns True if ANY one CHAR is lower case, else false (Does each character compare)\n",
    "\n",
    "def any_lowercase4(s):\n",
    "    flag = False\n",
    "    for c in s:\n",
    "        flag = flag or c.islower()\n",
    "    return flag\n",
    "\n",
    "# returns True if ANY one CHAR is lower case, else false (Does each character compare)\n",
    "\n",
    "def any_lowercase5(s):\n",
    "    for c in s:\n",
    "        if not c.islower():\n",
    "            return False\n",
    "    return True\n",
    "\n",
    "# returns True if ALL characters are lowercase\n",
    "\n",
    "x='sSSSs'\n",
    "any_lowercase5(x)"
   ]
  },
  {
   "cell_type": "code",
   "execution_count": 78,
   "metadata": {},
   "outputs": [
    {
     "data": {
      "text/plain": [
       "2"
      ]
     },
     "execution_count": 78,
     "metadata": {},
     "output_type": "execute_result"
    }
   ],
   "source": [
    "# 8.5 COMPLETED\n",
    "# Exercise 8.5.\n",
    "# A Caesar cypher is a weak form of encryption that involves “rotating” each letter by a fixed number of places. \n",
    "# To rotate a letter means to shift it through the alphabet, wrapping around to the beginning if necessary, so ’A’ \n",
    "# rotated by 3 is ’D’ and ’Z’ rotated by 1 is ’A’.\n",
    "\n",
    "# To rotate a word, rotate each letter by the same amount. For example, “cheer” rotated by 7 is “jolly” and “melon” \n",
    "# rotated by -10 is “cubed”. In the movie 2001: A Space Odyssey, the ship computer is called HAL, which is IBM rotated by -1.\n",
    "\n",
    "# Write a function called rotate_word that takes a string and an integer as parameters, and returns a new string that \n",
    "# contains the letters from the original string rotated by the given amount.\n",
    "\n",
    "# You might want to use the built-in function ord, which converts a character to a numeric code, and chr, which converts \n",
    "# numeric codes to characters. Letters of the alphabet are encoded in alphabetical order, so for example:\n",
    "\n",
    "ord('c') - ord('a')\n",
    "\n",
    "# Because 'c' is the two-eth letter of the alphabet. But beware: the numeric codes for upper case letters are different.\n",
    "\n",
    "# Potentially offensive jokes on the Internet are sometimes encoded in ROT13, which is a Caesar cypher with rotation 13. \n",
    "# If you are not easily offended, find and decode some of them."
   ]
  },
  {
   "cell_type": "code",
   "execution_count": 120,
   "metadata": {},
   "outputs": [
    {
     "name": "stdout",
     "output_type": "stream",
     "text": [
      "122\n",
      "z\n"
     ]
    }
   ],
   "source": [
    "print(ord('z'))\n",
    "print(chr(122))"
   ]
  },
  {
   "cell_type": "code",
   "execution_count": 58,
   "metadata": {
    "scrolled": true
   },
   "outputs": [
    {
     "name": "stdout",
     "output_type": "stream",
     "text": [
      "Please enter a string :Shaila\n",
      "Please enter a value for string rotation :2\n",
      "Shaila 2\n",
      "<class 'str'>\n",
      "<class 'int'>\n",
      "The modified word for  Shaila rotated by 2 is  Ujcknc\n"
     ]
    }
   ],
   "source": [
    "# SOLUTION WITH INPUT PROMPTING, WORD ROTATION WITH CASE HANDLING(upper and lower)\n",
    "\n",
    "def get_num(x,n):\n",
    "    if(65 <= x <=90):\n",
    "        upper=x+n\n",
    "        if(65 <= upper <= 90):\n",
    "            return upper\n",
    "        else:\n",
    "            mod=upper-90\n",
    "            newupper=65+mod-1\n",
    "            return newupper    \n",
    "    if(97 <= x <= 122):\n",
    "        lower=x+n\n",
    "        if(97 <= lower <= 122):\n",
    "            return lower\n",
    "        else:\n",
    "            ext=lower-122\n",
    "            newlower=97+ext-1\n",
    "            return newlower \n",
    "        \n",
    "# A-Z is 65-90 and a-z is 97-122\n",
    "\n",
    "def rotate_word(word,n,new):\n",
    "    length=len(word)\n",
    "    for i in range(0,length):\n",
    "        x=chr(get_num(ord(word[i]),n))\n",
    "        new+=x\n",
    "#        print(word[i],x, new)\n",
    "    return new\n",
    "#        return new\n",
    "\n",
    "while True:\n",
    "    word=input(\"Please enter a string :\")\n",
    "    if (type(word) != str):\n",
    "        print(\"Invalid input, please enter a string\")\n",
    "    else:\n",
    "        val=input(\"Please enter a value for string rotation :\")\n",
    "        if (type(int(val)) != int):\n",
    "            print(\"Invalid input, please enter a number\")\n",
    "        break\n",
    "        \n",
    "new=''\n",
    "print(word,int(val))\n",
    "print(type(word))\n",
    "n=int(val)\n",
    "print(type(n))\n",
    "word_mod = rotate_word(word,n,new)\n",
    "print(\"The modified word for \", word, \"rotated by\", n, \"is \",word_mod)"
   ]
  },
  {
   "cell_type": "code",
   "execution_count": 14,
   "metadata": {},
   "outputs": [
    {
     "name": "stdout",
     "output_type": "stream",
     "text": [
      "Modified word for  shaila  is  ujcknc\n"
     ]
    }
   ],
   "source": [
    "# THIS SOLUTION DOES NOT TAKE INTO ACCOUNT THE ROLLING OVER OF ALPHABETS OR CASE OF ALPHABETS\n",
    "def str_mod(word):\n",
    "    mod_word=''\n",
    "    for x in range (0,len(word)):\n",
    "        mod_word+=(chr(ord(word[x])+2))\n",
    "    print(\"Modified word for \", word, \" is \", mod_word)\n",
    "    \n",
    "str_mod('shaila')"
   ]
  },
  {
   "cell_type": "code",
   "execution_count": 20,
   "metadata": {},
   "outputs": [
    {
     "name": "stdout",
     "output_type": "stream",
     "text": [
      "The modified word is  Ujcknc\n"
     ]
    }
   ],
   "source": [
    "# SOLUTION WITHOUT INPUT PROMPTING\n",
    "\n",
    "def get_num(x,n):\n",
    "    if(65 <= x <=90):\n",
    "        upper=x+n\n",
    "        if(65 <= upper <= 90):\n",
    "            return upper\n",
    "        else:\n",
    "            mod=upper-90\n",
    "            newupper=65+mod-1\n",
    "            return newupper    \n",
    "    if(97 <= x <= 122):\n",
    "        lower=x+n\n",
    "        if(97 <= lower <= 122):\n",
    "            return lower\n",
    "        else:\n",
    "            ext=lower-122\n",
    "            newlower=97+ext-1\n",
    "            return newlower \n",
    "        \n",
    "# A-Z is 65-90 and a-z is 97-122\n",
    "\n",
    "def rotate_word(word,n,new):\n",
    "    length=len(word)\n",
    "    for i in range(0,length):\n",
    "        x=chr(get_num(ord(word[i]),n))\n",
    "        new+=x\n",
    "#        print(word[i],x, new)\n",
    "    return new\n",
    "#        return new\n",
    "\n",
    "\n",
    "        \n",
    "new=''\n",
    "word_mod = rotate_word('Shaila',2,new)\n",
    "print(\"The modified word is \",word_mod)"
   ]
  },
  {
   "cell_type": "markdown",
   "metadata": {},
   "source": [
    "CHAPTER 9 CLASSWORK - SHAILA\n",
    "----------------------------------------------------"
   ]
  },
  {
   "cell_type": "code",
   "execution_count": 11,
   "metadata": {},
   "outputs": [
    {
     "name": "stdout",
     "output_type": "stream",
     "text": [
      "Hi my name is Shaila\n",
      "I live in the Bayarea\n",
      "I am taking Python 1\n"
     ]
    }
   ],
   "source": [
    "# 9.1 COMPLETED\n",
    "# fin is file open\n",
    "# fin = open('file.txt')\n",
    "# fin.readline()  - reads char from file intil it encounters new line and returns result as a string\n",
    "# fin.readline() - 2nd time reads the next line\n",
    "# line = fin.readline()\n",
    "# word = line.strip() - gets rid of the \\n at the end of line\n",
    "# word - prints line without \\n\n",
    "# to print each word per line\n",
    "fin = open('words.txt')\n",
    "for line in fin:\n",
    "    word = line.strip() # gets rid of the \\n at the end of line\n",
    "    print(word)\n"
   ]
  },
  {
   "cell_type": "code",
   "execution_count": 10,
   "metadata": {},
   "outputs": [
    {
     "name": "stdout",
     "output_type": "stream",
     "text": [
      "Files in 'C:\\\\Users\\\\Owner\\\\Documents\\\\Classes\\\\Python 1\\\\InHome-09262019': ['.ipynb_checkpoints', 'CW4 - CH9-10 - 09262019.ipynb', 'words.txt.txt']\n"
     ]
    }
   ],
   "source": [
    "import os\n",
    "\n",
    "cwd = os.getcwd()  # Get the current working directory (cwd)\n",
    "files = os.listdir(cwd)  # Get all the files in that directory\n",
    "print(\"Files in %r: %s\" % (cwd, files))"
   ]
  },
  {
   "cell_type": "code",
   "execution_count": 15,
   "metadata": {},
   "outputs": [
    {
     "name": "stdout",
     "output_type": "stream",
     "text": [
      "Hi my name is Shaila Hanrahan 29\n",
      "I live in the Bayarea 21\n",
      "I am a citizen of the United States of America 46\n",
      "I have a very beautiful family 30\n",
      "I love my children very much 28\n"
     ]
    }
   ],
   "source": [
    "# 9.2 COMPLETED\n",
    "# 9.2.1 Write a program that reads words.txt and prints only the words with \n",
    "# more than 20 characters (not counting whitespace).\n",
    "# Below solution includes spaces\n",
    "\n",
    "fin = open('wordsMoreThan20.txt')\n",
    "for line in fin:\n",
    "    word = line.strip() # gets rid of the \\n at the end of line\n",
    "    count = len(word)\n",
    "    if count > 20:\n",
    "        print(word, count)\n",
    "    else:\n",
    "        pass"
   ]
  },
  {
   "cell_type": "code",
   "execution_count": 19,
   "metadata": {},
   "outputs": [
    {
     "name": "stdout",
     "output_type": "stream",
     "text": [
      "Hi my name is Shaila Hanrahan 29 5\n",
      "I live in the Bayarea 21 4\n",
      "I am a citizen of the United States of America 46 9\n",
      "I have a very beautiful family 30 5\n",
      "I love my children very much 28 5\n"
     ]
    }
   ],
   "source": [
    "# Below solution prints line, Number of Chars and Number of spaces\n",
    "\n",
    "def spacecount(word):\n",
    "    spcecnt = 0\n",
    "    for c in word:\n",
    "        if c.isspace():\n",
    "            spcecnt = spcecnt+1\n",
    "        else:\n",
    "            pass\n",
    "    return spcecnt\n",
    "\n",
    "fin = open('wordsMoreThan20.txt')\n",
    "for line in fin:\n",
    "    word = line.strip() # gets rid of the \\n at the end of line\n",
    "    count = len(word)\n",
    "    spacecounter = spacecount(word)\n",
    "    if count > 20:\n",
    "        print(word, count, spacecounter)\n",
    "    else:\n",
    "        pass"
   ]
  },
  {
   "cell_type": "code",
   "execution_count": 24,
   "metadata": {},
   "outputs": [
    {
     "name": "stdout",
     "output_type": "stream",
     "text": [
      "Hi my name is Shaila Hanrahan 29 5\n",
      "I am a citizen of the United States of America 46 9\n",
      "I have a very beautiful family 30 5\n",
      "I love my children very much 28 5\n"
     ]
    }
   ],
   "source": [
    "# Below solution prints line if Number of Chars without spaces is > 20\n",
    "\n",
    "def spacecount(word):\n",
    "    spcecnt = 0\n",
    "    for c in word:\n",
    "        if c.isspace():\n",
    "            spcecnt = spcecnt+1\n",
    "        else:\n",
    "            pass\n",
    "    return spcecnt\n",
    "\n",
    "fin = open('wordsMoreThan20.txt')\n",
    "for line in fin:\n",
    "    word = line.strip() # gets rid of the \\n at the end of line\n",
    "    count = len(word)\n",
    "    spacecounter = spacecount(word)\n",
    "    NumChars = count - spacecounter\n",
    "    if NumChars > 20:\n",
    "        print(word, count, spacecounter)\n",
    "    else:\n",
    "        pass"
   ]
  },
  {
   "cell_type": "code",
   "execution_count": 32,
   "metadata": {},
   "outputs": [
    {
     "name": "stdout",
     "output_type": "stream",
     "text": [
      "Hi my name is Shaila Hanrahan\n",
      "I live in California\n",
      "I am taking Python 1\n",
      "I am a citizen of the United States of America\n",
      "I have a very beautiful family\n",
      "I love mangoes\n",
      "I love my children very much\n",
      "All right, I'll stop now\n"
     ]
    }
   ],
   "source": [
    "# COMPLETED\n",
    "# Exercise 9.2. In 1939 Ernest Vincent Wright published a 50,000 word novel \n",
    "# called Gadsby that does not contain the letter “e”. Since “e” is the most \n",
    "# common letter in English, that’s not easy to do.\n",
    "\n",
    "# In fact, it is difficult to construct a solitary thought without using that \n",
    "# most common symbol. It is slow going at first, but with caution and hours of \n",
    "# training you can gradually gain facility. All right, I’ll stop now.\n",
    "\n",
    "# Write a function called has_no_e that returns True if the given word doesn’t \n",
    "# have the letter “e” in it.\n",
    "# Write a program that reads words.txt and prints only the words that have \n",
    "# no “e”. Compute the percentage of words in the list that have no “e”.\n",
    "\n",
    "def has_no_e(word):\n",
    "    for c in word:\n",
    "        if (c == 'e') or (c == 'E'):\n",
    "            eflag = 'Has E'\n",
    "            print(c, eflag)\n",
    "            return eflag\n",
    "        else:\n",
    "            eflag = 'No E'\n",
    "            return eflag\n",
    "\n",
    "\n",
    "\n",
    "fin = open('wordsNoE.txt')\n",
    "for line in fin:\n",
    "    word = line.strip() # gets rid of the \\n at the end of line\n",
    "    myflag = has_no_e(word)\n",
    "    if (myflag == 'No E'):\n",
    "        print(word)"
   ]
  },
  {
   "cell_type": "code",
   "execution_count": 58,
   "metadata": {},
   "outputs": [
    {
     "name": "stdout",
     "output_type": "stream",
     "text": [
      "I am taking Python 1\n",
      "All right, I'll stop now\n"
     ]
    }
   ],
   "source": [
    "def has_no_e(char):\n",
    "        if (char == 'e') or (char == 'E'):\n",
    "#            print(char)\n",
    "            return True\n",
    "        else:\n",
    "            eflag = 'No E'\n",
    "#            print(char)\n",
    "            return False\n",
    "\n",
    "fin = open('wordsNoE.txt')\n",
    "for line in fin:\n",
    "    word = line.strip()\n",
    "    eflag = False\n",
    "    for c in word[::1]:\n",
    "        eflag = eflag or has_no_e(c)\n",
    "#    print('eflag is ', eflag)\n",
    "    if eflag is False:\n",
    "        print(word)\n",
    "    else:\n",
    "        pass"
   ]
  },
  {
   "cell_type": "code",
   "execution_count": 87,
   "metadata": {},
   "outputs": [
    {
     "name": "stdout",
     "output_type": "stream",
     "text": [
      "mpq\n",
      "I am Shaila Hanrahan ['m', 'p', 'q'] mpq\n",
      "string -  I am Shaila Hanrahan - has one of the characters  ['m', 'p', 'q'] hence FALSE\n"
     ]
    }
   ],
   "source": [
    "# COMPLETED\n",
    "# Exercise 9.3. Write a function named avoids that takes a word and a string \n",
    "# of forbidden letters, and that returns True if the word doesn’t use any of the \n",
    "# forbidden letters.\n",
    "\n",
    "# Write a program that prompts the user to enter a string of forbidden letters \n",
    "# and then prints the number of words that don’t contain any of them. Can you \n",
    "# find a combination of 5 forbidden letters that excludes the smallest number of \n",
    "# words?\n",
    "def convert(no_chars):\n",
    "    new = \"\"\n",
    "    for c in no_chars:\n",
    "        new += c\n",
    "    print(new)\n",
    "    return new\n",
    "\n",
    "def avoids(word, nochars):\n",
    "    flag = False\n",
    "    for c in nochars[::1]:\n",
    "        for a in word[::1]:\n",
    "            if a != c:\n",
    "                charflag = False\n",
    "                flag = flag or charflag\n",
    "            if a == c:\n",
    "                charflag = True\n",
    "                flag = True\n",
    "                return flag\n",
    "                break\n",
    "    return flag\n",
    "                \n",
    "            \n",
    "\n",
    "word = 'I am Shaila Hanrahan'\n",
    "no_chars = ['m', 'p', 'q']\n",
    "nochars = convert(no_chars)\n",
    "# print(word, no_chars, nochars)\n",
    "is_true = avoids(word,nochars)\n",
    "if is_true is True:\n",
    "    print(\"string - \", word, \"- has one of the characters \", no_chars, \"hence FALSE\")\n",
    "if is_true is False:\n",
    "    print(\"String - \", word, \"- does NOT have characters\", no_chars, \"hence TRUE\")"
   ]
  },
  {
   "cell_type": "code",
   "execution_count": 103,
   "metadata": {},
   "outputs": [
    {
     "name": "stdout",
     "output_type": "stream",
     "text": [
      "alcefho \n",
      "hole face ['a', 'l', 'c', 'e', 'f', 'h', 'o', ' '] alcefho \n",
      "I am here\n",
      "a False\n",
      "String -  hole face - has characters other than alcefho  hence FALSE\n"
     ]
    }
   ],
   "source": [
    "# COMPLETED\n",
    "# Exercise 9.4. Write a function named uses_only that takes a word and a \n",
    "# string of letters, and that returns True if the word contains only letters \n",
    "# in the list. Can you make a sentence using onlythe letters acefhlo? \n",
    "# Other than “Hoe alfalfa”?\n",
    "\n",
    "def convert(chars):\n",
    "    new = \"\"\n",
    "    for c in chars:\n",
    "        new += c\n",
    "    print(new)\n",
    "    return new\n",
    "\n",
    "def uses_only(word, chars):\n",
    "    flag = True\n",
    "    for a in word[::1]:\n",
    "        for c in chars[::1]:\n",
    "            if a != c:\n",
    "                print('I am here')\n",
    "                charflag = False\n",
    "                flag = False\n",
    "                print(c, flag)\n",
    "                return flag\n",
    "                break\n",
    "            if ((a == c) or (a == ' ')):\n",
    "                charflag = True\n",
    "                flag = flag and charflag\n",
    "    return flag\n",
    "                \n",
    "            \n",
    "\n",
    "word = 'hole face'\n",
    "chars = ['a', 'l', 'c', 'e', 'f', 'h', 'o', ' ']\n",
    "ischars = convert(chars)\n",
    "print(word, chars, nochars)\n",
    "is_true = uses_only(word,ischars)\n",
    "if is_true is True:\n",
    "    print(\"string - \", word, \"- ONLY has characters \", nochars, \"hence TRUE\")\n",
    "if is_true is False:\n",
    "    print(\"String - \", word, \"- has characters other than\", nochars, \"hence FALSE\")\n"
   ]
  },
  {
   "cell_type": "code",
   "execution_count": 320,
   "metadata": {},
   "outputs": [
    {
     "name": "stdout",
     "output_type": "stream",
     "text": [
      "['a', 'e', 'i', 'o', 'u', 'l', 'y'] ['f', 'a', 'c', 'e', 't', 'i', 'o', 'u', 's']\n",
      "wordlength, letterlength 9 7 respectively\n",
      "letterindex 0 letterlist ['a', 'e', 'i', 'o', 'u', 'l', 'y']\n",
      "lettercount 0\n",
      "letterindex 0 letterlist ['e', 'i', 'o', 'u', 'l', 'y']\n",
      "lettercount 0\n",
      "letterindex 0 letterlist ['i', 'o', 'u', 'l', 'y']\n",
      "lettercount 0\n",
      "letterindex 0 letterlist ['o', 'u', 'l', 'y']\n",
      "lettercount 0\n",
      "letterindex 0 letterlist ['u', 'l', 'y']\n",
      "lettercount 0\n",
      "letterindex 0 letterlist ['l', 'y']\n",
      "letter l not present\n",
      "letterindex 0 letterlist ['y']\n",
      "letter y not present\n",
      "['l', 'y'] DOES NOT EXIST IN STRING\n"
     ]
    }
   ],
   "source": [
    "# COMPLETED\n",
    "# Exercise 9.5. Write a function named uses_all that takes a word and a string \n",
    "# of required letters, and that returns True if the word uses all the required \n",
    "# letters at least once. How many words are there that use all the vowels \n",
    "# aeiou? How about aeiouy?\n",
    "\n",
    "def uses_all(wordlist, letterlist):\n",
    "    letterlength = len(letterlist)\n",
    "    wordlength = len(wordlist)\n",
    "    letterindex = 0\n",
    "    lettercount = 0\n",
    "    wordindex = 0\n",
    "    letternotfound = []\n",
    "    Flag = 1\n",
    "    print( \"wordlength, letterlength\", wordlength, letterlength, \"respectively\")\n",
    "    while (letterlength != 0):\n",
    "        print(\"letterindex\", letterindex, \"letterlist\", letterlist)\n",
    "        letter = letterlist.pop(letterindex)\n",
    "        if(letter in wordlist):\n",
    "            letttercount = wordlist.count(letter)\n",
    "            print(\"lettercount\", lettercount)\n",
    "            letterlength -= 1\n",
    "        if ( (letter in wordlist) == False ):\n",
    "            print(\"letter\", letter , \"not present\")\n",
    "            letternotfound.append(letter)\n",
    "            letterlength -= 1\n",
    "            Flag = 0\n",
    "    if(Flag == 0):\n",
    "        print(letternotfound, \"DOES NOT EXIST IN STRING\")\n",
    "    if(Flag == 1):\n",
    "        print( \"ALL LETTERS ARE PRESENT!\" )\n",
    "    \n",
    "#word = 'recommended'\n",
    "#letters = 'cdemnor'\n",
    "word = 'facetious'\n",
    "letters = 'aeiouly'\n",
    "letterlist = list(letters)\n",
    "wordlist = list(word)\n",
    "print(letterlist, wordlist)\n",
    "uses_all(wordlist, letterlist)"
   ]
  },
  {
   "cell_type": "code",
   "execution_count": 332,
   "metadata": {},
   "outputs": [
    {
     "name": "stdout",
     "output_type": "stream",
     "text": [
      "wordlength, letterlength 9 7 respectively\n",
      "letter l not present\n",
      "letter y not present\n",
      "[['l', 'y']] DOES NOT EXIST IN STRING\n"
     ]
    }
   ],
   "source": [
    "# TO RETURN MULTIPLE VALUES FROM A FUNCTION\n",
    "def uses_all_return_multiple(wordlist, letterlist):\n",
    "    letterlength = len(letterlist)\n",
    "    wordlength = len(wordlist)\n",
    "    letterindex = 0\n",
    "    lettercount = 0\n",
    "    wordindex = 0\n",
    "    letternotfound = []\n",
    "    Flag = 1\n",
    "    r = []\n",
    "    print( \"wordlength, letterlength\", wordlength, letterlength, \"respectively\")\n",
    "    while (letterlength != 0):\n",
    "#        print(\"letterindex\", letterindex, \"letterlist\", letterlist)\n",
    "        letter = letterlist.pop(letterindex)\n",
    "        if(letter in wordlist):\n",
    "            letttercount = wordlist.count(letter)\n",
    "#            print(\"lettercount\", lettercount)\n",
    "            letterlength -= 1\n",
    "        if ( (letter in wordlist) == False ):\n",
    "            print(\"letter\", letter , \"not present\")\n",
    "            letternotfound.append(letter)\n",
    "            letterlength -= 1\n",
    "            Flag = 0\n",
    "    return [Flag, letternotfound]\n",
    "\n",
    "    \n",
    "#word = 'recommended'\n",
    "#letters = 'cdemnor'\n",
    "word = 'facetious'\n",
    "letters = 'aeiouly'\n",
    "x = []\n",
    "xFlag = 0\n",
    "letterlist = list(letters)\n",
    "wordlist = list(word)\n",
    "#print(letterlist, wordlist)\n",
    "x = uses_all_return_multiple(wordlist, letterlist)\n",
    "#print(x)\n",
    "xFlag = x.pop(0)\n",
    "#print(xFlag)\n",
    "if(xFlag == 0):\n",
    "    print(x, \"DOES NOT EXIST IN STRING\")\n",
    "if(xFlag == 1):\n",
    "    print( \"ALL LETTERS ARE PRESENT!\" )"
   ]
  },
  {
   "cell_type": "code",
   "execution_count": 340,
   "metadata": {},
   "outputs": [
    {
     "name": "stdout",
     "output_type": "stream",
     "text": [
      "aaxbcdefgzx is NOT in alphabetical order\n"
     ]
    }
   ],
   "source": [
    "# COMPELTED\n",
    "# Exercise 9.6. Write a function called is_abecedarian that returns True if \n",
    "# the letters in a word appear in alphabetical order (double letters are ok). \n",
    "# How many abecedarian words are there?\n",
    "\n",
    "def is_abcedarian(word):\n",
    "    index = 0\n",
    "    wordlist = list(word)\n",
    "    Flag = 1\n",
    "    for index in range (0,len(word)-1):\n",
    "        if( ord(word[index]) <= ord(word[index+1]) ):\n",
    "#            print(\"order is ok\")\n",
    "            Flag = 1\n",
    "        else:\n",
    "#            print(\"order is NOT ok\")\n",
    "            Flag = 0\n",
    "    return Flag\n",
    "\n",
    "y = 0\n",
    "word = 'aaxbcdefgzx'\n",
    "y = is_abcedarian(word)\n",
    "if ( y == 1):\n",
    "    print(word, \"is in ALPHABETICAL order!!\")\n",
    "else:\n",
    "    print(word, \"is NOT in alphabetical order\")"
   ]
  },
  {
   "cell_type": "code",
   "execution_count": 346,
   "metadata": {},
   "outputs": [
    {
     "name": "stdout",
     "output_type": "stream",
     "text": [
      "1800\n"
     ]
    },
    {
     "ename": "TypeError",
     "evalue": "'int' object is not iterable",
     "output_type": "error",
     "traceback": [
      "\u001b[1;31m---------------------------------------------------------------------------\u001b[0m",
      "\u001b[1;31mTypeError\u001b[0m                                 Traceback (most recent call last)",
      "\u001b[1;32m<ipython-input-346-1124d0ab2865>\u001b[0m in \u001b[0;36m<module>\u001b[1;34m\u001b[0m\n\u001b[0;32m     19\u001b[0m \u001b[1;31m#    while(num < 9999):\u001b[0m\u001b[1;33m\u001b[0m\u001b[1;33m\u001b[0m\u001b[1;33m\u001b[0m\u001b[0m\n\u001b[0;32m     20\u001b[0m \u001b[1;33m\u001b[0m\u001b[0m\n\u001b[1;32m---> 21\u001b[1;33m \u001b[0mget_count\u001b[0m\u001b[1;33m(\u001b[0m\u001b[1;33m)\u001b[0m\u001b[1;33m\u001b[0m\u001b[1;33m\u001b[0m\u001b[0m\n\u001b[0m",
      "\u001b[1;32m<ipython-input-346-1124d0ab2865>\u001b[0m in \u001b[0;36mget_count\u001b[1;34m()\u001b[0m\n\u001b[0;32m     15\u001b[0m \u001b[1;31m#    num.split[:]        CANNOT DO THIS AS  INTEGER CANNOT BE SPLIT\u001b[0m\u001b[1;33m\u001b[0m\u001b[1;33m\u001b[0m\u001b[1;33m\u001b[0m\u001b[0m\n\u001b[0;32m     16\u001b[0m     \u001b[0mprint\u001b[0m\u001b[1;33m(\u001b[0m\u001b[0mnum\u001b[0m\u001b[1;33m)\u001b[0m\u001b[1;33m\u001b[0m\u001b[1;33m\u001b[0m\u001b[0m\n\u001b[1;32m---> 17\u001b[1;33m     \u001b[0mnumlist\u001b[0m \u001b[1;33m=\u001b[0m \u001b[0mlist\u001b[0m\u001b[1;33m(\u001b[0m\u001b[0mnum\u001b[0m\u001b[1;33m)\u001b[0m\u001b[1;33m\u001b[0m\u001b[1;33m\u001b[0m\u001b[0m\n\u001b[0m\u001b[0;32m     18\u001b[0m     \u001b[0mprint\u001b[0m\u001b[1;33m(\u001b[0m\u001b[0mnumlist\u001b[0m\u001b[1;33m)\u001b[0m\u001b[1;33m\u001b[0m\u001b[1;33m\u001b[0m\u001b[0m\n\u001b[0;32m     19\u001b[0m \u001b[1;31m#    while(num < 9999):\u001b[0m\u001b[1;33m\u001b[0m\u001b[1;33m\u001b[0m\u001b[1;33m\u001b[0m\u001b[0m\n",
      "\u001b[1;31mTypeError\u001b[0m: 'int' object is not iterable"
     ]
    }
   ],
   "source": [
    "#\n",
    "# Exercise 9.9. “Recently I had a visit with my mom and we realized that the two digits that \n",
    "# make up my age when reversed resulted in her age. For example, if she’s 73, \n",
    "# I’m 37. We wondered how often this has happened over the years but we got \n",
    "# sidetracked with other topics and we never came up with an answer. “When I \n",
    "# got home I figured out that the digits of our ages have been reversible six \n",
    "# times so far. I also figured out that if we’re lucky it would happen again in \n",
    "# a few years, and if we’re really lucky it would happen one more time after that.\n",
    "# In other words, it would have happened 8 times over all. So the question is, \n",
    "# how old am I now?”\n",
    "\n",
    "def get_count():\n",
    "    num = 1800\n",
    "    numlist = []\n",
    "#    num.split[:]        CANNOT DO THIS AS  INTEGER CANNOT BE SPLIT\n",
    "    print(num)\n",
    "    numlist = list(num)\n",
    "    print(numlist)\n",
    "#    while(num < 9999):\n",
    "        \n",
    "get_count()\n",
    "\n",
    "# CHECK WITH HAI HOW TO DO THIS"
   ]
  },
  {
   "cell_type": "markdown",
   "metadata": {},
   "source": [
    "CHAPTER 10 CLASSWORK - SHAILA\n",
    "----------------------------------------------------"
   ]
  },
  {
   "cell_type": "code",
   "execution_count": 105,
   "metadata": {},
   "outputs": [
    {
     "name": "stdout",
     "output_type": "stream",
     "text": [
      "['Cheddar', 'Edam', 'Gouda'] [42, 123] []\n"
     ]
    }
   ],
   "source": [
    "##### CHAPTER 10\n",
    "\n",
    "cheeses = ['Cheddar', 'Edam', 'Gouda']\n",
    "numbers = [42, 123]\n",
    "empty = []\n",
    "print(cheeses, numbers, empty)"
   ]
  },
  {
   "cell_type": "code",
   "execution_count": 107,
   "metadata": {},
   "outputs": [
    {
     "data": {
      "text/plain": [
       "'Cheddar'"
      ]
     },
     "execution_count": 107,
     "metadata": {},
     "output_type": "execute_result"
    }
   ],
   "source": [
    "# 10.2\n",
    "\n",
    "cheeses[0]"
   ]
  },
  {
   "cell_type": "code",
   "execution_count": 108,
   "metadata": {},
   "outputs": [
    {
     "data": {
      "text/plain": [
       "[42, 5]"
      ]
     },
     "execution_count": 108,
     "metadata": {},
     "output_type": "execute_result"
    }
   ],
   "source": [
    "numbers[1] = 5\n",
    "numbers"
   ]
  },
  {
   "cell_type": "code",
   "execution_count": 109,
   "metadata": {},
   "outputs": [
    {
     "data": {
      "text/plain": [
       "['Cheddar', 'Edam', 'Gouda']"
      ]
     },
     "execution_count": 109,
     "metadata": {},
     "output_type": "execute_result"
    }
   ],
   "source": [
    "cheeses"
   ]
  },
  {
   "cell_type": "code",
   "execution_count": 110,
   "metadata": {},
   "outputs": [
    {
     "data": {
      "text/plain": [
       "True"
      ]
     },
     "execution_count": 110,
     "metadata": {},
     "output_type": "execute_result"
    }
   ],
   "source": [
    "'Edam' in cheeses"
   ]
  },
  {
   "cell_type": "code",
   "execution_count": 111,
   "metadata": {},
   "outputs": [
    {
     "data": {
      "text/plain": [
       "False"
      ]
     },
     "execution_count": 111,
     "metadata": {},
     "output_type": "execute_result"
    }
   ],
   "source": [
    "'Brie' in cheeses"
   ]
  },
  {
   "cell_type": "code",
   "execution_count": 113,
   "metadata": {},
   "outputs": [
    {
     "name": "stdout",
     "output_type": "stream",
     "text": [
      "Cheddar\n",
      "Edam\n",
      "Gouda\n"
     ]
    }
   ],
   "source": [
    "# 10.3\n",
    "for cheese in cheeses:\n",
    "    print(cheese)"
   ]
  },
  {
   "cell_type": "code",
   "execution_count": 114,
   "metadata": {},
   "outputs": [
    {
     "data": {
      "text/plain": [
       "[42, 5]"
      ]
     },
     "execution_count": 114,
     "metadata": {},
     "output_type": "execute_result"
    }
   ],
   "source": [
    "numbers"
   ]
  },
  {
   "cell_type": "code",
   "execution_count": 123,
   "metadata": {},
   "outputs": [
    {
     "name": "stdout",
     "output_type": "stream",
     "text": [
      "84\n",
      "246\n"
     ]
    }
   ],
   "source": [
    "\n",
    "numbers = [42, 123]\n",
    "len(numbers)\n",
    "for i in range(len(numbers)):\n",
    "    numbers[i] = numbers[i] * 2\n",
    "    print(numbers[i])"
   ]
  },
  {
   "cell_type": "code",
   "execution_count": 124,
   "metadata": {},
   "outputs": [
    {
     "data": {
      "text/plain": [
       "[1, 2, 3, 4, 5, 6]"
      ]
     },
     "execution_count": 124,
     "metadata": {},
     "output_type": "execute_result"
    }
   ],
   "source": [
    "# 10.4 + and * operatoe\n",
    "a = [1, 2, 3]\n",
    "b = [4, 5, 6]\n",
    "c = a + b\n",
    "c"
   ]
  },
  {
   "cell_type": "code",
   "execution_count": 125,
   "metadata": {},
   "outputs": [
    {
     "data": {
      "text/plain": [
       "[0, 0, 0, 0]"
      ]
     },
     "execution_count": 125,
     "metadata": {},
     "output_type": "execute_result"
    }
   ],
   "source": [
    "[0] * 4"
   ]
  },
  {
   "cell_type": "code",
   "execution_count": 126,
   "metadata": {},
   "outputs": [
    {
     "data": {
      "text/plain": [
       "[1, 2, 3, 1, 2, 3, 1, 2, 3]"
      ]
     },
     "execution_count": 126,
     "metadata": {},
     "output_type": "execute_result"
    }
   ],
   "source": [
    "[1, 2, 3] * 3"
   ]
  },
  {
   "cell_type": "code",
   "execution_count": 134,
   "metadata": {},
   "outputs": [
    {
     "name": "stdout",
     "output_type": "stream",
     "text": [
      "['b', 'c']\n",
      "['a', 'b', 'c', 'd']\n",
      "['d', 'e', 'f']\n",
      "['a', 'b', 'c', 'd', 'e', 'f']\n",
      "['a', 'b', 'c', 'd', 'e', 'f']\n",
      "['a', 'x', 'y', 'd', 'e', 'f']\n"
     ]
    }
   ],
   "source": [
    "# 10.5 List slices\n",
    "t = ['a', 'b', 'c', 'd', 'e', 'f']\n",
    "print(t[1:3])\n",
    "print(t[:4])\n",
    "print(t[3:])\n",
    "print(t)\n",
    "print(t[:])\n",
    "t[1:3] = ['x', 'y']\n",
    "print(t)"
   ]
  },
  {
   "cell_type": "code",
   "execution_count": 135,
   "metadata": {},
   "outputs": [
    {
     "data": {
      "text/plain": [
       "['a', 'b', 'c', 'd']"
      ]
     },
     "execution_count": 135,
     "metadata": {},
     "output_type": "execute_result"
    }
   ],
   "source": [
    "# 10.6\n",
    "t = ['a', 'b', 'c']\n",
    "t.append('d')             # appends to list in t\n",
    "t"
   ]
  },
  {
   "cell_type": "code",
   "execution_count": 144,
   "metadata": {},
   "outputs": [
    {
     "data": {
      "text/plain": [
       "['a', 'b', 'c', 'd', 'e']"
      ]
     },
     "execution_count": 144,
     "metadata": {},
     "output_type": "execute_result"
    }
   ],
   "source": [
    "t1 = ['a', 'b', 'c']\n",
    "t2 = ['d', 'e']\n",
    "t1.extend(t2)            # appends t2 to t1 and leaves t2 unchanged\n",
    "#t1\n",
    "#t1+t2\n",
    "#t1\n",
    "#t1.append(t2)  # This DOES NOT WORK. output is: ['a', 'b', 'c', ['d', 'e']]\n",
    "t1\n",
    "# NOTE: T2 is UNMODIFIED"
   ]
  },
  {
   "cell_type": "code",
   "execution_count": 141,
   "metadata": {},
   "outputs": [
    {
     "data": {
      "text/plain": [
       "['a', 'b', 'c', 'd', 'e']"
      ]
     },
     "execution_count": 141,
     "metadata": {},
     "output_type": "execute_result"
    }
   ],
   "source": [
    "t = ['d', 'c', 'e', 'b', 'a']\n",
    "t.sort()\n",
    "t"
   ]
  },
  {
   "cell_type": "code",
   "execution_count": 145,
   "metadata": {},
   "outputs": [
    {
     "data": {
      "text/plain": [
       "6"
      ]
     },
     "execution_count": 145,
     "metadata": {},
     "output_type": "execute_result"
    }
   ],
   "source": [
    "#10.7 - MAP, FILTER, REDUCE\n",
    "t = [1, 2, 3]\n",
    "sum(t)                # Adds all numbers in t\n"
   ]
  },
  {
   "cell_type": "code",
   "execution_count": 5,
   "metadata": {},
   "outputs": [
    {
     "name": "stdout",
     "output_type": "stream",
     "text": [
      "I am Shaila Hanrahan\n"
     ]
    },
    {
     "data": {
      "text/plain": [
       "['I',\n",
       " ' ',\n",
       " 'A',\n",
       " 'M',\n",
       " ' ',\n",
       " 'S',\n",
       " 'H',\n",
       " 'A',\n",
       " 'I',\n",
       " 'L',\n",
       " 'A',\n",
       " ' ',\n",
       " 'H',\n",
       " 'A',\n",
       " 'N',\n",
       " 'R',\n",
       " 'A',\n",
       " 'H',\n",
       " 'A',\n",
       " 'N']"
      ]
     },
     "execution_count": 5,
     "metadata": {},
     "output_type": "execute_result"
    }
   ],
   "source": [
    "# capitalize_all is a map function\n",
    "def capitalize_all(t):\n",
    "    res = []\n",
    "    for s in t:\n",
    "        res.append(s.capitalize())\n",
    "    return res\n",
    "\n",
    "capitalize_all(input())"
   ]
  },
  {
   "cell_type": "code",
   "execution_count": 3,
   "metadata": {},
   "outputs": [
    {
     "name": "stdout",
     "output_type": "stream",
     "text": [
      "I am Shaila Hanrahan\n"
     ]
    },
    {
     "data": {
      "text/plain": [
       "['I', 'S', 'H']"
      ]
     },
     "execution_count": 3,
     "metadata": {},
     "output_type": "execute_result"
    }
   ],
   "source": [
    "# only_upper - returns only upper letter of string\n",
    "def only_upper(t):\n",
    "    res = []\n",
    "    for s in t:\n",
    "        if s.isupper():\n",
    "            res.append(s)\n",
    "    return res\n",
    "\n",
    "only_upper(input())"
   ]
  },
  {
   "cell_type": "code",
   "execution_count": 36,
   "metadata": {},
   "outputs": [
    {
     "name": "stdout",
     "output_type": "stream",
     "text": [
      "b\n",
      "['a', 'c']\n"
     ]
    }
   ],
   "source": [
    "# 10.8 DELETING ELEMENTS FROM LIST\n",
    "t = ['a', 'b', 'c']\n",
    "x = t.pop(1)                # DELETES 1st element of list; list starts from 0\n",
    "#x = t.pop     # HAI         # If index not provided, last element is returned\n",
    "print(x)                          # ORIIGINAL LIST MODIFIED\n",
    "print(t)"
   ]
  },
  {
   "cell_type": "code",
   "execution_count": 12,
   "metadata": {},
   "outputs": [
    {
     "data": {
      "text/plain": [
       "['a', 'c']"
      ]
     },
     "execution_count": 12,
     "metadata": {},
     "output_type": "execute_result"
    }
   ],
   "source": [
    "t = ['a', 'b', 'c']\n",
    "del t[1]         # DELETES from list. List is modified\n",
    "t"
   ]
  },
  {
   "cell_type": "code",
   "execution_count": 13,
   "metadata": {},
   "outputs": [
    {
     "data": {
      "text/plain": [
       "['a', 'c']"
      ]
     },
     "execution_count": 13,
     "metadata": {},
     "output_type": "execute_result"
    }
   ],
   "source": [
    "t = ['a', 'b', 'c']\n",
    "t.remove('b')        # REMOVED element from list by name. List is modified\n",
    "t"
   ]
  },
  {
   "cell_type": "code",
   "execution_count": 17,
   "metadata": {},
   "outputs": [
    {
     "data": {
      "text/plain": [
       "['a', 'e', 'f']"
      ]
     },
     "execution_count": 17,
     "metadata": {},
     "output_type": "execute_result"
    }
   ],
   "source": [
    "t = ['a', 'b', 'c', 'd', 'e', 'f']\n",
    "del t[1:4]   # deleted from index 1-3. 4 is KEPT\n",
    "t"
   ]
  },
  {
   "cell_type": "code",
   "execution_count": 18,
   "metadata": {},
   "outputs": [
    {
     "data": {
      "text/plain": [
       "['s', 'p', 'a', 'm']"
      ]
     },
     "execution_count": 18,
     "metadata": {},
     "output_type": "execute_result"
    }
   ],
   "source": [
    "# 10.9 LISTS AND STRINGS\n",
    "s = 'spam'  # This is a string\n",
    "t = list(s)\n",
    "t           # This is a list of CHARACTERS in string s"
   ]
  },
  {
   "cell_type": "code",
   "execution_count": 19,
   "metadata": {},
   "outputs": [
    {
     "data": {
      "text/plain": [
       "['pining', 'for', 'the', 'fjords']"
      ]
     },
     "execution_count": 19,
     "metadata": {},
     "output_type": "execute_result"
    }
   ],
   "source": [
    "# To break a string intow words\n",
    "s = 'pining for the fjords'\n",
    "t = s.split()\n",
    "t           # This is a list of WORDS in string s"
   ]
  },
  {
   "cell_type": "code",
   "execution_count": 20,
   "metadata": {},
   "outputs": [
    {
     "data": {
      "text/plain": [
       "['spam', 'spam', 'spam']"
      ]
     },
     "execution_count": 20,
     "metadata": {},
     "output_type": "execute_result"
    }
   ],
   "source": [
    "# To use a DELIMITER to BREAK A STRING\n",
    "s = 'spam-spam-spam'\n",
    "delimiter = '-'\n",
    "t = s.split(delimiter)\n",
    "t"
   ]
  },
  {
   "cell_type": "code",
   "execution_count": 22,
   "metadata": {},
   "outputs": [
    {
     "data": {
      "text/plain": [
       "'pining for the fjords'"
      ]
     },
     "execution_count": 22,
     "metadata": {},
     "output_type": "execute_result"
    }
   ],
   "source": [
    "# JOIN is opposite of SPLIT\n",
    "t = ['pining', 'for', 'the', 'fjords']\n",
    "delimiter = ' '\n",
    "s = delimiter.join(t)\n",
    "s"
   ]
  },
  {
   "cell_type": "code",
   "execution_count": 24,
   "metadata": {},
   "outputs": [
    {
     "name": "stdout",
     "output_type": "stream",
     "text": [
      "True\n",
      "False\n"
     ]
    }
   ],
   "source": [
    "# 10.10 Objects and Values\n",
    "# a --> 'banana'\n",
    "# b --> 'banana'\n",
    "\n",
    "#    OR\n",
    "\n",
    "# a --> 'banana' <-- b;        Here and b both point to banana\n",
    "\n",
    "# to check if two strings or variables are the same use IS function\n",
    "\n",
    "a = 'banana'\n",
    "b = 'banana'\n",
    "c = 'bananax'\n",
    "\n",
    "print(a is b)\n",
    "print(a is c)"
   ]
  },
  {
   "cell_type": "code",
   "execution_count": 28,
   "metadata": {},
   "outputs": [
    {
     "name": "stdout",
     "output_type": "stream",
     "text": [
      "False\n"
     ]
    }
   ],
   "source": [
    "# Same IS NOT TRUE FOR LISTS as a and b are equivalent lists but different objects\n",
    "# a --> [1,2,3]\n",
    "# b --> [1,2,3]\n",
    "\n",
    "# a and b are different objects\n",
    "\n",
    "a = [1, 2, 3]\n",
    "b = [1, 2, 3]\n",
    "# c = [1, 2, 3, 5]\n",
    "\n",
    "print(a is b)\n"
   ]
  },
  {
   "cell_type": "code",
   "execution_count": 32,
   "metadata": {},
   "outputs": [
    {
     "name": "stdout",
     "output_type": "stream",
     "text": [
      "True\n"
     ]
    }
   ],
   "source": [
    "# 10.11 ALIASING\n",
    "# if b = a, then both variables poibt to same object\n",
    "# a --> [1,2,3] <-- b; # a and b  point to SAME LIST or OBJECT. OBJECT IS ALIASED\n",
    "a = [1, 2, 3]\n",
    "b = a\n",
    "print(a is b)"
   ]
  },
  {
   "cell_type": "code",
   "execution_count": 33,
   "metadata": {},
   "outputs": [
    {
     "name": "stdout",
     "output_type": "stream",
     "text": [
      "True\n",
      "[52, 2, 3]\n",
      "[52, 2, 3]\n"
     ]
    }
   ],
   "source": [
    "a = [1, 2, 3]\n",
    "b = a\n",
    "print(a is b)\n",
    "b[0] = 52\n",
    "print(a)\n",
    "print(b)"
   ]
  },
  {
   "cell_type": "code",
   "execution_count": 34,
   "metadata": {},
   "outputs": [
    {
     "data": {
      "text/plain": [
       "['b', 'c']"
      ]
     },
     "execution_count": 34,
     "metadata": {},
     "output_type": "execute_result"
    }
   ],
   "source": [
    "# 10.2 List Arguments\n",
    "def delete_head(t):\n",
    "    del t[0]\n",
    "\n",
    "letters = ['a', 'b', 'c']\n",
    "delete_head(letters)\n",
    "letters\n",
    "# t in function delete_head and letters in MAIN function are the same"
   ]
  },
  {
   "cell_type": "code",
   "execution_count": 36,
   "metadata": {},
   "outputs": [
    {
     "name": "stdout",
     "output_type": "stream",
     "text": [
      "[1, 2, 3]\n",
      "None\n"
     ]
    }
   ],
   "source": [
    "# APPEND MODIFIES A LIST but + CREATES A NEW LIST\n",
    "t1 = [1, 2]\n",
    "t2 = t1.append(3)    # same as t1.append(3) WITHOUT HAVING t2=\n",
    "\n",
    "print(t1)\n",
    "print(t2)"
   ]
  },
  {
   "cell_type": "code",
   "execution_count": 40,
   "metadata": {},
   "outputs": [
    {
     "name": "stdout",
     "output_type": "stream",
     "text": [
      "[1, 2, 3]\n",
      "[1, 2, 3, 4]\n",
      "[1, 2, 3]\n"
     ]
    }
   ],
   "source": [
    "# +\n",
    "\n",
    "print(t1)\n",
    "t3 = t1 + [4]\n",
    "print(t3)\n",
    "print(t1)"
   ]
  },
  {
   "cell_type": "code",
   "execution_count": 41,
   "metadata": {},
   "outputs": [
    {
     "data": {
      "text/plain": [
       "[1, 2, 3]"
      ]
     },
     "execution_count": 41,
     "metadata": {},
     "output_type": "execute_result"
    }
   ],
   "source": [
    "def bad_delete_head(t):\n",
    "    t = t[1:]              # WRONG!\n",
    "\n",
    "t4 = [1, 2, 3]\n",
    "bad_delete_head(t4)\n",
    "t4"
   ]
  },
  {
   "cell_type": "code",
   "execution_count": 43,
   "metadata": {},
   "outputs": [
    {
     "name": "stdout",
     "output_type": "stream",
     "text": [
      "[2, 3]\n",
      "[1, 2, 3]\n"
     ]
    }
   ],
   "source": [
    "def good_delete_head(t):\n",
    "    return t[1:]              # Deletes 1st element of list\n",
    "\n",
    "t4 = [1, 2, 3]\n",
    "t5 = good_delete_head(t4)\n",
    "print(t5)\n",
    "print(t4)"
   ]
  },
  {
   "cell_type": "markdown",
   "metadata": {},
   "source": [
    "CHAPTER 10 HOMEWORK - SHAILA\n",
    "----------------------------------------------------"
   ]
  },
  {
   "cell_type": "code",
   "execution_count": 10,
   "metadata": {},
   "outputs": [
    {
     "name": "stdout",
     "output_type": "stream",
     "text": [
      "21\n"
     ]
    }
   ],
   "source": [
    "# CHAPTER 10 EXERCISES\n",
    "# COMPLETED\n",
    "# Exercise 10.1. Write a function called nested_sum that takes a list of lists \n",
    "# of integers and adds up the elements from all of the nested lists. For example:\n",
    "# t = [[1, 2], [3], [4, 5, 6]]\n",
    "# nested_sum(t)\n",
    "\n",
    "def nested_sum(t, length):\n",
    "    i=0\n",
    "    total=0\n",
    "    while (length != 0):\n",
    "#        print(t[i], i, length, total)\n",
    "        total += sum(t[i])\n",
    "        length = length-1\n",
    "        i = i +1\n",
    "#        print(total, i, length)\n",
    "    return total\n",
    "        \n",
    "\n",
    "t = [[1, 2], [3], [4, 5, 6]]\n",
    "length = len(t)\n",
    "# print(length)\n",
    "total = nested_sum(t, length)\n",
    "print(total)"
   ]
  },
  {
   "cell_type": "code",
   "execution_count": 34,
   "metadata": {},
   "outputs": [
    {
     "name": "stdout",
     "output_type": "stream",
     "text": [
      "[1, 3, 6, 11, 21]\n"
     ]
    }
   ],
   "source": [
    "# COMPLETED \n",
    "# Exercise 10.2. Write a function called cumsum that takes a list of numbers and \n",
    "# returns the cumulative sum; that is, a new list where the ith element is the \n",
    "# sum of the first i + 1 elements from the original list. For example:\n",
    "# >>> t = [1, 2, 3]\n",
    "# >>> cumsum(t)\n",
    "# [1, 3, 6]\n",
    "\n",
    "def cumsum(t, length):\n",
    "    i=0\n",
    "    total=0\n",
    "    new_t = []\n",
    "    while(length != 0):\n",
    "#        print(t[i], i, length, total)\n",
    "        total = total + t[i]\n",
    "        new_t.append(total)\n",
    "        length = length - 1\n",
    "        i = i + 1\n",
    "#        print(total, i, length)\n",
    "#        print(new_t)\n",
    "    return new_t\n",
    "        \n",
    "\n",
    "t = [1, 2, 3, 5, 10]\n",
    "length = len(t)\n",
    "# print(length)\n",
    "new_t = cumsum(t, length)\n",
    "print(new_t)"
   ]
  },
  {
   "cell_type": "code",
   "execution_count": 63,
   "metadata": {},
   "outputs": [
    {
     "name": "stdout",
     "output_type": "stream",
     "text": [
      "[2, 3, 4, 5]\n",
      "[1, 2, 3, 4, 5, 6]\n"
     ]
    }
   ],
   "source": [
    "# COMPLETED\n",
    "# Exercise 10.3. Write a function called middle that takes a list and returns \n",
    "# a new list that contains all but the first and last elements. For example:\n",
    "# >>> t = [1, 2, 3, 4]\n",
    "# >>> middle(t)\n",
    "# [2, 3]\n",
    "\n",
    "def middle(t, length):\n",
    "    length = len(t)\n",
    "    x=1\n",
    "    new_t = []\n",
    "#    print(x)\n",
    "    while ((x > 0) and (x < length-1)):\n",
    "        new_t = new_t + [t[x]]\n",
    "#        print(t)\n",
    "#        print(x)\n",
    "#        print(new_t)\n",
    "        x = x + 1\n",
    "    return new_t\n",
    "\n",
    "t = [1, 2, 3, 4, 5, 6]\n",
    "length = len(t)\n",
    "\n",
    "mid_t = middle(t, length)\n",
    "print(mid_t)\n",
    "print(t)"
   ]
  },
  {
   "cell_type": "code",
   "execution_count": 66,
   "metadata": {},
   "outputs": [
    {
     "name": "stdout",
     "output_type": "stream",
     "text": [
      "[2, 3, 4, 5]\n"
     ]
    }
   ],
   "source": [
    "# COMPLETED\n",
    "# Exercise 10.4. Write a function called chop that takes a list, modifies it by \n",
    "# removing the first and last elements, and returns None. For example:\n",
    "# >>> t = [1, 2, 3, 4]\n",
    "# >>> chop(t)\n",
    "#>>> t\n",
    "# [2, 3]\n",
    "# CONFIRM HOW IS THIS DIFFERENT THAN 10.3?    HAI\n",
    "def chop(t):\n",
    "    first = t.pop(0)\n",
    "    last = t.pop(len(t)-1)\n",
    "#    print(t)\n",
    "#    print(first, last)\n",
    "#    return t\n",
    "\n",
    "t = [1, 2, 3, 4, 5, 6]\n",
    "#mid_t = middle(t)\n",
    "chop(t)\n",
    "# print(mid_t)\n",
    "print(t)"
   ]
  },
  {
   "cell_type": "code",
   "execution_count": 94,
   "metadata": {},
   "outputs": [
    {
     "name": "stdout",
     "output_type": "stream",
     "text": [
      "1 [] [1] True 0 5\n",
      "2 [1] [2] True 1 5\n",
      "3 [2] [3] True 2 5\n",
      "4 [3] [4] True 3 5\n",
      "5 [4] [5] True 4 5\n"
     ]
    },
    {
     "data": {
      "text/plain": [
       "True"
      ]
     },
     "execution_count": 94,
     "metadata": {},
     "output_type": "execute_result"
    }
   ],
   "source": [
    "# COMPLETED\n",
    "# Exercise 10.5. Write a function called is_sorted that takes a list as a \n",
    "# parameter and returns True if the list is sorted in ascending order and \n",
    "# False otherwise. For example:\n",
    "# >>> is_sorted([1, 2, 2])\n",
    "# True\n",
    "# >>> is_sorted(['b', 'a'])\n",
    "# False\n",
    "\n",
    "def is_sorted(t):\n",
    "    length = len(t)\n",
    "    x=0\n",
    "    new_t = []\n",
    "    old_t = []\n",
    "    for x in range(0,length):\n",
    "        new_t = [t[x]]\n",
    "        if (old_t <= new_t):\n",
    "            val = True\n",
    "        else:\n",
    "            val = False\n",
    "            return val\n",
    "        print(t[x], old_t, new_t, val, x, length)\n",
    "        x = x + 1\n",
    "        old_t = new_t\n",
    "        if (x == length):\n",
    "            return val\n",
    "        else:\n",
    "            pass\n",
    "\n",
    "t = [1, 2, 3, 4, 5]\n",
    "# t = ['a', 'z', 'c']\n",
    "is_sorted(t)"
   ]
  },
  {
   "cell_type": "code",
   "execution_count": 304,
   "metadata": {},
   "outputs": [
    {
     "name": "stdout",
     "output_type": "stream",
     "text": [
      "ronald raegan a darn long era\n",
      "ronaldraegan adarnlongera\n",
      "['r', 'o', 'n', 'a', 'l', 'd', 'r', 'a', 'e', 'g', 'a', 'n'] ['a', 'd', 'a', 'r', 'n', 'l', 'o', 'n', 'g', 'e', 'r', 'a']\n",
      "12 12\n",
      "True 0 r\n",
      "True 1 o\n",
      "True 2 n\n",
      "True 3 a\n",
      "True 4 l\n",
      "True 5 d\n",
      "True 6 r\n",
      "True 7 a\n",
      "True 8 e\n",
      "True 9 g\n",
      "True 10 a\n",
      "True 11 n\n",
      "True 0 a\n",
      "True 1 d\n",
      "True 2 a\n",
      "True 3 r\n",
      "True 4 n\n",
      "True 5 l\n",
      "True 6 o\n",
      "True 7 n\n",
      "True 8 g\n",
      "True 9 e\n",
      "True 10 r\n",
      "True 11 a\n",
      "Output is TRUE, the strings are ANAGRAM!\n"
     ]
    }
   ],
   "source": [
    "# COMPLETED\n",
    "# Exercise 10.6. Two words are anagrams if you can rearrange the letters from \n",
    "# one to spell the other. Write a function called is_anagram that takes two \n",
    "# strings and returns True if they are anagrams.\n",
    "\n",
    "def is_anagram(t1, t2):\n",
    "    length1 = len(t1)\n",
    "    length2 = len(t2)\n",
    "    if(length1 != length2):\n",
    "        val = False\n",
    "        return val\n",
    "    print(length1, length2)\n",
    "    x1 = 0\n",
    "    x2 = 0\n",
    "    val1 = True\n",
    "    val2 = True\n",
    "    while ((x1 <= length1-1) and (val1 == True)):\n",
    "        val1 = t1[x1] in t2\n",
    "        print(val1, x1, t1[x1])\n",
    "        x1 += 1\n",
    "#    return val\n",
    "    while ((x2 <= length2-1) and (val2 == True)):\n",
    "        val2 = t2[x2] in t1\n",
    "        print(val2, x2, t2[x2])\n",
    "        x2 += 1\n",
    "    retval = val1 and val2\n",
    "    return retval\n",
    "\n",
    "#s1 = input(\"Enter first string for is_anagram : \")\n",
    "#s2 = input(\"Enter second string for is_anagram : \")\n",
    "s1 = 'Ronald Raegan'\n",
    "s2 = 'A Darn Long Era'\n",
    "y1 = s1.lower()\n",
    "y2 = s2.lower()\n",
    "print(y1, y2)\n",
    "z1 = y1.replace(\" \",\"\")\n",
    "z2 = y2.replace(\" \",\"\")\n",
    "list1 = list(z1.lower())\n",
    "list2 = list(z2.lower())\n",
    "print(z1, z2)\n",
    "print(list1, list2)\n",
    "output = is_anagram(list1, list2)\n",
    "if (output == True):\n",
    "    print(\"Output is TRUE, the strings are ANAGRAM!\")\n",
    "elif (output == False):\n",
    "    print(\"Output is FALSE, the strings are NOT anagram\")"
   ]
  },
  {
   "cell_type": "code",
   "execution_count": 303,
   "metadata": {
    "scrolled": true
   },
   "outputs": [
    {
     "name": "stdout",
     "output_type": "stream",
     "text": [
      "11 0 3 ['o', 'n', 'a', 'l', 'd', 'r', 'a', 'e', 'g', 'a', 'n'] ['a', 'd', 'a', 'n', 'l', 'o', 'n', 'g', 'e', 'r', 'a']\n",
      "10 0 5 ['n', 'a', 'l', 'd', 'r', 'a', 'e', 'g', 'a', 'n'] ['a', 'd', 'a', 'n', 'l', 'n', 'g', 'e', 'r', 'a']\n",
      "9 0 3 ['a', 'l', 'd', 'r', 'a', 'e', 'g', 'a', 'n'] ['a', 'd', 'a', 'l', 'n', 'g', 'e', 'r', 'a']\n",
      "8 0 0 ['l', 'd', 'r', 'a', 'e', 'g', 'a', 'n'] ['d', 'a', 'l', 'n', 'g', 'e', 'r', 'a']\n",
      "7 0 2 ['d', 'r', 'a', 'e', 'g', 'a', 'n'] ['d', 'a', 'n', 'g', 'e', 'r', 'a']\n",
      "6 0 0 ['r', 'a', 'e', 'g', 'a', 'n'] ['a', 'n', 'g', 'e', 'r', 'a']\n",
      "5 0 4 ['a', 'e', 'g', 'a', 'n'] ['a', 'n', 'g', 'e', 'a']\n",
      "4 0 0 ['e', 'g', 'a', 'n'] ['n', 'g', 'e', 'a']\n",
      "3 0 2 ['g', 'a', 'n'] ['n', 'g', 'a']\n",
      "2 0 1 ['a', 'n'] ['n', 'a']\n",
      "1 0 1 ['n'] ['n']\n",
      "0 0 0 [] []\n",
      "I am here\n",
      "Output is TRUE, the strings are ANAGRAM!\n"
     ]
    }
   ],
   "source": [
    "# ANOTHER SOLUTION FOR 10.6 - COMPLETED\n",
    "def is_anagram(t1, t2):\n",
    "    length1 = len(t1)\n",
    "    length2 = len(t2)\n",
    "    if(length1 != length2):\n",
    "        return False\n",
    "#    print(length1, length2)\n",
    "    index1 = 0\n",
    "    index2 = 0\n",
    "    for x1 in range(0, length1-1):\n",
    "        while ( (length1 != 0) ):\n",
    "            index2 = t2.index(t1[index1])\n",
    "            t2.pop(index2)\n",
    "            t1.pop(index1)\n",
    "            length1 = length1 -1\n",
    "            print(length1, index1, index2, t1, t2)\n",
    "        if ( (length1 == 0) and (t1 == t2 == []) ):\n",
    "            print(\"I am here\")\n",
    "            return True\n",
    "        else:\n",
    "            return False\n",
    "\n",
    "#s1 = input(\"Enter first string for is_anagram : \")\n",
    "#s2 = input(\"Enter second string for is_anagram : \")\n",
    "s1 = 'Ronald Raegan'\n",
    "s2 = 'A Darn Long Era'\n",
    "y1 = s1.lower()\n",
    "y2 = s2.lower()\n",
    "#print(y1, y2)\n",
    "z1 = y1.replace(\" \",\"\")\n",
    "z2 = y2.replace(\" \",\"\")\n",
    "list1 = list(z1.lower())\n",
    "list2 = list(z2.lower())\n",
    "#print(z1, z2)\n",
    "#print(list1, list2)\n",
    "output = is_anagram(list1, list2)\n",
    "if (output == True):\n",
    "    print(\"Output is TRUE, the strings are ANAGRAM!\")\n",
    "elif (output == False):\n",
    "    print(\"Output is FALSE, the strings are NOT anagram\")"
   ]
  },
  {
   "cell_type": "code",
   "execution_count": 28,
   "metadata": {},
   "outputs": [
    {
     "name": "stdout",
     "output_type": "stream",
     "text": [
      "['cat', 'cat', 'mouse', 'house', 'horse']\n",
      "Yes, there are duplicates\n",
      "True\n",
      "Input  ['cat', 'cat', 'mouse', 'house', 'horse'] is unmodified\n"
     ]
    }
   ],
   "source": [
    "# COMPLETED\n",
    "# Exercise 10.7. Write a function called has_duplicates that takes a list and \n",
    "# returns True if there is any element that appears more than once. It should \n",
    "# not modify the original list.\n",
    "\n",
    "def has_duplicates(t):\n",
    "    t_copy = t\n",
    "    length = len(t)\n",
    "#    print(length)\n",
    "    j = 0\n",
    "    for j in range (0, length-1):\n",
    "#        print( j, length )\n",
    "#        print( t[j], t[j+1] )\n",
    "        if ( t[j] == t[j+1] ):\n",
    "            print(\"Yes, there are duplicates\")\n",
    "            return True\n",
    "            break\n",
    "        if ( t[j] != t[j+1] ):\n",
    "            j = j + 1\n",
    "#            print(\"So far no duplicates\")\n",
    "    print(\"NO DUPLICATES\")\n",
    "    return False\n",
    "\n",
    "\n",
    "#s1 = input(\"Enter first string for is_anagram : \")\n",
    "#s2 = input(\"Enter second string for is_anagram : \")\n",
    "myinput = ['cat', 'cat', 'mouse', 'house', 'horse']\n",
    "#x = myinput.replace(,\"\")\n",
    "mylist = list(myinput)\n",
    "#print(x)\n",
    "print(mylist)\n",
    "mylist.sort()\n",
    "#print(mylist)\n",
    "#print(myinput)\n",
    "output = has_duplicates(mylist)\n",
    "print(output)\n",
    "print(\"Input \", myinput, \"is unmodified\")"
   ]
  },
  {
   "cell_type": "code",
   "execution_count": 19,
   "metadata": {},
   "outputs": [
    {
     "name": "stdout",
     "output_type": "stream",
     "text": [
      "Yes, there are duplicates\n",
      "True\n",
      "Input  cat, cow, mouse is unmodified\n"
     ]
    }
   ],
   "source": [
    "# ANOTHER Solution with list input for 10.7 - COMPLETED\n",
    "\n",
    "def has_duplicates (t):\n",
    "    t_copy = t\n",
    "    length = len(t)\n",
    "    j = 0\n",
    "    for j in range (0, length-1):\n",
    "        if ( t[j] == t[j+1] ):\n",
    "            print(\"Yes, there are duplicates\")\n",
    "            return True\n",
    "            break\n",
    "        if ( t[j] != t[j+1] ):\n",
    "            j = j + 1\n",
    "    print(\"NO DUPLICATES\")\n",
    "    return False\n",
    "\n",
    "myinput = 'cat, cow, mouse'\n",
    "mylist is myinput          # Alias mylist to myinput; myinput does not change\n",
    "mylist.sort()\n",
    "output = has_duplicates(mylist)\n",
    "print(output)\n",
    "print(\"Input \", myinput, \"is unmodified\")"
   ]
  },
  {
   "cell_type": "code",
   "execution_count": null,
   "metadata": {},
   "outputs": [],
   "source": [
    "# NOT COMPLETED\n",
    "# Exercise 10.8. This exercise pertains to the so-called Birthday Paradox, \n",
    "# which you can read about at http: //en.wikipedia.org/wiki/Birthday_ paradox\n",
    "# If there are 23 students in your class, what are the chances that two of you \n",
    "# have the same birthday? You can estimate this probability by generating \n",
    "# random samples of 23 birthdays and checking for matches. \n",
    "# Hint: you can generate random birthdays with the randint function in the \n",
    "# random module."
   ]
  },
  {
   "cell_type": "code",
   "execution_count": 294,
   "metadata": {},
   "outputs": [
    {
     "name": "stdout",
     "output_type": "stream",
     "text": [
      "['Hi', 'my', 'name', 'is', 'Shaila']\n",
      "['Hi', 'my', 'name', 'is', 'Shaila', 'I', 'live', 'in', 'the', 'Bayarea']\n",
      "['Hi', 'my', 'name', 'is', 'Shaila', 'I', 'live', 'in', 'the', 'Bayarea', 'I', 'am', 'taking', 'Python', '1']\n"
     ]
    }
   ],
   "source": [
    "# COMPLETED \n",
    "# Exercise 10.9. Write a function that reads the file words.txt and builds a \n",
    "# list with one element per word. Write two versions of this function, one \n",
    "# using the append method and the other using the idiom t = t + [x]. Which one \n",
    "# takes longer to run? Why?\n",
    "\n",
    "def list_with_plus():\n",
    "    fin = open('wordsFor10dot9.txt')\n",
    "    pluslist = []\n",
    "    for line in fin:\n",
    "        words = line.strip()      # Removes \\n at end of line\n",
    "        delimiter = ' '\n",
    "        pluslist = pluslist + words.split(delimiter)\n",
    "        print(pluslist)\n",
    "\n",
    "def list_with_append():\n",
    "    fin = open('wordsFor10dot9.txt')\n",
    "    appendlist = []\n",
    "    for line in fin:\n",
    "        words = line.strip()      # Removes \\n at end of line\n",
    "#        print(len(words), words, words[0])\n",
    "        y = list(words)\n",
    "#        print(\"y is:\", y)\n",
    "        x = words.replace(\" \", \",\")\n",
    "#        list(x)\n",
    "#        print(x)\n",
    "#        appendlist = appendlist.append(x)\n",
    "#        print(appendlist)\n",
    "        appendlist.append(list(words))  # This breaks list into each character per element\n",
    "    print(appendlist)\n",
    "#        appendlist.append()\n",
    "\n",
    "\n",
    "#list_with_append()\n",
    "list_with_plus()"
   ]
  },
  {
   "cell_type": "code",
   "execution_count": 11,
   "metadata": {},
   "outputs": [
    {
     "name": "stdout",
     "output_type": "stream",
     "text": [
      "['To', 'check', 'whether', 'a', 'word', 'is', 'in', 'the', 'word', 'list,', 'you', 'could', 'use', 'the', 'in', 'operator,', 'but', 'it', 'would', 'be', 'slow', 'because', 'it', 'searches', 'through', 'the', 'words', 'in', 'order.', '', 'Because', 'the', 'words', 'are', 'in', 'alphabetical', 'order,', 'we', 'can', 'speed', 'things', 'up', 'with', 'a', 'bisection', 'search', '(also', 'known', 'as', 'binary', 'search),', 'which', 'is', 'similar', 'to', 'what', 'you', 'do', 'when', 'you', 'look', 'a', 'word', 'up', 'in', 'the', 'dictionary', '(the', 'book,', 'not', 'the', 'data', 'structure).', 'You', 'start', 'in', 'the', 'middle', 'and', 'check', 'to', 'see', 'whether', 'the', 'word', 'you', 'are', 'looking', 'for', 'comes', 'before', 'the', 'word', 'in', 'the', 'middle', 'of', 'the', 'list.', 'If', 'so,', 'you', 'search', 'the', 'first', 'half', 'of', 'the', 'list', 'the', 'same', 'way.', 'Otherwise', 'you', 'search', 'the', 'second', 'half.', '', 'Either', 'way,', 'you', 'cut', 'the', 'remaining', 'search', 'space', 'in', 'half.', 'If', 'the', 'word', 'list', 'has', '113,809', 'words,', 'it', 'will', 'take', 'about', '17', 'steps', 'to', 'find', 'the', 'word', 'or', 'conclude', 'that', 'itâ€™s', 'not', 'there.', '', 'Write', 'a', 'function', 'called', 'in_bisect', 'that', 'takes', 'a', 'sorted', 'list', 'and', 'a', 'target', 'value', 'and', 'returns', 'True', 'if', 'the', 'word', 'is', 'in', 'the', 'list', 'and', 'False', 'if', 'itâ€™s', 'not.', 'Or', 'you', 'could', 'read', 'the', 'documentation', 'of', 'the', 'bisect', 'module', 'and', 'use', 'that!']\n",
      "['', '', '', '(also', '(the', '113,809', '17', 'Because', 'Either', 'False', 'If', 'If', 'Or', 'Otherwise', 'To', 'True', 'Write', 'You', 'a', 'a', 'a', 'a', 'a', 'a', 'about', 'alphabetical', 'and', 'and', 'and', 'and', 'and', 'are', 'are', 'as', 'be', 'because', 'before', 'binary', 'bisect', 'bisection', 'book,', 'but', 'called', 'can', 'check', 'check', 'comes', 'conclude', 'could', 'could', 'cut', 'data', 'dictionary', 'do', 'documentation', 'find', 'first', 'for', 'function', 'half', 'half.', 'half.', 'has', 'if', 'if', 'in', 'in', 'in', 'in', 'in', 'in', 'in', 'in', 'in', 'in_bisect', 'is', 'is', 'is', 'it', 'it', 'it', 'itâ€™s', 'itâ€™s', 'known', 'list', 'list', 'list', 'list', 'list,', 'list.', 'look', 'looking', 'middle', 'middle', 'module', 'not', 'not', 'not.', 'of', 'of', 'of', 'operator,', 'or', 'order,', 'order.', 'read', 'remaining', 'returns', 'same', 'search', 'search', 'search', 'search', 'search),', 'searches', 'second', 'see', 'similar', 'slow', 'so,', 'sorted', 'space', 'speed', 'start', 'steps', 'structure).', 'take', 'takes', 'target', 'that', 'that', 'that!', 'the', 'the', 'the', 'the', 'the', 'the', 'the', 'the', 'the', 'the', 'the', 'the', 'the', 'the', 'the', 'the', 'the', 'the', 'the', 'the', 'the', 'the', 'there.', 'things', 'through', 'to', 'to', 'to', 'up', 'up', 'use', 'use', 'value', 'way,', 'way.', 'we', 'what', 'when', 'whether', 'whether', 'which', 'will', 'with', 'word', 'word', 'word', 'word', 'word', 'word', 'word', 'word', 'words', 'words', 'words,', 'would', 'you', 'you', 'you', 'you', 'you', 'you', 'you', 'you']\n",
      "195\n"
     ]
    }
   ],
   "source": [
    "# NOT DONE AS I NEED THE LIST OF 113809 WORDS\n",
    "# Exercise 10.10. To check whether a word is in the word list, you could use \n",
    "# the in operator, but it would be slow because it searches through the words \n",
    "# in order.\n",
    "\n",
    "# Because the words are in alphabetical order, we can speed things up with a \n",
    "# bisection search (also known as binary search), which is similar to what you \n",
    "# do when you look a word up in the dictionary\n",
    "# (the book, not the data structure). You start in the middle and check to see \n",
    "# whether the word you are looking for comes before the word in the middle of \n",
    "# the list. If so, you search the first half of the list the same way. Otherwise\n",
    "# you search the second half.\n",
    "\n",
    "# Either way, you cut the remaining search space in half. If the word list has \n",
    "# 113,809 words, it will take about 17 steps to find the word or conclude that \n",
    "# it’s not there.\n",
    "\n",
    "# Write a function called in_bisect that takes a sorted list and a target value \n",
    "# and returns True if the word is in the list and False if it’s not.\n",
    "# Or you could read the documentation of the bisect module and use that! \n",
    "# Solution: http://thinkpython2.com/code/inlist.py\n",
    "\n",
    "def create_words_list():\n",
    "    fin = open('wordsFor10dot10.txt')\n",
    "    wordlist = []\n",
    "    for line in fin:\n",
    "        words = line.strip()      # Removes \\n at end of line\n",
    "        delimiter = ' '\n",
    "        wordlist = wordlist + words.split(delimiter)\n",
    "    print(wordlist)\n",
    "    return wordlist\n",
    "    \n",
    "\n",
    "wordlist = create_words_list()\n",
    "wordlist.sort()\n",
    "print(wordlist)\n",
    "length = len(wordlist)\n",
    "print(length)"
   ]
  },
  {
   "cell_type": "code",
   "execution_count": 349,
   "metadata": {},
   "outputs": [
    {
     "name": "stdout",
     "output_type": "stream",
     "text": [
      "HEY!, ' garb ' AND ' brag ' ARE REVERSE PAIRS\n",
      "HEY!, ' yap ' AND ' pay ' ARE REVERSE PAIRS\n",
      "HEY!, ' am ' AND ' ma ' ARE REVERSE PAIRS\n",
      "Hmmmm, xyz DOES _NOT_ HAVE A REVERSE PAIR\n",
      "HEY!, ' era ' AND ' are ' ARE REVERSE PAIRS\n",
      "Hmmmm, may DOES _NOT_ HAVE A REVERSE PAIR\n"
     ]
    }
   ],
   "source": [
    "# Exercise 10.11. Two words are a “reverse pair” if each is the reverse of the \n",
    "# other. Write a program that finds all the reverse pairs in the word list. \n",
    "# Solution: http://thinkpython2.com/code/reverse_ pair.py\n",
    "\n",
    "def is_reverse_present(wordlist):\n",
    "    length = len(wordlist)\n",
    "    tmpwordlist = wordlist\n",
    "    index = 0\n",
    "    tmpindex = index\n",
    "           \n",
    "    while (index < length):\n",
    "        tmpindex = 0\n",
    "        Flag = 0\n",
    "        while (tmpindex < length):\n",
    "            Flag = 0\n",
    "            word = wordlist[index]\n",
    "            nextword = tmpwordlist[tmpindex]\n",
    "            if( (word[::1]) == (nextword[::-1]) ):\n",
    "                print(\"HEY!, '\", word, \"' AND '\", nextword, \"' ARE REVERSE PAIRS\")\n",
    "                wordlist.pop(index)\n",
    "                wordlist.pop(tmpindex-1)\n",
    "                length = len(wordlist)\n",
    "                Flag = 1\n",
    "                tmpindex = 0\n",
    "            if ( (tmpindex < length) ):\n",
    "                tmpindex += 1\n",
    "            if ( (tmpindex == length) and (Flag == 0) ):\n",
    "                print(\"Hmmmm,\",word, \"DOES _NOT_ HAVE A REVERSE PAIR\")\n",
    "                wordlist.pop(index)\n",
    "                length = len(wordlist)\n",
    "\n",
    "wordlist = ['garb', 'yap', 'am', 'xyz', 'ma', 'era', 'are', 'may', 'pay', 'brag']\n",
    "is_reverse_present(wordlist)"
   ]
  },
  {
   "cell_type": "code",
   "execution_count": 293,
   "metadata": {},
   "outputs": [
    {
     "name": "stdout",
     "output_type": "stream",
     "text": [
      "10\n",
      "Comparing garb and  garb index = 0 tmpindex = 0\n",
      "tmpindex =  1 length =  10 Flag =  0\n",
      "Comparing garb and  yap index = 0 tmpindex = 1\n",
      "tmpindex =  2 length =  10 Flag =  0\n",
      "Comparing garb and  am index = 0 tmpindex = 2\n",
      "tmpindex =  3 length =  10 Flag =  0\n",
      "Comparing garb and  xyz index = 0 tmpindex = 3\n",
      "tmpindex =  4 length =  10 Flag =  0\n",
      "Comparing garb and  ma index = 0 tmpindex = 4\n",
      "tmpindex =  5 length =  10 Flag =  0\n",
      "Comparing garb and  era index = 0 tmpindex = 5\n",
      "tmpindex =  6 length =  10 Flag =  0\n",
      "Comparing garb and  are index = 0 tmpindex = 6\n",
      "tmpindex =  7 length =  10 Flag =  0\n",
      "Comparing garb and  may index = 0 tmpindex = 7\n",
      "tmpindex =  8 length =  10 Flag =  0\n",
      "Comparing garb and  pay index = 0 tmpindex = 8\n",
      "tmpindex =  9 length =  10 Flag =  0\n",
      "Comparing garb and  brag index = 0 tmpindex = 9\n",
      "HEY!, garb AND brag ARE REVERSE PAIRS\n",
      "index = 0 tmpindex = 9\n",
      "8 ['yap', 'am', 'xyz', 'ma', 'era', 'are', 'may', 'pay']\n",
      "0\n",
      "tmpindex =  1 length =  8 Flag =  1\n",
      "Comparing yap and  am index = 0 tmpindex = 1\n",
      "tmpindex =  2 length =  8 Flag =  0\n",
      "Comparing yap and  xyz index = 0 tmpindex = 2\n",
      "tmpindex =  3 length =  8 Flag =  0\n",
      "Comparing yap and  ma index = 0 tmpindex = 3\n",
      "tmpindex =  4 length =  8 Flag =  0\n",
      "Comparing yap and  era index = 0 tmpindex = 4\n",
      "tmpindex =  5 length =  8 Flag =  0\n",
      "Comparing yap and  are index = 0 tmpindex = 5\n",
      "tmpindex =  6 length =  8 Flag =  0\n",
      "Comparing yap and  may index = 0 tmpindex = 6\n",
      "tmpindex =  7 length =  8 Flag =  0\n",
      "Comparing yap and  pay index = 0 tmpindex = 7\n",
      "HEY!, yap AND pay ARE REVERSE PAIRS\n",
      "index = 0 tmpindex = 7\n",
      "6 ['am', 'xyz', 'ma', 'era', 'are', 'may']\n",
      "0\n",
      "tmpindex =  1 length =  6 Flag =  1\n",
      "Comparing am and  xyz index = 0 tmpindex = 1\n",
      "tmpindex =  2 length =  6 Flag =  0\n",
      "Comparing am and  ma index = 0 tmpindex = 2\n",
      "HEY!, am AND ma ARE REVERSE PAIRS\n",
      "index = 0 tmpindex = 2\n",
      "4 ['xyz', 'era', 'are', 'may']\n",
      "0\n",
      "tmpindex =  1 length =  4 Flag =  1\n",
      "Comparing xyz and  era index = 0 tmpindex = 1\n",
      "tmpindex =  2 length =  4 Flag =  0\n",
      "Comparing xyz and  are index = 0 tmpindex = 2\n",
      "tmpindex =  3 length =  4 Flag =  0\n",
      "Comparing xyz and  may index = 0 tmpindex = 3\n",
      "tmpindex =  4 length =  4 Flag =  0\n",
      "Hmmmm, xyz DOES NOT HAVE A REVERSE PAIR\n",
      "3 ['era', 'are', 'may']\n",
      "Comparing era and  era index = 0 tmpindex = 0\n",
      "tmpindex =  1 length =  3 Flag =  0\n",
      "Comparing era and  are index = 0 tmpindex = 1\n",
      "HEY!, era AND are ARE REVERSE PAIRS\n",
      "index = 0 tmpindex = 1\n",
      "1 ['may']\n",
      "0\n",
      "tmpindex =  1 length =  1 Flag =  1\n",
      "Comparing may and  may index = 0 tmpindex = 0\n",
      "tmpindex =  1 length =  1 Flag =  0\n",
      "Hmmmm, may DOES NOT HAVE A REVERSE PAIR\n",
      "0 []\n"
     ]
    }
   ],
   "source": [
    "# THIS IS FOR SHAILA ONLY; SAME AS ABOVE, BUT WITH PRINT STATEMENTS\n",
    "\n",
    "def is_reverse_present(wordlist):\n",
    "    length = len(wordlist)\n",
    "    print(length)\n",
    "    tmpwordlist = wordlist\n",
    "    index = 0\n",
    "    tmpindex = index\n",
    "           \n",
    "    while (index < length):\n",
    "        tmpindex = 0\n",
    "        Flag = 0\n",
    "        while (tmpindex < length):\n",
    "            Flag = 0\n",
    "            word = wordlist[index]\n",
    "            nextword = tmpwordlist[tmpindex]\n",
    "            print(\"Comparing\", word, \"and \", nextword, \"index =\", index, \"tmpindex =\", tmpindex)\n",
    "            if( (word[::1]) == (nextword[::-1]) ):\n",
    "                print(\"HEY!,\",word, \"AND\", nextword, \"ARE REVERSE PAIRS\")\n",
    "                print(\"index =\", index, \"tmpindex =\", tmpindex)\n",
    "                wordlist.pop(index)\n",
    "                wordlist.pop(tmpindex-1)\n",
    "                length = len(wordlist)\n",
    "                print(length, wordlist)\n",
    "#                index += 1\n",
    "                Flag = 1\n",
    "                tmpindex = 0\n",
    "                print(index)\n",
    "            if ( (tmpindex < length) ):\n",
    "                tmpindex += 1\n",
    "                print(\"tmpindex = \", tmpindex, \"length = \", length, \"Flag = \", Flag)\n",
    "            if ( (tmpindex == length) and (Flag == 0) ):\n",
    "                print(\"Hmmmm,\",word, \"DOES NOT HAVE A REVERSE PAIR\")\n",
    "                wordlist.pop(index)\n",
    "                length = len(wordlist)\n",
    "                print(length, wordlist)\n",
    "#                index +=1\n",
    "\n",
    "wordlist = ['garb', 'yap', 'am', 'xyz', 'ma', 'era', 'are', 'may', 'pay', 'brag']\n",
    "is_reverse_present(wordlist)"
   ]
  },
  {
   "cell_type": "code",
   "execution_count": 285,
   "metadata": {
    "scrolled": true
   },
   "outputs": [
    {
     "data": {
      "text/plain": [
       "'SHAILA'"
      ]
     },
     "execution_count": 285,
     "metadata": {},
     "output_type": "execute_result"
    }
   ],
   "source": [
    "# Exercise 10.12. Two words “interlock” if taking alternating letters from \n",
    "# each forms a new word. For example, “shoe” and “cold” interlock to form \n",
    "# “schooled”. Solution: http://thinkpython2.com/code/interlock.py\n",
    "# Credit: This exercise is inspired by an example at http://puzzlers.org .\n",
    "# 1. Write a program that finds all pairs of words that interlock. \n",
    "# Hint: don’t enumerate all pairs!\n",
    "# 2. Can you find any words that are three-way interlocked; that is, every \n",
    "# third letter forms a word, starting from the first, second or third?\n",
    "\n",
    "# HOW DO YOU CREATE INTELLIGENCE IN THE PY PROGRAM TO KNOW IF IT IS A WORD OR NOT?"
   ]
  },
  {
   "cell_type": "markdown",
   "metadata": {},
   "source": [
    "END OF CHAPTER 10 HOMEWORK\n",
    "---------------------------------------------------"
   ]
  },
  {
   "cell_type": "code",
   "execution_count": null,
   "metadata": {},
   "outputs": [],
   "source": []
  }
 ],
 "metadata": {
  "kernelspec": {
   "display_name": "Python 3",
   "language": "python",
   "name": "python3"
  },
  "language_info": {
   "codemirror_mode": {
    "name": "ipython",
    "version": 3
   },
   "file_extension": ".py",
   "mimetype": "text/x-python",
   "name": "python",
   "nbconvert_exporter": "python",
   "pygments_lexer": "ipython3",
   "version": "3.7.3"
  }
 },
 "nbformat": 4,
 "nbformat_minor": 2
}
