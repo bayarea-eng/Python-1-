{
 "cells": [
  {
   "cell_type": "markdown",
   "metadata": {},
   "source": [
    "# HW6 - CHAPTER 11 - SHYLA - 10/07/2019\n",
    "\n",
    "This chapter presents another built-in type called a dictionary. Dictionaries are one of\n",
    "Python’s best features; they are the building blocks of many efficient and elegant algorithms.\n",
    "\n",
    "\n",
    "### 11.1 A dictionary is a mapping\n",
    "\n",
    "A **dictionary** is like a list, but more general. In a list, the indices have to be integers; in a\n",
    "dictionary they can be (almost) any type.\n",
    "\n",
    "A dictionary contains a collection of indices, which are called **keys**, and a collection of\n",
    "values. Each key is associated with a single value. The association of a key and a value is\n",
    "called a **key-value pair** or sometimes an **item**.\n",
    "\n",
    "In mathematical language, a dictionary represents a **mapping** from keys to values, so you\n",
    "can also say that each key “maps to” a value. As an example, we’ll build a dictionary that\n",
    "maps from English to Spanish words, so the keys and the values are all strings.\n",
    "\n",
    "The function dict creates a new dictionary with no items. Because dict is the name of a\n",
    "built-in function, you should avoid using it as a variable name."
   ]
  },
  {
   "cell_type": "code",
   "execution_count": null,
   "metadata": {},
   "outputs": [],
   "source": [
    "eng2sp = dict()\n",
    "eng2sp"
   ]
  },
  {
   "cell_type": "markdown",
   "metadata": {},
   "source": [
    "The squiggly-brackets, {}, represent an empty dictionary. To add items to the dictionary,\n",
    "you can use square brackets:"
   ]
  },
  {
   "cell_type": "code",
   "execution_count": null,
   "metadata": {},
   "outputs": [],
   "source": [
    "eng2sp['one'] = 'uno'"
   ]
  },
  {
   "cell_type": "markdown",
   "metadata": {},
   "source": [
    "This line creates an item that maps from the key 'one' to the value 'uno'. If we print the\n",
    "dictionary again, we see a key-value pair with a colon between the key and value:"
   ]
  },
  {
   "cell_type": "code",
   "execution_count": null,
   "metadata": {},
   "outputs": [],
   "source": [
    "eng2sp"
   ]
  },
  {
   "cell_type": "markdown",
   "metadata": {},
   "source": [
    "This output format is also an input format. For example, you can create a new dictionary\n",
    "with three items:"
   ]
  },
  {
   "cell_type": "code",
   "execution_count": 16,
   "metadata": {},
   "outputs": [],
   "source": [
    "eng2sp = {'one': 'uno', 'two': 'dos', 'three': 'tres'}\n",
    "eng2sp = {'four': 'quatro'}"
   ]
  },
  {
   "cell_type": "markdown",
   "metadata": {},
   "source": [
    "But if you print eng2sp, you might be surprised:"
   ]
  },
  {
   "cell_type": "code",
   "execution_count": 17,
   "metadata": {},
   "outputs": [
    {
     "data": {
      "text/plain": [
       "{'four': 'quatro'}"
      ]
     },
     "execution_count": 17,
     "metadata": {},
     "output_type": "execute_result"
    }
   ],
   "source": [
    "eng2sp"
   ]
  },
  {
   "cell_type": "markdown",
   "metadata": {},
   "source": [
    "The order of the key-value pairs might not be the same. If you type the same example\n",
    "on your computer, you might get a different result. In general, the order of items in a\n",
    "dictionary is unpredictable.\n",
    "\n",
    "But that’s not a problem because the elements of a dictionary are never indexed with integer\n",
    "indices. Instead, you use the keys to look up the corresponding values:"
   ]
  },
  {
   "cell_type": "code",
   "execution_count": null,
   "metadata": {},
   "outputs": [],
   "source": [
    "eng2sp['two']"
   ]
  },
  {
   "cell_type": "markdown",
   "metadata": {},
   "source": [
    "The key 'two' always maps to the value 'dos' so the order of the items doesn’t matter.\n",
    "\n",
    "If the key isn’t in the dictionary, you get an exception:"
   ]
  },
  {
   "cell_type": "code",
   "execution_count": null,
   "metadata": {},
   "outputs": [],
   "source": [
    "eng2sp['four']"
   ]
  },
  {
   "cell_type": "markdown",
   "metadata": {},
   "source": [
    "The len function works on dictionaries; it returns the number of key-value pairs:"
   ]
  },
  {
   "cell_type": "code",
   "execution_count": null,
   "metadata": {},
   "outputs": [],
   "source": [
    "len(eng2sp)"
   ]
  },
  {
   "cell_type": "markdown",
   "metadata": {},
   "source": [
    "The in operator works on dictionaries, too; it tells you whether something appears as a key\n",
    "in the dictionary (appearing as a value is not good enough)."
   ]
  },
  {
   "cell_type": "code",
   "execution_count": null,
   "metadata": {},
   "outputs": [],
   "source": [
    "'one' in eng2sp"
   ]
  },
  {
   "cell_type": "code",
   "execution_count": null,
   "metadata": {},
   "outputs": [],
   "source": [
    "'uno' in eng2sp"
   ]
  },
  {
   "cell_type": "markdown",
   "metadata": {},
   "source": [
    "To see whether something appears as a value in a dictionary, you can use the method\n",
    "values, which returns a collection of values, and then use the in operator:"
   ]
  },
  {
   "cell_type": "code",
   "execution_count": null,
   "metadata": {},
   "outputs": [],
   "source": [
    "vals = eng2sp.values()\n",
    "'uno' in vals"
   ]
  },
  {
   "cell_type": "markdown",
   "metadata": {},
   "source": [
    "The in operator uses different algorithms for lists and dictionaries. For lists, it searches the\n",
    "elements of the list in order, as in Section 8.6. As the list gets longer, the search time gets\n",
    "longer in direct proportion.\n",
    "\n",
    "For dictionaries, Python uses an algorithm called a **hashtable** that has a remarkable property:\n",
    "the in operator takes about the same amount of time no matter how many items are\n",
    "in the dictionary. I explain how that’s possible in Section B.4, but the explanation might\n",
    "not make sense until you’ve read a few more chapters.\n",
    "\n",
    "\n",
    "### 11.2 Dictionary as a collection of counters\n",
    "\n",
    "Suppose you are given a string and you want to count how many times each letter appears.\n",
    "There are several ways you could do it:\n",
    "\n",
    "1. You could create 26 variables, one for each letter of the alphabet. Then you could traverse\n",
    "the string and, for each character, increment the corresponding counter, probably\n",
    "using a chained conditional.<br><br>\n",
    "2. You could create a list with 26 elements. Then you could convert each character to\n",
    "a number (using the built-in function ord), use the number as an index into the list,\n",
    "and increment the appropriate counter.<br><br>\n",
    "3. You could create a dictionary with characters as keys and counters as the corresponding\n",
    "values. The first time you see a character, you would add an item to the dictionary.\n",
    "After that you would increment the value of an existing item.<br>\n",
    "\n",
    "Each of these options performs the same computation, but each of them implements that\n",
    "computation in a different way.\n",
    "\n",
    "An **implementation** is a way of performing a computation; some implementations are\n",
    "better than others. For example, an advantage of the dictionary implementation is that we\n",
    "don’t have to know ahead of time which letters appear in the string and we only have to\n",
    "make room for the letters that do appear.\n",
    "\n",
    "Here is what the code might look like:"
   ]
  },
  {
   "cell_type": "code",
   "execution_count": 41,
   "metadata": {},
   "outputs": [],
   "source": [
    "def histogram(s):\n",
    "    d = dict()\n",
    "    for c in s:\n",
    "        if c not in d:\n",
    "            d[c] = 1\n",
    "        else:\n",
    "            d[c] += 1\n",
    "    return d"
   ]
  },
  {
   "cell_type": "markdown",
   "metadata": {},
   "source": [
    "The name of the function is histogram, which is a statistical term for a collection of counters\n",
    "(or frequencies).\n",
    "\n",
    "The first line of the function creates an empty dictionary. The for loop traverses the string.\n",
    "Each time through the loop, if the character c is not in the dictionary, we create a new item\n",
    "with key c and the initial value 1 (since we have seen this letter once). If c is already in the\n",
    "dictionary we increment d[c].\n",
    "\n",
    "Here’s how it works:"
   ]
  },
  {
   "cell_type": "code",
   "execution_count": null,
   "metadata": {},
   "outputs": [],
   "source": [
    "h = histogram('brontosaurus')\n",
    "h"
   ]
  },
  {
   "cell_type": "markdown",
   "metadata": {},
   "source": [
    "The histogram indicates that the letters 'a' and 'b' appear once; 'o' appears twice, and\n",
    "so on.\n",
    "\n",
    "Dictionaries have a method called get that takes a key and a default value. If the key\n",
    "appears in the dictionary, get returns the corresponding value; otherwise it returns the\n",
    "default value. For example:"
   ]
  },
  {
   "cell_type": "code",
   "execution_count": null,
   "metadata": {},
   "outputs": [],
   "source": [
    "h = histogram('a')\n",
    "h"
   ]
  },
  {
   "cell_type": "code",
   "execution_count": null,
   "metadata": {},
   "outputs": [],
   "source": [
    "h.get('a', 0)"
   ]
  },
  {
   "cell_type": "code",
   "execution_count": null,
   "metadata": {},
   "outputs": [],
   "source": [
    "h.get('b', 0)"
   ]
  },
  {
   "cell_type": "markdown",
   "metadata": {},
   "source": [
    "As an exercise, use get to write histogram more concisely. You should be able to eliminate\n",
    "the if statement."
   ]
  },
  {
   "cell_type": "code",
   "execution_count": null,
   "metadata": {},
   "outputs": [],
   "source": []
  },
  {
   "cell_type": "markdown",
   "metadata": {},
   "source": [
    "### 11.3 Looping and dictionaries\n",
    "\n",
    "If you use a dictionary in a for statement, it traverses the keys of the dictionary. For example,\n",
    "print_hist prints each key and the corresponding value:"
   ]
  },
  {
   "cell_type": "code",
   "execution_count": null,
   "metadata": {},
   "outputs": [],
   "source": [
    "def print_hist(h):\n",
    "    for c in h:\n",
    "        print(c, h[c])\n"
   ]
  },
  {
   "cell_type": "markdown",
   "metadata": {},
   "source": [
    "Here’s what the output looks like:"
   ]
  },
  {
   "cell_type": "code",
   "execution_count": null,
   "metadata": {},
   "outputs": [],
   "source": [
    "print_hist(h)"
   ]
  },
  {
   "cell_type": "markdown",
   "metadata": {},
   "source": [
    "Again, the keys are in no particular order. To traverse the keys in sorted order, you can use\n",
    "the built-in function sorted:"
   ]
  },
  {
   "cell_type": "code",
   "execution_count": null,
   "metadata": {},
   "outputs": [],
   "source": [
    "def print_hist(h):\n",
    "    for key in sorted(h):\n",
    "        print(key, h[key])\n",
    "\n",
    "h = histogram('parrot')\n",
    "print_hist(h)"
   ]
  },
  {
   "cell_type": "markdown",
   "metadata": {},
   "source": [
    "11.4 Reverse lookup\n",
    "\n",
    "Given a dictionary d and a key k, it is easy to find the corresponding value v = d[k]. This\n",
    "operation is called a **lookup**.\n",
    "\n",
    "But what if you have v and you want to find k? You have two problems: first, there might\n",
    "be more than one key that maps to the value v. Depending on the application, you might\n",
    "be able to pick one, or you might have to make a list that contains all of them. Second,\n",
    "there is no simple syntax to do a **reverse lookup**; you have to search.\n",
    "\n",
    "Here is a function that takes a value and returns the first key that maps to that value:"
   ]
  },
  {
   "cell_type": "code",
   "execution_count": null,
   "metadata": {},
   "outputs": [],
   "source": [
    "def reverse_lookup(d, v):\n",
    "    for k in d:\n",
    "        if d[k] == v:\n",
    "            return k\n",
    "    raise LookupError()"
   ]
  },
  {
   "cell_type": "markdown",
   "metadata": {},
   "source": [
    "This function is yet another example of the search pattern, but it uses a feature we haven’t\n",
    "seen before, raise. The **raise statement** causes an exception; in this case it causes a\n",
    "LookupError, which is a built-in exception used to indicate that a lookup operation failed.\n",
    "\n",
    "If we get to the end of the loop, that means v doesn’t appear in the dictionary as a value, so\n",
    "we raise an exception.\n",
    "\n",
    "Here is an example of a successful reverse lookup:"
   ]
  },
  {
   "cell_type": "code",
   "execution_count": null,
   "metadata": {},
   "outputs": [],
   "source": [
    "h = histogram('parrot')\n",
    "key = reverse_lookup(h, 2)\n",
    "key"
   ]
  },
  {
   "cell_type": "markdown",
   "metadata": {},
   "source": [
    "And an unsuccessful one:"
   ]
  },
  {
   "cell_type": "code",
   "execution_count": null,
   "metadata": {},
   "outputs": [],
   "source": [
    "key = reverse_lookup(h, 3)"
   ]
  },
  {
   "cell_type": "markdown",
   "metadata": {},
   "source": [
    "The effect when you raise an exception is the same as when Python raises one: it prints a\n",
    "traceback and an error message.\n",
    "\n",
    "The raise statement can take a detailed error message as an optional argument. For example:"
   ]
  },
  {
   "cell_type": "code",
   "execution_count": null,
   "metadata": {},
   "outputs": [],
   "source": [
    "raise LookupError('value does not appear in the dictionary')"
   ]
  },
  {
   "cell_type": "markdown",
   "metadata": {},
   "source": [
    "A reverse lookup is much slower than a forward lookup; if you have to do it often, or if the\n",
    "dictionary gets big, the performance of your program will suffer.\n",
    "\n",
    "\n",
    "### 11.5 Dictionaries and lists\n",
    "\n",
    "Lists can appear as values in a dictionary. For example, if you are given a dictionary that\n",
    "maps from letters to frequencies, you might want to invert it; that is, create a dictionary\n",
    "that maps from frequencies to letters. Since there might be several letters with the same\n",
    "frequency, each value in the inverted dictionary should be a list of letters.\n",
    "\n",
    "Here is a function that inverts a dictionary:"
   ]
  },
  {
   "cell_type": "code",
   "execution_count": null,
   "metadata": {},
   "outputs": [],
   "source": [
    "def invert_dict(d):\n",
    "    inverse = dict()\n",
    "    for key in d:\n",
    "        val = d[key]\n",
    "        if val not in inverse:\n",
    "            inverse[val] = [key]\n",
    "        else:\n",
    "            inverse[val].append(key)\n",
    "    return inverse"
   ]
  },
  {
   "cell_type": "markdown",
   "metadata": {},
   "source": [
    "Each time through the loop, key gets a key from d and val gets the corresponding value.\n",
    "If val is not in inverse, that means we haven’t seen it before, so we create a new item and\n",
    "initialize it with a **singleton** (a list that contains a single element). Otherwise we have seen\n",
    "this value before, so we append the corresponding key to the list.\n",
    "\n",
    "Here is an example:"
   ]
  },
  {
   "cell_type": "code",
   "execution_count": null,
   "metadata": {},
   "outputs": [],
   "source": [
    "hist = histogram('parrot')\n",
    "hist"
   ]
  },
  {
   "cell_type": "code",
   "execution_count": null,
   "metadata": {},
   "outputs": [],
   "source": [
    "inverse = invert_dict(hist)\n",
    "inverse"
   ]
  },
  {
   "attachments": {
    "fig11_1.gif": {
     "image/gif": "[encoded data removed]"
    }
   },
   "cell_type": "markdown",
   "metadata": {},
   "source": [
    "![fig11_1.gif](attachment:fig11_1.gif)\n",
    "Figure 11.1 is a state diagram showing hist and inverse. A dictionary is represented as a\n",
    "box with the type dict above it and the key-value pairs inside. If the values are integers,\n",
    "floats or strings, they are drawn inside the box, but usually lists are drawn outside the box, just\n",
    "to keep the diagram simple.\n",
    "\n",
    "Lists can be values in a dictionary, as this example shows, but they cannot be keys. Here’s\n",
    "what happens if you try:"
   ]
  },
  {
   "cell_type": "code",
   "execution_count": null,
   "metadata": {},
   "outputs": [],
   "source": [
    "t = [1, 2, 3]\n",
    "d = dict()\n",
    "d[t] = 'oops'"
   ]
  },
  {
   "cell_type": "markdown",
   "metadata": {},
   "source": [
    "It was mentioned earlier that a dictionary is implemented using a hashtable and that means that\n",
    "the keys have to be **hashable**.\n",
    "\n",
    "A **hash** is a function that takes a value (of any kind) and returns an integer. Dictionaries\n",
    "use these integers, called hash values, to store and look up key-value pairs.\n",
    "\n",
    "This system works fine if the keys are immutable. But if the keys are mutable, like lists,\n",
    "bad things happen. For example, when you create a key-value pair, Python hashes the key\n",
    "and stores it in the corresponding location. If you modify the key and then hash it again, it\n",
    "would go to a different location. In that case you might have two entries for the same key,\n",
    "or you might not be able to find a key. Either way, the dictionary wouldn’t work correctly.\n",
    "\n",
    "That’s why keys have to be hashable, and why mutable types like lists aren’t. The simplest\n",
    "way to get around this limitation is to use tuples, which we will see in the next chapter.\n",
    "\n",
    "Since dictionaries are mutable, they can’t be used as keys, but they can be used as values."
   ]
  },
  {
   "cell_type": "markdown",
   "metadata": {},
   "source": [
    "### 11.7 Global variables\n",
    "\n",
    "In the previous example, known is created outside the function, so it belongs to the special\n",
    "frame called \\_\\_main\\_\\_. Variables in \\_\\_main\\_\\_ are sometimes called **global** because they\n",
    "can be accessed from any function. Unlike local variables, which disappear when their\n",
    "function ends, global variables persist from one function call to the next.\n",
    "\n",
    "It is common to use global variables for **flags**; that is, boolean variables that indicate (“flag”)\n",
    "whether a condition is true. For example, some programs use a flag named verbose to\n",
    "control the level of detail in the output:"
   ]
  },
  {
   "cell_type": "code",
   "execution_count": null,
   "metadata": {},
   "outputs": [],
   "source": [
    "verbose = True\n",
    "\n",
    "def example1():\n",
    "    if verbose:\n",
    "        print('Running example1')\n",
    "\n",
    "example1()"
   ]
  },
  {
   "cell_type": "markdown",
   "metadata": {},
   "source": [
    "If you try to reassign a global variable, you might be surprised. The following example is\n",
    "supposed to keep track of whether the function has been called:"
   ]
  },
  {
   "cell_type": "code",
   "execution_count": null,
   "metadata": {},
   "outputs": [],
   "source": [
    "been_called = False\n",
    "\n",
    "def example2():\n",
    "    been_called = True # WRONG\n",
    "    \n",
    "example2()\n",
    "been_called"
   ]
  },
  {
   "cell_type": "markdown",
   "metadata": {},
   "source": [
    "But if you run it you will see that the value of been_called doesn’t change. The problem\n",
    "is that example2 creates a new local variable named been_called. The local variable goes\n",
    "away when the function ends, and has no effect on the global variable.\n",
    "\n",
    "To reassign a global variable inside a function you have to **declare** the global variable before\n",
    "you use it:"
   ]
  },
  {
   "cell_type": "code",
   "execution_count": null,
   "metadata": {},
   "outputs": [],
   "source": [
    "been_called = False\n",
    "\n",
    "def example2():\n",
    "    global been_called\n",
    "    been_called = True\n",
    "    \n",
    "example2()\n",
    "been_called"
   ]
  },
  {
   "cell_type": "markdown",
   "metadata": {},
   "source": [
    "The **global statement** tells the interpreter something like, “In this function, when I say\n",
    "been_called, I mean the global variable; don’t create a local one.”\n",
    "\n",
    "Here’s an example that tries to update a global variable:"
   ]
  },
  {
   "cell_type": "code",
   "execution_count": null,
   "metadata": {},
   "outputs": [],
   "source": [
    "count = 0\n",
    "\n",
    "def example3():\n",
    "    count = count + 1 # WRONG"
   ]
  },
  {
   "cell_type": "markdown",
   "metadata": {},
   "source": [
    "If you run it you get:"
   ]
  },
  {
   "cell_type": "code",
   "execution_count": null,
   "metadata": {},
   "outputs": [],
   "source": [
    "example3()"
   ]
  },
  {
   "cell_type": "markdown",
   "metadata": {},
   "source": [
    "Python assumes that count is local, and under that assumption you are reading it before\n",
    "writing it. The solution, again, is to declare count global."
   ]
  },
  {
   "cell_type": "code",
   "execution_count": null,
   "metadata": {},
   "outputs": [],
   "source": [
    "def example3():\n",
    "    global count\n",
    "    count += 1\n",
    "    \n",
    "example3()\n",
    "count"
   ]
  },
  {
   "cell_type": "markdown",
   "metadata": {},
   "source": [
    "If a global variable refers to a mutable value, you can modify the value without declaring\n",
    "the variable:"
   ]
  },
  {
   "cell_type": "code",
   "execution_count": null,
   "metadata": {},
   "outputs": [],
   "source": [
    "known = {0:0, 1:1}\n",
    "\n",
    "def example4():\n",
    "    known[2] = 1\n",
    "\n",
    "example4()\n",
    "known"
   ]
  },
  {
   "cell_type": "markdown",
   "metadata": {},
   "source": [
    "So you can add, remove and replace elements of a global list or dictionary, but if you want\n",
    "to reassign the variable, you have to declare it:"
   ]
  },
  {
   "cell_type": "code",
   "execution_count": null,
   "metadata": {},
   "outputs": [],
   "source": [
    "def example5():\n",
    "    global known\n",
    "    known = dict()\n",
    "    \n",
    "example5()\n",
    "known"
   ]
  },
  {
   "cell_type": "markdown",
   "metadata": {},
   "source": [
    "Global variables can be useful, but if you have a lot of them, and you modify them frequently,\n",
    "they can make programs hard to debug.\n",
    "\n",
    "\n",
    "### 11.8 Debugging\n",
    "\n",
    "As you work with bigger datasets it can become unwieldy to debug by printing and checking\n",
    "the output by hand. Here are some suggestions for debugging large datasets:\n",
    "\n",
    "**Scale down the input:** If possible, reduce the size of the dataset. For example if the program\n",
    "reads a text file, start with just the first 10 lines, or with the smallest example\n",
    "you can find. You can either edit the files themselves, or (better) modify the program\n",
    "so it reads only the first n lines.\n",
    "\n",
    "If there is an error, you can reduce n to the smallest value that manifests the error, and\n",
    "then increase it gradually as you find and correct errors.\n",
    "\n",
    "**Check summaries and types:** Instead of printing and checking the entire dataset, consider\n",
    "printing summaries of the data: for example, the number of items in a dictionary or\n",
    "the total of a list of numbers.\n",
    "\n",
    "A common cause of runtime errors is a value that is not the right type. For debugging\n",
    "this kind of error, it is often enough to print the type of a value.\n",
    "\n",
    "**Write self-checks:** Sometimes you can write code to check for errors automatically. For\n",
    "example, if you are computing the average of a list of numbers, you could check that\n",
    "the result is not greater than the largest element in the list or less than the smallest.\n",
    "This is called a “sanity check” because it detects results that are “insane”.\n",
    "\n",
    "Another kind of check compares the results of two different computations to see if\n",
    "they are consistent. This is called a “consistency check”.\n",
    "\n",
    "**Format the output:** Formatting debugging output can make it easier to spot an error. We\n",
    "saw an example in Section 6.9. Another tool you might find useful is the pprint module,\n",
    "which provides a pprint function that displays built-in types in a more human-readable\n",
    "format (pprint stands for “pretty print”).\n",
    "\n",
    "Again, time you spend building scaffolding can reduce the time you spend debugging.\n",
    "\n",
    "\n",
    "### 11.9 Glossary\n",
    "\n",
    "**mapping:** A relationship in which each element of one set corresponds to an element of\n",
    "another set.\n",
    "\n",
    "**dictionary:** A mapping from keys to their corresponding values.\n",
    "\n",
    "**key-value pair:** The representation of the mapping from a key to a value.\n",
    "\n",
    "**item:** In a dictionary, another name for a key-value pair.\n",
    "\n",
    "**key:** An object that appears in a dictionary as the first part of a key-value pair.\n",
    "\n",
    "**value:** An object that appears in a dictionary as the second part of a key-value pair. This is\n",
    "more specific than our previous use of the word “value”.\n",
    "\n",
    "**implementation:** A way of performing a computation.\n",
    "\n",
    "**hashtable:** The algorithm used to implement Python dictionaries.\n",
    "\n",
    "**hash function:** A function used by a hashtable to compute the location for a key.\n",
    "\n",
    "**hashable:** Atype that has a hash function. Immutable types like integers, floats and strings\n",
    "are hashable; mutable types like lists and dictionaries are not.\n",
    "\n",
    "**lookup:** A dictionary operation that takes a key and finds the corresponding value.\n",
    "\n",
    "**reverse lookup:** A dictionary operation that takes a value and finds one or more keys that\n",
    "map to it.\n",
    "\n",
    "**raise statement:** A statement that (deliberately) raises an exception.\n",
    "\n",
    "**singleton:** A list (or other sequence) with a single element.\n",
    "\n",
    "**call graph:** A diagram that shows every frame created during the execution of a program,\n",
    "with an arrow from each caller to each callee.\n",
    "\n",
    "**memo:** A computed value stored to avoid unnecessary future computation.\n",
    "\n",
    "**global variable:** A variable defined outside a function. Global variables can be accessed\n",
    "from any function.\n",
    "\n",
    "**global statement:** A statement that declares a variable name global.\n",
    "\n",
    "**flag:** A boolean variable used to indicate whether a condition is true.\n",
    "\n",
    "**declaration:** A statement like global that tells the interpreter something about a variable.\n",
    "\n",
    "\n",
    "### 11.10 Exercises\n",
    "\n",
    "#### Exercise 11.1. \n",
    "Write a function that reads the words in words.txt and stores them as keys in a\n",
    "dictionary. It doesn’t matter what the values are. Then you can use the in operator as a fast way to\n",
    "check whether a string is in the dictionary.\n",
    "\n",
    "If you did Exercise 10.10, you can compare the speed of this implementation with the list in operator\n",
    "and the bisection search."
   ]
  },
  {
   "cell_type": "code",
   "execution_count": 24,
   "metadata": {},
   "outputs": [
    {
     "data": {
      "text/plain": [
       "62"
      ]
     },
     "execution_count": 24,
     "metadata": {},
     "output_type": "execute_result"
    }
   ],
   "source": [
    "# SOLUTION 11.1 COMPLETED:\n",
    "\n",
    "def create_words_list():\n",
    "    fin = open('wordsFor11dot1.txt')\n",
    "    wordlist = []\n",
    "    for line in fin:\n",
    "        words = line.strip()      # Removes \\n at end of line\n",
    "        delimiter = ' '\n",
    "        wordlist = wordlist + words.split(delimiter)\n",
    "#    print(wordlist)\n",
    "    return wordlist\n",
    "\n",
    "def make_dict(in_list):\n",
    "    value = 0\n",
    "    words_dict = {}\n",
    "    sorted(in_list)\n",
    "#    print(in_list)\n",
    "    while(in_list != []):\n",
    "        key = in_list.pop(0)\n",
    "        v = value\n",
    "        words_dict.update({key : v})\n",
    "        value = value + 1\n",
    "#    print(words_dict)\n",
    "    return words_dict\n",
    "\n",
    "wordlist = create_words_list()\n",
    "wordlist.sort()\n",
    "my_dict = make_dict(wordlist)\n",
    "my_dict['mechanic']"
   ]
  },
  {
   "cell_type": "markdown",
   "metadata": {},
   "source": [
    "#### Exercise 11.2. \n",
    "Read the documentation of the dictionary method setdefault and use it to write a\n",
    "more concise version of invert_dict. \n",
    "\n",
    "Solution: http://thinkpython2.com/code/invert_dict.py ."
   ]
  },
  {
   "cell_type": "code",
   "execution_count": 60,
   "metadata": {},
   "outputs": [
    {
     "data": {
      "text/plain": [
       "{1: 'Apple', 2: 'Banana', 3: 'Grapes', 4: 'Pineapple', 5: 'Strawberry'}"
      ]
     },
     "execution_count": 60,
     "metadata": {},
     "output_type": "execute_result"
    }
   ],
   "source": [
    "# \n",
    "\n",
    "# ORIGINAL invert_dict:\n",
    "def orig_invert_dict(d):\n",
    "    inverse = dict()\n",
    "    for key in d:\n",
    "        val = d[key]\n",
    "        if val not in inverse:\n",
    "            inverse[val] = [key]\n",
    "        else:\n",
    "            inverse[val].append(key)\n",
    "    return inverse\n",
    "\n",
    "# NEW invert_dict:\n",
    "def invert_dict(d):\n",
    "    d_invert = {}\n",
    "    for k,v in d.items():\n",
    "        d_invert.update({v:k})\n",
    "#    print(d_invert)\n",
    "    return d_invert\n",
    "\n",
    "d = {'Apple':1, 'Banana':2, 'Grapes':3, 'Pineapple':4, 'Strawberry':5}\n",
    "#orig_invert_dict(d)\n",
    "invert_dict(d)"
   ]
  },
  {
   "cell_type": "markdown",
   "metadata": {},
   "source": [
    "#### Exercise 11.3. \n",
    "Memoize the Ackermann function from Exercise 6.2 and see if memoization\n",
    "makes it possible to evaluate the function with bigger arguments. Hint: no. \n",
    "    \n",
    "Solution: http://thinkpython2.com/code/ackermann_memo.py ."
   ]
  },
  {
   "cell_type": "code",
   "execution_count": 40,
   "metadata": {},
   "outputs": [],
   "source": [
    "# NOT SURE I UNDERSTAND THIS PROBLEM\n",
    "\n",
    "def memoize(ackermann):\n",
    "    pass\n",
    "\n",
    "def ackermann(a,b):\n",
    "    if a == 0:\n",
    "#        print(a,b)\n",
    "        return b+1\n",
    "    if b == 0:\n",
    "        a = a-1\n",
    "#        print(a,b)\n",
    "        return ackermann(a, 1)\n",
    "    return ackermann(a-1, ackermann(a,b-1))\n",
    "\n",
    "ackermann = memoize(ackermann)"
   ]
  },
  {
   "cell_type": "markdown",
   "metadata": {},
   "source": [
    "#### Exercise 11.4. \n",
    "If you did Exercise 10.7, you already have a function named has_duplicates that\n",
    "takes a list as a parameter and returns True if there is any object that appears more than once in the\n",
    "list.\n",
    "\n",
    "Use a dictionary to write a faster, simpler version of has_duplicates. \n",
    "\n",
    "Solution: http://thinkpython2.com/code/has_duplicates.py ."
   ]
  },
  {
   "cell_type": "code",
   "execution_count": 38,
   "metadata": {},
   "outputs": [
    {
     "ename": "IndentationError",
     "evalue": "unexpected indent (<ipython-input-38-f57976cc8249>, line 2)",
     "output_type": "error",
     "traceback": [
      "\u001b[1;36m  File \u001b[1;32m\"<ipython-input-38-f57976cc8249>\"\u001b[1;36m, line \u001b[1;32m2\u001b[0m\n\u001b[1;33m    sorted(t)\u001b[0m\n\u001b[1;37m    ^\u001b[0m\n\u001b[1;31mIndentationError\u001b[0m\u001b[1;31m:\u001b[0m unexpected indent\n"
     ]
    }
   ],
   "source": [
    "# SOLUTION 11.4 COMPLETED\n",
    "\n",
    "def create_dict(t):\n",
    "    sorted(t)\n",
    "    d = {}\n",
    "    for word in t:\n",
    "        if word not in d:\n",
    "            d[word] = 1\n",
    "        else:\n",
    "            d[word] += 1\n",
    "    return d\n",
    "\n",
    "def has_duplicates(d):\n",
    "    Flag = 0\n",
    "    for key, value in d.items():\n",
    "        if value > 1:\n",
    "            Flag = 1\n",
    "            print(\"FALSE. Yes, There are duplicates!!\", key, \"occurs\", value, \"times in the list\")\n",
    "        else:\n",
    "            pass\n",
    "    if Flag == 0:\n",
    "        print(\"TRUE. No, There are NO duplicates in the list\")\n",
    "        \n",
    "myinput = ['cat', 'cow', 'mouse', 'house', 'monkey', 'horse']  # List WITHOUT Duplicates\n",
    "#myinput = ['cat', 'cat', 'mouse', 'house', 'house', 'horse']  # List WITH Duplicates\n",
    "dictionary = create_dict(myinput)\n",
    "has_duplicates(dictionary)\n",
    "print(\"Input \", myinput, \"is unmodified\")\n",
    "print(dictionary)"
   ]
  },
  {
   "cell_type": "code",
   "execution_count": 50,
   "metadata": {},
   "outputs": [
    {
     "name": "stdout",
     "output_type": "stream",
     "text": [
      "[1, 2, 3] {}\n",
      "1 [1, 2, 3] {}\n",
      "2 [1, 2, 3] {1: True}\n",
      "3 [1, 2, 3] {1: True, 2: True}\n",
      "False\n",
      "[1, 2, 3, 1] {}\n",
      "1 [1, 2, 3, 1] {}\n",
      "2 [1, 2, 3, 1] {1: True}\n",
      "3 [1, 2, 3, 1] {1: True, 2: True}\n",
      "1 [1, 2, 3, 1] {1: True, 2: True, 3: True}\n",
      "True\n"
     ]
    }
   ],
   "source": [
    "# SOLUTION FROM LINK(MY SOLUTION ABOVE):\n",
    "def has_duplicates(t):\n",
    "    d = {}\n",
    "    print(t, d)\n",
    "    for x in t:\n",
    "        print(x, t, d)\n",
    "        if x in d:\n",
    "            return True\n",
    "        d[x] = True\n",
    "    return False\n",
    "\n",
    "t = [1, 2, 3]\n",
    "print(has_duplicates(t))\n",
    "t.append(1)\n",
    "print(has_duplicates(t))"
   ]
  },
  {
   "cell_type": "markdown",
   "metadata": {},
   "source": [
    "#### Exercise 11.5. \n",
    "Two words are “rotate pairs” if you can rotate one of them and get the other (see\n",
    "rotate_word in Exercise 8.5).\n",
    "\n",
    "Write a program that reads a wordlist and finds all the rotate pairs. \n",
    "\n",
    "Solution: http://thinkpython2.com/code/rotate_pairs.py ."
   ]
  },
  {
   "cell_type": "code",
   "execution_count": 37,
   "metadata": {},
   "outputs": [
    {
     "name": "stdout",
     "output_type": "stream",
     "text": [
      "Shaila Tibjmb are rotated pairs in list\n",
      "Shaila Ujcknc are rotated pairs in list\n",
      "Ujcknc Shaila are rotated pairs in list\n",
      "Ujcknc Tibjmb are rotated pairs in list\n",
      "Tibjmb Ujcknc are rotated pairs in list\n",
      "Tibjmb Shaila are rotated pairs in list\n",
      "bayarea cbzbsfb are rotated pairs in list\n",
      "cbzbsfb bayarea are rotated pairs in list\n"
     ]
    }
   ],
   "source": [
    "# SOLUTION 11.5 COMPLETED\n",
    "def get_num(x,n):\n",
    "    if(65 <= x <=90):\n",
    "        upper=x+n\n",
    "        if(65 <= upper <= 90):\n",
    "            return upper\n",
    "        else:\n",
    "            mod=upper-90\n",
    "            newupper=65+mod-1\n",
    "            return newupper    \n",
    "    if(97 <= x <= 122):\n",
    "        lower=x+n\n",
    "        if(97 <= lower <= 122):\n",
    "            return lower\n",
    "        else:\n",
    "            ext=lower-122\n",
    "            newlower=97+ext-1\n",
    "            return newlower \n",
    "        \n",
    "def create_dict(t):\n",
    "    sorted(t)\n",
    "    d = {}\n",
    "    for word in t:\n",
    "        if word not in d:\n",
    "            d[word] = 1\n",
    "        else:\n",
    "            d[word] += 1\n",
    "    return d\n",
    "\n",
    "def get_rot_list(word):\n",
    "    rot_list = []\n",
    "    length = len(word)\n",
    "    n = 0\n",
    "#    print(word, length, n)\n",
    "    for n in range(0,26):\n",
    "        new = ''\n",
    "        for i in range(0, length):\n",
    "            x = chr(get_num(ord(word[i]),n))\n",
    "            new += x\n",
    "#        print(word[i],x, new)\n",
    "        rot_list.append(new)\n",
    "#        print(rot_list)\n",
    "        n += 1        \n",
    "#    print(rot_list)\n",
    "    return rot_list\n",
    "\n",
    "def get_pairs(mlist):\n",
    "    Flag = 0\n",
    "    tmp_list = mlist\n",
    "    list_length = len(mlist)\n",
    "    list_index = 0\n",
    "    RotatedWordListIndex = 0\n",
    "    for word in mlist:\n",
    "        word_rot_list = get_rot_list(word)\n",
    "#        print(word_rot_list)\n",
    "        length = len(word_rot_list)\n",
    "        while (word_rot_list != []):\n",
    "            rot_word = word_rot_list.pop(0)\n",
    "            if ( rot_word in tmp_list ) and (rot_word != word) :\n",
    "                ix = tmp_list.index(rot_word)\n",
    "                print(word, rot_word, \"are rotated pairs in list\")\n",
    "                Flag = 1\n",
    "    if Flag == 0:\n",
    "        print(\"There are NO ROTATED PAIRS in this list!!\")\n",
    "\n",
    "mylist = ['Shaila', 'Ujcknc', 'monkey', 'Tibjmb', 'bayarea', 'cbzbsfb', 'edbhuhd', 'horse'] # WITH Rotated pairs\n",
    "#mylist = ['Shaila', 'Bayarea', 'monkey', 'horse', 'Ujcknb'] # WITHOUT rotated pairs\n",
    "\n",
    "get_pairs(mylist)"
   ]
  },
  {
   "cell_type": "markdown",
   "metadata": {},
   "source": [
    "#### Exercise 11.6. \n",
    "Here’s another Puzzler from Car Talk (http: // www. cartalk. com/ content/\n",
    "puzzlers ):\n",
    "\n",
    ">This was sent in by a fellow named Dan O’Leary. He came upon a common one-syllable,\n",
    "five-letter word recently that has the following unique property. When you remove the\n",
    "first letter, the remaining letters form a homophone of the original word, that is a word\n",
    "that sounds exactly the same. Replace the first letter, that is, put it back and remove\n",
    "the second letter and the result is yet another homophone of the original word. And the\n",
    "question is, what’s the word?<br><br>\n",
    "Now I’m going to give you an example that doesn’t work. Let’s look at the five-letter\n",
    "word, ‘wrack.’ W-R-A-C-K, you know like to ‘wrack with pain.’ If I remove the first\n",
    "letter, I am left with a four-letter word, ’R-A-C-K.’ As in, ‘Holy cow, did you see the\n",
    "rack on that buck! It must have been a nine-pointer!’ It’s a perfect homophone. If you\n",
    "put the ‘w’ back, and remove the ‘r,’ instead, you’re left with the word, ‘wack,’ which is\n",
    "a real word, it’s just not a homophone of the other two words.<br><br>\n",
    "But there is, however, at least one word that Dan and we know of, which will yield two\n",
    "homophones if you remove either of the first two letters to make two, new four-letter\n",
    "words. The question is, what’s the word?<br><br>\n",
    "\n",
    "You can use the dictionary from Exercise 11.1 to check whether a string is in the word list.\n",
    "To check whether two words are homophones, you can use the CMU Pronouncing Dictionary. \n",
    "\n",
    "You can download it from http://www.speech.cs.cmu.edu/cgi-bin/cmudict or from http://thinkpython2.com/code/c06d .\n",
    "\n",
    "You can also download http://thinkpython2.com/code/pronounce.py , which provides a function named read_dictionary that reads the\n",
    "pronouncing dictionary and returns a Python dictionary that maps from each word to a string that\n",
    "describes its primary pronunciation.\n",
    "\n",
    "Write a program that lists all the words that solve the Puzzler. \n",
    "\n",
    "Solution: http://thinkpython2.com/code/homophone.py ."
   ]
  },
  {
   "cell_type": "code",
   "execution_count": null,
   "metadata": {},
   "outputs": [],
   "source": []
  },
  {
   "cell_type": "markdown",
   "metadata": {},
   "source": [
    "Source material from:\n",
    "\n",
    "Think Python<br>\n",
    "How to Think Like a Computer Scientist<br>\n",
    "2nd Edition, Version 2.2.23<br>\n",
    "Allen Downey<br>\n",
    "Copyright © 2015 Allen Downey. <br>\n",
    "<br>\n",
    "Source material used under the Creative Commons Attribution-NonCommercial 3.0 Unported License. To view a copy of this license, visit http://creativecommons.org/licenses/by-nc/3.0/ or send a letter to Creative Commons, PO Box 1866, Mountain View, CA 94042, USA.\n",
    "\n",
    "\n",
    "Adapted to Jupyter Notebooks with additional material by Warren Watts, Copyright © 2018"
   ]
  }
 ],
 "metadata": {
  "kernelspec": {
   "display_name": "Python 3",
   "language": "python",
   "name": "python3"
  },
  "language_info": {
   "codemirror_mode": {
    "name": "ipython",
    "version": 3
   },
   "file_extension": ".py",
   "mimetype": "text/x-python",
   "name": "python",
   "nbconvert_exporter": "python",
   "pygments_lexer": "ipython3",
   "version": "3.7.3"
  }
 },
 "nbformat": 4,
 "nbformat_minor": 2
}
