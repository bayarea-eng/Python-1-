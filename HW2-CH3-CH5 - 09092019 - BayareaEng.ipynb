{
 "cells": [
  {
   "cell_type": "code",
   "execution_count": 1,
   "metadata": {},
   "outputs": [],
   "source": [
    "## HOMEWORK EXERCISES FOR CHAPTER 3\n",
    "# Exercise 3.1\n",
    "# Write a function named right_justify that takes a string named s \n",
    "# as a parameter and prints the string with enough leading spaces \n",
    "# so that the last letter of the string is in column 70 of the display.\n",
    "# Hint: Use string concatenation and repetition. Also, Python provides \n",
    "# a built-in function called len that returns the length of a string, \n",
    "# so the value of len('monty') is 5"
   ]
  },
  {
   "cell_type": "code",
   "execution_count": 2,
   "metadata": {},
   "outputs": [
    {
     "data": {
      "text/plain": [
       "7"
      ]
     },
     "execution_count": 2,
     "metadata": {},
     "output_type": "execute_result"
    }
   ],
   "source": [
    "len('Bayarea')"
   ]
  },
  {
   "cell_type": "code",
   "execution_count": 3,
   "metadata": {
    "scrolled": false
   },
   "outputs": [
    {
     "name": "stdout",
     "output_type": "stream",
     "text": [
      "Bayarea\n",
      "7\n",
      "62\n",
      "                                                               Bayarea\n"
     ]
    }
   ],
   "source": [
    "def right_justify(s):\n",
    "    print(s)\n",
    "    Length=len(s)\n",
    "    print(Length)\n",
    "    NumSpaces=69-Length\n",
    "    print(NumSpaces)\n",
    "    FinalString=print(' '*NumSpaces,s)\n",
    "\n",
    "# print(\" \"*(69-len(s)) , s)\n",
    "# print(\" \"*(70-len(s)) + s)\n",
    "\n",
    "right_justify('Bayarea')"
   ]
  },
  {
   "cell_type": "code",
   "execution_count": 4,
   "metadata": {
    "scrolled": false
   },
   "outputs": [
    {
     "name": "stdout",
     "output_type": "stream",
     "text": [
      "did\n",
      "3\n",
      "66\n",
      "                                                                   did\n"
     ]
    }
   ],
   "source": [
    "right_justify(\"did\")"
   ]
  },
  {
   "cell_type": "code",
   "execution_count": 5,
   "metadata": {},
   "outputs": [
    {
     "name": "stdout",
     "output_type": "stream",
     "text": [
      "I\n",
      "1\n",
      "68\n",
      "                                                                     I\n"
     ]
    }
   ],
   "source": [
    "right_justify(\"I\")"
   ]
  },
  {
   "cell_type": "code",
   "execution_count": 6,
   "metadata": {},
   "outputs": [
    {
     "name": "stdout",
     "output_type": "stream",
     "text": [
      "do\n",
      "2\n",
      "67\n",
      "                                                                    do\n"
     ]
    }
   ],
   "source": [
    "right_justify(\"do\")"
   ]
  },
  {
   "cell_type": "code",
   "execution_count": 7,
   "metadata": {},
   "outputs": [
    {
     "name": "stdout",
     "output_type": "stream",
     "text": [
      "this\n",
      "4\n",
      "65\n",
      "                                                                  this\n"
     ]
    }
   ],
   "source": [
    "right_justify(\"this\")"
   ]
  },
  {
   "cell_type": "code",
   "execution_count": 8,
   "metadata": {},
   "outputs": [
    {
     "name": "stdout",
     "output_type": "stream",
     "text": [
      "right\n",
      "5\n",
      "64\n",
      "                                                                 right\n"
     ]
    }
   ],
   "source": [
    "right_justify(\"right\")"
   ]
  },
  {
   "cell_type": "code",
   "execution_count": 9,
   "metadata": {
    "scrolled": false
   },
   "outputs": [
    {
     "name": "stdout",
     "output_type": "stream",
     "text": [
      "spam\n",
      "spam\n"
     ]
    }
   ],
   "source": [
    "# 3.2.1 \n",
    "# Type this example into a cell and test it.\n",
    "def do_twice(f):\n",
    "    f()\n",
    "    f()\n",
    "\n",
    "def print_spam():\n",
    "    print('spam')\n",
    "\n",
    "do_twice(print_spam)"
   ]
  },
  {
   "cell_type": "code",
   "execution_count": 71,
   "metadata": {
    "scrolled": true
   },
   "outputs": [
    {
     "name": "stdout",
     "output_type": "stream",
     "text": [
      "spam\n",
      "spam\n"
     ]
    }
   ],
   "source": [
    "# 3.2.2 Exercise to pass one argument\n",
    "# Modify do_twice so that it takes two arguments, \n",
    "# a function object and a value, and calls the function twice, \n",
    "# passing the value as an argument.\n",
    "\n",
    "def do_twice(f,a):\n",
    "    f(a)\n",
    "    f(a)\n",
    "\n",
    "def print_spam(s):\n",
    "    print(s)\n",
    "\n",
    "do_twice(print_spam,'spam')"
   ]
  },
  {
   "cell_type": "code",
   "execution_count": 80,
   "metadata": {
    "scrolled": false
   },
   "outputs": [
    {
     "name": "stdout",
     "output_type": "stream",
     "text": [
      "spam me\n",
      "spam me\n"
     ]
    }
   ],
   "source": [
    "# 3.2.X Exercise to pass TWO arguments\n",
    "\n",
    "\n",
    "def do_twice(f,a,b):\n",
    "    f(a,b)\n",
    "    f(a,b)\n",
    "\n",
    "def print_spam(s,m):\n",
    "    print(s,m)\n",
    "\n",
    "do_twice(print_spam,'spam', 'me')"
   ]
  },
  {
   "cell_type": "code",
   "execution_count": 91,
   "metadata": {
    "scrolled": false
   },
   "outputs": [
    {
     "name": "stdout",
     "output_type": "stream",
     "text": [
      "spam\n",
      "spam\n",
      "spam\n",
      "spam\n"
     ]
    }
   ],
   "source": [
    "# 3.2.3\n",
    "# Use the modified version of do_twice to call print_twice twice, \n",
    "# passing 'spam' as an argument.\n",
    "\n",
    "def do_twice(f,a):\n",
    "    f(a)\n",
    "    f(a)\n",
    "\n",
    "def print_twice(s):\n",
    "    print(s)\n",
    "    print(s)\n",
    "\n",
    "do_twice(print_twice,'spam')"
   ]
  },
  {
   "cell_type": "code",
   "execution_count": 89,
   "metadata": {
    "scrolled": true
   },
   "outputs": [
    {
     "name": "stdout",
     "output_type": "stream",
     "text": [
      "spam\n",
      "spam\n",
      "spam\n",
      "spam\n"
     ]
    }
   ],
   "source": [
    "# 3.2.4\n",
    "# Define a new function called do_four that takes a function object and a value\n",
    "# and calls the function four times, passing the value as a parameter. There \n",
    "# should be only two statements in the body of this function, not four.\n",
    "\n",
    "def do_four(f,a):\n",
    "    do_twice(print_spam, a)\n",
    "    do_twice(print_spam, a)\n",
    "\n",
    "def do_twice(f,a):\n",
    "    f(a)\n",
    "    f(a)\n",
    "    \n",
    "def print_spam(s):\n",
    "    print(s)\n",
    "\n",
    "do_four(print_spam,'spam')\n"
   ]
  },
  {
   "cell_type": "code",
   "execution_count": 70,
   "metadata": {
    "scrolled": true
   },
   "outputs": [
    {
     "name": "stdout",
     "output_type": "stream",
     "text": [
      "+ - - - - + - - - - +\n",
      "|         |         |\n",
      "|         |         |\n",
      "|         |         |\n",
      "|         |         |\n",
      "+ - - - - + - - - - +\n",
      "|         |         |\n",
      "|         |         |\n",
      "|         |         |\n",
      "|         |         |\n",
      "+ - - - - + - - - - +\n"
     ]
    }
   ],
   "source": [
    "# 3.3 \n",
    "# This exercise should be done using only the statements \n",
    "# and other features we have learned so far.\n",
    "\n",
    "# Write a function that draws a grid like the following:\n",
    "# + - - - - + - - - - +\n",
    "# |         |         |\n",
    "# |         |         |\n",
    "# |         |         |\n",
    "# |         |         |\n",
    "# + - - - - + - - - - +\n",
    "# |         |         |\n",
    "# |         |         |\n",
    "# |         |         |\n",
    "# |         |         |\n",
    "# + - - - - + - - - - +\n",
    "# Hint: to print more than one value on a line, \n",
    "# you can print a comma-separated sequence of values:\n",
    "\n",
    "#      print('+', '-')\n",
    "# By default, print advances to the next line, \n",
    "# but you can override that behavior and put a space at the end, like this:\n",
    "\n",
    "#       print('+', end=' ')\n",
    "#       print('-')\n",
    "# The output of these statements is '+ -' on the same line. \n",
    "# The output from the next print statement would begin on the next line.\n",
    "\n",
    "def plusminus():\n",
    "    A='+ - - - - '\n",
    "    AAPlus=A+A+\"+\"\n",
    "    print(AAPlus)\n",
    "\n",
    "def Pipeline():\n",
    "    B='|'+  \" \"*9\n",
    "    BBBar=B+B+'|'\n",
    "    print(BBBar)\n",
    "    \n",
    "def Hline():\n",
    "    plusminus()\n",
    "\n",
    "def VLine():\n",
    "    Pipeline()\n",
    "\n",
    "def VLine4():\n",
    "    VLine()\n",
    "    VLine()\n",
    "    VLine()\n",
    "    VLine()\n",
    "\n",
    "def Box():\n",
    "    Hline()\n",
    "    VLine4()\n",
    "    Hline()\n",
    "    VLine4()\n",
    "    Hline()\n",
    "    \n",
    "Box()"
   ]
  },
  {
   "cell_type": "code",
   "execution_count": 113,
   "metadata": {
    "scrolled": false
   },
   "outputs": [
    {
     "name": "stdout",
     "output_type": "stream",
     "text": [
      "The current time 1568232613.57 converts to 18150.0 days, 20.0 Hours, 613.57 Seconds\n"
     ]
    }
   ],
   "source": [
    "## CHAPTER 5 EXERCISES\n",
    "# 5.1\n",
    "# The time module provides a function, also named time, that returns the \n",
    "# current Greenwich Mean Time in “the epoch”, which is an arbitrary time \n",
    "# used as a reference point. On UNIX systems, the epoch is 1 January 1970.\n",
    "# Write a cell that reads the current time and converts it to a time of day \n",
    "# in hours, minutes, and seconds, plus the number of days since the epoch.\n",
    "import time\n",
    "time.time() #  Gives the epoch time in seconds as a floating point number\n",
    "time.timezone #  local (non-DST) timezone, in seconds west of UTC\n",
    "time.tzname # gives current time zone you are in\n",
    "Totsecs=time.time()\n",
    "SecsPerDay=24*60*60\n",
    "NumDays=Totsecs//SecsPerDay\n",
    "RemMins=Totsecs%SecsPerDay\n",
    "# print(NumDays, \" \", RemMins)\n",
    "NumMins=RemMins//(60*60)\n",
    "NumSecs=RemMins%(60*60)\n",
    "# print(NumDays, \" \", NumMins, \" \", round(NumSecs,2))\n",
    "print(\"The current time {0} converts to {1} days, {2} Hours, {3} Seconds\".format(round(Totsecs,2), NumDays, NumMins, round(NumSecs,2)))"
   ]
  },
  {
   "cell_type": "code",
   "execution_count": 128,
   "metadata": {
    "scrolled": true
   },
   "outputs": [
    {
     "name": "stdout",
     "output_type": "stream",
     "text": [
      "25 25 2\n",
      "No, that doesn’t work.\n"
     ]
    }
   ],
   "source": [
    "# 5.2.1\n",
    "# Fermat’s Last Theorem says that there are no positive integers \n",
    "# a, b, and c such that\n",
    "\n",
    "#              𝑎**𝑛+𝑏**𝑛=𝑐**𝑛\n",
    " \n",
    "# for any values of n greater than 2.\n",
    "\n",
    "# Write a function named check_fermat that takes four parameters: a, b, c and n\n",
    "# and checks to see if Fermat’s theorem holds. If n is greater than 2 and\n",
    "#            𝑎**𝑛+𝑏**𝑛=𝑐**𝑛\n",
    " \n",
    "# the program should print, “Holy smokes, Fermat was wrong!” \n",
    "# Otherwise the program should print, “No, that doesn’t work.”\n",
    "\n",
    "def check_fermat(a,b,c,n):\n",
    "\n",
    "    LHS=𝑎**𝑛+𝑏**𝑛\n",
    "    RHS=𝑐**𝑛\n",
    "    print(LHS, RHS,n )\n",
    "    \n",
    "    if ((n>2) and (LHS==RHS)):\n",
    "        print(\"Holy smokes, Fermat was wrong!\")\n",
    "    else:\n",
    "        print(\"No, that doesn’t work.\")\n",
    "check_fermat(3,4,5,2)"
   ]
  },
  {
   "cell_type": "code",
   "execution_count": 140,
   "metadata": {
    "scrolled": true
   },
   "outputs": [
    {
     "name": "stdout",
     "output_type": "stream",
     "text": [
      "Enter input value for 'a' : 3\n",
      "Enter input value for 'b' : 4\n",
      "Enter input value for 'c' : 5\n",
      "Enter input value for 'n' : 1\n",
      "Input Values are a=3, b=4, c=5, n=1\n",
      "LHS=7 RHS=5 n=1\n",
      "No, that doesn’t work.\n"
     ]
    }
   ],
   "source": [
    "# 5.2.2\n",
    "# Write a function that prompts the user to input values for a, b, c and n, \n",
    "# converts them to integers, and uses check_fermat to check whether they \n",
    "# violate Fermat’s theorem.\n",
    "\n",
    "def check_fermat(a,b,c,n):\n",
    "\n",
    "    LHS=𝑎**𝑛+𝑏**𝑛\n",
    "    RHS=𝑐**𝑛\n",
    "    print(\"LHS={0} RHS={1} n={2}\".format(LHS,RHS,n))\n",
    "    \n",
    "    if ((n>2) and (LHS==RHS)):\n",
    "        print(\"Holy smokes, Fermat was wrong!\")\n",
    "    else:\n",
    "        print(\"No, that doesn’t work.\")\n",
    "        \n",
    "a=input(\"Enter input value for 'a' : \")\n",
    "b=input(\"Enter input value for 'b' : \")\n",
    "c=input(\"Enter input value for 'c' : \")\n",
    "n=input(\"Enter input value for 'n' : \")\n",
    "\n",
    "a=int(a)\n",
    "b=int(b)\n",
    "c=int(c)\n",
    "n=int(n)\n",
    "\n",
    "print(\"Input Values are a={0}, b={1}, c={2}, n={3}\".format(a,b,c,n))\n",
    "\n",
    "check_fermat(a,b,c,n)"
   ]
  },
  {
   "cell_type": "code",
   "execution_count": 165,
   "metadata": {
    "scrolled": true
   },
   "outputs": [
    {
     "name": "stdout",
     "output_type": "stream",
     "text": [
      "You CAN form a triangle with sides a,b,c as 14,12,3 respectively\n",
      "largest=14\n"
     ]
    }
   ],
   "source": [
    "# 5.3.1\n",
    "# If you are given three sticks, you may or may not be able to arrange them \n",
    "# in a triangle. For example, if one of the sticks is 12 inches long and the \n",
    "# other two are one inch long, you will not be able to get the short sticks \n",
    "# to meet in the middle. For any three lengths, there is a simple test to see \n",
    "# if it is possible to form a triangle:\n",
    "\n",
    "# If any of the three lengths is greater than the sum of the other two, then \n",
    "# you cannot form a triangle. Otherwise, you can. (If the sum of two lengths \n",
    "# equals the third, they form what is called a “degenerate” triangle.)\n",
    "\n",
    "# Write a function named is_triangle that takes three integers as arguments, \n",
    "# and that prints either “Yes” or “No”, depending on whether you can or cannot \n",
    "# form a triangle from sticks with the given lengths.\n",
    "\n",
    "def is_triangle_print(x,y,z):\n",
    "    if (x > y+z):\n",
    "            print(\"You CANNOT form a trianlge with sides a,b,c as {0},{1},{2} respectively\".format(x,y,z))\n",
    "    else:\n",
    "            print(\"You CAN form a triangle with sides a,b,c as {0},{1},{2} respectively\".format(x,y,z))\n",
    "\n",
    "def is_triangle(a,b,c):\n",
    "    if(a > b and a > c):\n",
    "        largest=a\n",
    "        is_triangle_print(largest,b,c)\n",
    "    elif(b > a and b > c):\n",
    "        largest=b\n",
    "        is_triangle_print(largest,a,c)\n",
    "    else:\n",
    "        largest=c\n",
    "        is_triangle_print(largest,a,b)\n",
    "    print(\"largest={0}\".format(largest))\n",
    "\n",
    "is_triangle(12,3,14)"
   ]
  },
  {
   "cell_type": "code",
   "execution_count": 169,
   "metadata": {
    "scrolled": true
   },
   "outputs": [
    {
     "name": "stdout",
     "output_type": "stream",
     "text": [
      "Enter value of a for trianlge:14\n",
      "Enter value of b for trianlge:2\n",
      "Enter value of c for trianlge:3\n",
      "You CANNOT form a trianlge with sides a,b,c as 14,2,3 respectively\n",
      "largest=14\n"
     ]
    }
   ],
   "source": [
    "# 5.3.2\n",
    "# Write a function that prompts the user to input three stick lengths, \n",
    "# converts them to integers\n",
    "\n",
    "def is_triangle_print(x,y,z):\n",
    "    if (x > y+z):\n",
    "            print(\"You CANNOT form a trianlge with sides a,b,c as {0},{1},{2} respectively\".format(x,y,z))\n",
    "    else:\n",
    "            print(\"You CAN form a triangle with sides a,b,c as {0},{1},{2} respectively\".format(x,y,z))\n",
    "\n",
    "def is_triangle(a,b,c):\n",
    "    if(a > b and a > c):\n",
    "        largest=a\n",
    "        is_triangle_print(largest,b,c)\n",
    "    elif(b > a and b > c):\n",
    "        largest=b\n",
    "        is_triangle_print(largest,a,c)\n",
    "    else:\n",
    "        largest=c\n",
    "        is_triangle_print(largest,a,b)\n",
    "    print(\"largest={0}\".format(largest))\n",
    "\n",
    "a=input(\"Enter value of a for trianlge:\")\n",
    "b=input(\"Enter value of b for trianlge:\")\n",
    "c=input(\"Enter value of c for trianlge:\")\n",
    "\n",
    "a=int(a)\n",
    "b=int(b)\n",
    "c=int(c)\n",
    "\n",
    "is_triangle(a,b,c)"
   ]
  },
  {
   "cell_type": "code",
   "execution_count": 185,
   "metadata": {
    "scrolled": true
   },
   "outputs": [
    {
     "name": "stdout",
     "output_type": "stream",
     "text": [
      "65\n"
     ]
    }
   ],
   "source": [
    "# 5.4\n",
    "# What is the output of the following program? Draw a stack diagram that \n",
    "# shows the state of the program when it prints the result.\n",
    "\n",
    "def recurse(n, s):\n",
    "    if n == 0:\n",
    "        print(s)\n",
    "    else:\n",
    "        recurse(n-1, n+s)\n",
    "\n",
    "recurse(10, 10)\n",
    "\n",
    "# ANSWER: This program takes the number n and keeps adding n+(n-1)+(n-2) etc until n goes\n",
    "# to 0 and then it prints the sum of n+(n-1)+(n-2).....+0"
   ]
  },
  {
   "cell_type": "code",
   "execution_count": 184,
   "metadata": {
    "scrolled": false
   },
   "outputs": [
    {
     "name": "stdout",
     "output_type": "stream",
     "text": [
      "\n",
      "    The recurse function takes two variables n and s.\n",
      "    As long as n is > 0, it adds the value n to s and decrements n by 1.\n",
      "    When n equals 0, it prints s and exits.\n",
      "    \n"
     ]
    }
   ],
   "source": [
    "# 5.4.1\n",
    "# What would happen if you called this function like this: recurse(-1, 0)?\n",
    "# ANSWER: It would get a RECURSION ERROR as the number keeps counting down \n",
    "# and it will never hit 0\n",
    "\n",
    "#5.4.2\n",
    "# Write a docstring that explains everything someone would need to know in \n",
    "# order to use this function (and nothing else).\n",
    "\n",
    "def my_recurse_function():\n",
    "    \"\"\"\n",
    "    The recurse function takes two variables n and s.\n",
    "    As long as n is > 0, it adds the value n to s and decrements n by 1.\n",
    "    When n equals 0, it prints s and exits.\n",
    "    \"\"\"\n",
    "    pass\n",
    "\n",
    "print(my_recurse_function.__doc__)"
   ]
  },
  {
   "cell_type": "code",
   "execution_count": 1,
   "metadata": {
    "scrolled": false
   },
   "outputs": [],
   "source": [
    "# 5.5\n",
    "# read the following function and see if you can figure out what it does \n",
    "# (see the examples in Chapter 4). Then run it and see if you got it right.\n",
    "\n",
    "import turtle\n",
    " \n",
    "def draw(t, length, n):\n",
    "    if n == 0:\n",
    "        return\n",
    "    angle = 50\n",
    "    t.fd(length*n)\n",
    "    t.lt(angle)\n",
    "    draw(t, length, n-1)\n",
    "    t.rt(2*angle)\n",
    "    draw(t, length, n-1)\n",
    "    t.lt(angle)\n",
    "    t.bk(length*n)\n",
    "\n",
    "myrtel = turtle.Turtle()\n",
    "\n",
    "draw(myrtel, 30, 6)\n",
    "\n",
    "turtle.mainloop()\n",
    "\n",
    "# ANSWER: Draws a diagram like a fractal with fewer branches\n",
    "# Having issues with turtle, cannot draw it\n",
    "    "
   ]
  },
  {
   "cell_type": "code",
   "execution_count": null,
   "metadata": {},
   "outputs": [],
   "source": []
  }
 ],
 "metadata": {
  "kernelspec": {
   "display_name": "Python 3",
   "language": "python",
   "name": "python3"
  },
  "language_info": {
   "codemirror_mode": {
    "name": "ipython",
    "version": 3
   },
   "file_extension": ".py",
   "mimetype": "text/x-python",
   "name": "python",
   "nbconvert_exporter": "python",
   "pygments_lexer": "ipython3",
   "version": "3.7.3"
  }
 },
 "nbformat": 4,
 "nbformat_minor": 2
}
