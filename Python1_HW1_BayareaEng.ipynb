{
 "cells": [
  {
   "cell_type": "code",
   "execution_count": 35,
   "metadata": {},
   "outputs": [
    {
     "name": "stdout",
     "output_type": "stream",
     "text": [
      "cats\n"
     ]
    }
   ],
   "source": [
    "# HOMEWORK STARTS HERE #\n",
    "# HOMEWORK STARTS HERE #\n",
    "print (\"cats\")"
   ]
  },
  {
   "cell_type": "code",
   "execution_count": 36,
   "metadata": {},
   "outputs": [
    {
     "ename": "SyntaxError",
     "evalue": "Missing parentheses in call to 'print'. Did you mean print(\"cats\")? (<ipython-input-36-54f3a9d3dce1>, line 3)",
     "output_type": "error",
     "traceback": [
      "\u001b[1;36m  File \u001b[1;32m\"<ipython-input-36-54f3a9d3dce1>\"\u001b[1;36m, line \u001b[1;32m3\u001b[0m\n\u001b[1;33m    print \"cats\"\u001b[0m\n\u001b[1;37m               ^\u001b[0m\n\u001b[1;31mSyntaxError\u001b[0m\u001b[1;31m:\u001b[0m Missing parentheses in call to 'print'. Did you mean print(\"cats\")?\n"
     ]
    }
   ],
   "source": [
    "# 1.1.1\n",
    "#\n",
    "print \"cats\""
   ]
  },
  {
   "cell_type": "code",
   "execution_count": 37,
   "metadata": {},
   "outputs": [
    {
     "ename": "NameError",
     "evalue": "name 'cats' is not defined",
     "output_type": "error",
     "traceback": [
      "\u001b[1;31m---------------------------------------------------------------------------\u001b[0m",
      "\u001b[1;31mNameError\u001b[0m                                 Traceback (most recent call last)",
      "\u001b[1;32m<ipython-input-37-4176ae132dbd>\u001b[0m in \u001b[0;36m<module>\u001b[1;34m\u001b[0m\n\u001b[0;32m      2\u001b[0m \u001b[1;31m#\u001b[0m\u001b[1;33m\u001b[0m\u001b[1;33m\u001b[0m\u001b[1;33m\u001b[0m\u001b[0m\n\u001b[0;32m      3\u001b[0m \u001b[1;31m# 1.1.2\u001b[0m\u001b[1;33m\u001b[0m\u001b[1;33m\u001b[0m\u001b[1;33m\u001b[0m\u001b[0m\n\u001b[1;32m----> 4\u001b[1;33m \u001b[0mprint\u001b[0m \u001b[1;33m(\u001b[0m\u001b[0mcats\u001b[0m\u001b[1;33m)\u001b[0m\u001b[1;33m\u001b[0m\u001b[1;33m\u001b[0m\u001b[0m\n\u001b[0m",
      "\u001b[1;31mNameError\u001b[0m: name 'cats' is not defined"
     ]
    }
   ],
   "source": [
    "# Leaving parantheses is a Synatx Error\n",
    "#\n",
    "# 1.1.2\n",
    "print (cats)"
   ]
  },
  {
   "cell_type": "code",
   "execution_count": 38,
   "metadata": {},
   "outputs": [
    {
     "data": {
      "text/plain": [
       "4"
      ]
     },
     "execution_count": 38,
     "metadata": {},
     "output_type": "execute_result"
    }
   ],
   "source": [
    "#Leaving qutation gives name not defined error\n",
    "#\n",
    "# 1.1.3\n",
    "2++2"
   ]
  },
  {
   "cell_type": "code",
   "execution_count": 39,
   "metadata": {},
   "outputs": [
    {
     "data": {
      "text/plain": [
       "5"
      ]
     },
     "execution_count": 39,
     "metadata": {},
     "output_type": "execute_result"
    }
   ],
   "source": [
    "2+++++3"
   ]
  },
  {
   "cell_type": "code",
   "execution_count": 40,
   "metadata": {},
   "outputs": [
    {
     "data": {
      "text/plain": [
       "0"
      ]
     },
     "execution_count": 40,
     "metadata": {},
     "output_type": "execute_result"
    }
   ],
   "source": [
    "# Number of + does not make a difference\n",
    "2-2"
   ]
  },
  {
   "cell_type": "code",
   "execution_count": 41,
   "metadata": {},
   "outputs": [
    {
     "data": {
      "text/plain": [
       "4"
      ]
     },
     "execution_count": 41,
     "metadata": {},
     "output_type": "execute_result"
    }
   ],
   "source": [
    "2--2"
   ]
  },
  {
   "cell_type": "code",
   "execution_count": 42,
   "metadata": {},
   "outputs": [
    {
     "data": {
      "text/plain": [
       "0"
      ]
     },
     "execution_count": 42,
     "metadata": {},
     "output_type": "execute_result"
    }
   ],
   "source": [
    "2---2"
   ]
  },
  {
   "cell_type": "code",
   "execution_count": 43,
   "metadata": {},
   "outputs": [
    {
     "data": {
      "text/plain": [
       "4"
      ]
     },
     "execution_count": 43,
     "metadata": {},
     "output_type": "execute_result"
    }
   ],
   "source": [
    "2----2"
   ]
  },
  {
   "cell_type": "code",
   "execution_count": 44,
   "metadata": {},
   "outputs": [],
   "source": [
    "# Number of - signs does make a difference,\n",
    "# even number of minus signs is eqaul to +\n",
    "# odd number of minus signs is equal to a single minus"
   ]
  },
  {
   "cell_type": "code",
   "execution_count": 45,
   "metadata": {},
   "outputs": [
    {
     "data": {
      "text/plain": [
       "2"
      ]
     },
     "execution_count": 45,
     "metadata": {},
     "output_type": "execute_result"
    }
   ],
   "source": [
    "# 1.1.4\n",
    "2"
   ]
  },
  {
   "cell_type": "code",
   "execution_count": 46,
   "metadata": {},
   "outputs": [
    {
     "ename": "SyntaxError",
     "evalue": "invalid token (<ipython-input-46-0908cbeb2fbd>, line 1)",
     "output_type": "error",
     "traceback": [
      "\u001b[1;36m  File \u001b[1;32m\"<ipython-input-46-0908cbeb2fbd>\"\u001b[1;36m, line \u001b[1;32m1\u001b[0m\n\u001b[1;33m    02\u001b[0m\n\u001b[1;37m     ^\u001b[0m\n\u001b[1;31mSyntaxError\u001b[0m\u001b[1;31m:\u001b[0m invalid token\n"
     ]
    }
   ],
   "source": [
    "02"
   ]
  },
  {
   "cell_type": "code",
   "execution_count": 47,
   "metadata": {},
   "outputs": [],
   "source": [
    "# Leading 0s are not OK in Python, gives a Syntax Error"
   ]
  },
  {
   "cell_type": "code",
   "execution_count": 48,
   "metadata": {},
   "outputs": [
    {
     "ename": "SyntaxError",
     "evalue": "invalid syntax (<ipython-input-48-4390cad21ad6>, line 2)",
     "output_type": "error",
     "traceback": [
      "\u001b[1;36m  File \u001b[1;32m\"<ipython-input-48-4390cad21ad6>\"\u001b[1;36m, line \u001b[1;32m2\u001b[0m\n\u001b[1;33m    2 3\u001b[0m\n\u001b[1;37m      ^\u001b[0m\n\u001b[1;31mSyntaxError\u001b[0m\u001b[1;31m:\u001b[0m invalid syntax\n"
     ]
    }
   ],
   "source": [
    "# 1.1.5\n",
    "2 3"
   ]
  },
  {
   "cell_type": "code",
   "execution_count": 49,
   "metadata": {},
   "outputs": [
    {
     "name": "stdout",
     "output_type": "stream",
     "text": [
      "2562\n"
     ]
    }
   ],
   "source": [
    "# Values with no operator gives a syntax error\n",
    "#\n",
    "# 1.2.1 \n",
    "# How many seconds in 42 minutes and 42 seconds\n",
    "s=42*60+42\n",
    "print(s)"
   ]
  },
  {
   "cell_type": "code",
   "execution_count": 50,
   "metadata": {},
   "outputs": [
    {
     "name": "stdout",
     "output_type": "stream",
     "text": [
      "6.211180124223602\n"
     ]
    }
   ],
   "source": [
    "# THERE ARE 5262 Secs in 42 Minutes and 42 Seconds\n",
    "#\n",
    "# 1.2.2\n",
    "# How many miles in 10Km? \n",
    "# (1.61 Km = 1 mile)\n",
    "m=10/1.61\n",
    "print(m)"
   ]
  },
  {
   "cell_type": "code",
   "execution_count": 51,
   "metadata": {},
   "outputs": [
    {
     "name": "stdout",
     "output_type": "stream",
     "text": [
      "412.482\n"
     ]
    }
   ],
   "source": [
    "# There are 6.21 miles in 10Km\n",
    "#\n",
    "# 1.2.3\n",
    "# 10Km race in 42 minutes and 42 seconds\n",
    "# What is average pace (Time/mile)\n",
    "p=s/m\n",
    "print(p)"
   ]
  },
  {
   "cell_type": "code",
   "execution_count": 52,
   "metadata": {},
   "outputs": [
    {
     "name": "stdout",
     "output_type": "stream",
     "text": [
      "There are \n"
     ]
    }
   ],
   "source": [
    "Minutes = p/60\n",
    "Seconds = p%60\n",
    "print (\"There are \")"
   ]
  },
  {
   "cell_type": "code",
   "execution_count": 53,
   "metadata": {},
   "outputs": [
    {
     "name": "stdout",
     "output_type": "stream",
     "text": [
      "6 52 6.874700000000001 52.48200000000003\n"
     ]
    }
   ],
   "source": [
    "Min=int(Minutes)\n",
    "Sec=int(Seconds)\n",
    "print (Min, Sec, Minutes, Seconds)"
   ]
  },
  {
   "cell_type": "code",
   "execution_count": 54,
   "metadata": {},
   "outputs": [
    {
     "name": "stdout",
     "output_type": "stream",
     "text": [
      "The average pace (Minutes/Mile) is 6 Minutes and 52 Seconds\n"
     ]
    }
   ],
   "source": [
    "print (\"The average pace (Minutes/Mile) is {0} Minutes and {1} Seconds\".format(Min,Sec))"
   ]
  },
  {
   "cell_type": "code",
   "execution_count": 55,
   "metadata": {},
   "outputs": [],
   "source": [
    "# The average pace (Minutes/Mile) is 6 Minutes and 52 Seconds"
   ]
  },
  {
   "cell_type": "code",
   "execution_count": 56,
   "metadata": {},
   "outputs": [
    {
     "name": "stdout",
     "output_type": "stream",
     "text": [
      "n\n"
     ]
    }
   ],
   "source": [
    "# 2.1 - MAKING MORE MISTAKES\n",
    "# 2.1.1 n=42 vs 42=n\n",
    "n=42\n",
    "print (\"n\")"
   ]
  },
  {
   "cell_type": "code",
   "execution_count": 57,
   "metadata": {},
   "outputs": [
    {
     "name": "stdout",
     "output_type": "stream",
     "text": [
      "42\n"
     ]
    }
   ],
   "source": [
    "# Above prints string \"n\". Below prints value of n\n",
    "print(n);"
   ]
  },
  {
   "cell_type": "code",
   "execution_count": 58,
   "metadata": {},
   "outputs": [
    {
     "ename": "SyntaxError",
     "evalue": "can't assign to literal (<ipython-input-58-94a448c80b86>, line 1)",
     "output_type": "error",
     "traceback": [
      "\u001b[1;36m  File \u001b[1;32m\"<ipython-input-58-94a448c80b86>\"\u001b[1;36m, line \u001b[1;32m1\u001b[0m\n\u001b[1;33m    42=n\u001b[0m\n\u001b[1;37m        ^\u001b[0m\n\u001b[1;31mSyntaxError\u001b[0m\u001b[1;31m:\u001b[0m can't assign to literal\n"
     ]
    }
   ],
   "source": [
    "42=n"
   ]
  },
  {
   "cell_type": "code",
   "execution_count": 59,
   "metadata": {},
   "outputs": [
    {
     "name": "stdout",
     "output_type": "stream",
     "text": [
      "1 1\n"
     ]
    }
   ],
   "source": [
    "# Syntax error if you assign a vaiable to a number\n",
    "# 2.1.2 x=y=1\n",
    "x=y=1\n",
    "print (x, y)"
   ]
  },
  {
   "cell_type": "code",
   "execution_count": 60,
   "metadata": {},
   "outputs": [
    {
     "name": "stdout",
     "output_type": "stream",
     "text": [
      "5 5 5\n"
     ]
    }
   ],
   "source": [
    "a=b=c=5\n",
    "(print(a,b,c))"
   ]
  },
  {
   "cell_type": "code",
   "execution_count": 61,
   "metadata": {},
   "outputs": [
    {
     "name": "stdout",
     "output_type": "stream",
     "text": [
      "1 2 3\n"
     ]
    }
   ],
   "source": [
    "# 2.1.3 Semicolon OK at end of statement?\n",
    "a=1\n",
    "b=2\n",
    "c=3\n",
    "print (a,b,c);"
   ]
  },
  {
   "cell_type": "code",
   "execution_count": 62,
   "metadata": {},
   "outputs": [
    {
     "ename": "SyntaxError",
     "evalue": "invalid syntax (<ipython-input-62-d0c933c9d38e>, line 1)",
     "output_type": "error",
     "traceback": [
      "\u001b[1;36m  File \u001b[1;32m\"<ipython-input-62-d0c933c9d38e>\"\u001b[1;36m, line \u001b[1;32m1\u001b[0m\n\u001b[1;33m    print (a,b,c);;\u001b[0m\n\u001b[1;37m                  ^\u001b[0m\n\u001b[1;31mSyntaxError\u001b[0m\u001b[1;31m:\u001b[0m invalid syntax\n"
     ]
    }
   ],
   "source": [
    "print (a,b,c);;"
   ]
  },
  {
   "cell_type": "code",
   "execution_count": 63,
   "metadata": {},
   "outputs": [
    {
     "ename": "SyntaxError",
     "evalue": "invalid syntax (<ipython-input-63-0a4d8f745854>, line 3)",
     "output_type": "error",
     "traceback": [
      "\u001b[1;36m  File \u001b[1;32m\"<ipython-input-63-0a4d8f745854>\"\u001b[1;36m, line \u001b[1;32m3\u001b[0m\n\u001b[1;33m    print (a,b,c).\u001b[0m\n\u001b[1;37m                  ^\u001b[0m\n\u001b[1;31mSyntaxError\u001b[0m\u001b[1;31m:\u001b[0m invalid syntax\n"
     ]
    }
   ],
   "source": [
    "# One semicolon is OK, but more than one is not OK\n",
    "# 2.1.4 - Is period OK at end of statement?\n",
    "print (a,b,c).\n"
   ]
  },
  {
   "cell_type": "code",
   "execution_count": 64,
   "metadata": {},
   "outputs": [
    {
     "name": "stdout",
     "output_type": "stream",
     "text": [
      "6 x*y x*y\n"
     ]
    }
   ],
   "source": [
    "# Period is not OK at end of statement\n",
    "# 2.1.5 - Can you multiply variables without an operator like xy?\n",
    "x=2\n",
    "y=3\n",
    "a=x*y\n",
    "b='x*y'\n",
    "c=\"x*y\"\n",
    "print (a,b,c)"
   ]
  },
  {
   "cell_type": "code",
   "execution_count": 65,
   "metadata": {},
   "outputs": [
    {
     "ename": "NameError",
     "evalue": "name 'xy' is not defined",
     "output_type": "error",
     "traceback": [
      "\u001b[1;31m---------------------------------------------------------------------------\u001b[0m",
      "\u001b[1;31mNameError\u001b[0m                                 Traceback (most recent call last)",
      "\u001b[1;32m<ipython-input-65-2b725cca08c1>\u001b[0m in \u001b[0;36m<module>\u001b[1;34m\u001b[0m\n\u001b[1;32m----> 1\u001b[1;33m \u001b[0md\u001b[0m\u001b[1;33m=\u001b[0m\u001b[0mxy\u001b[0m\u001b[1;33m\u001b[0m\u001b[1;33m\u001b[0m\u001b[0m\n\u001b[0m",
      "\u001b[1;31mNameError\u001b[0m: name 'xy' is not defined"
     ]
    }
   ],
   "source": [
    "d=xy"
   ]
  },
  {
   "cell_type": "code",
   "execution_count": 66,
   "metadata": {},
   "outputs": [
    {
     "name": "stdout",
     "output_type": "stream",
     "text": [
      "Volume of sphere with radius 5 is 523.5987755982989\n"
     ]
    }
   ],
   "source": [
    "# No you cannot multiply two variables without an operator\n",
    "# 2.2.1 Volume of a Sphere; Radius, r=5\n",
    "import math\n",
    "r=5\n",
    "pi=math.pi\n",
    "V=(4/3)*pi*(r**3)\n",
    "print (\"Volume of sphere with radius {0} is {1}\".format(r,V))"
   ]
  },
  {
   "cell_type": "code",
   "execution_count": 67,
   "metadata": {},
   "outputs": [
    {
     "data": {
      "text/plain": [
       "524"
      ]
     },
     "execution_count": 67,
     "metadata": {},
     "output_type": "execute_result"
    }
   ],
   "source": [
    "# Below commands rounds value of Volume or \n",
    "round(V)"
   ]
  },
  {
   "cell_type": "code",
   "execution_count": 68,
   "metadata": {},
   "outputs": [
    {
     "data": {
      "text/plain": [
       "523.5987755982989"
      ]
     },
     "execution_count": 68,
     "metadata": {},
     "output_type": "execute_result"
    }
   ],
   "source": [
    "abs(V)"
   ]
  },
  {
   "cell_type": "code",
   "execution_count": 69,
   "metadata": {},
   "outputs": [
    {
     "data": {
      "text/plain": [
       "523.6"
      ]
     },
     "execution_count": 69,
     "metadata": {},
     "output_type": "execute_result"
    }
   ],
   "source": [
    "round(V,1)"
   ]
  },
  {
   "cell_type": "code",
   "execution_count": 70,
   "metadata": {},
   "outputs": [
    {
     "data": {
      "text/plain": [
       "523.6"
      ]
     },
     "execution_count": 70,
     "metadata": {},
     "output_type": "execute_result"
    }
   ],
   "source": [
    "round(V,2)"
   ]
  },
  {
   "cell_type": "code",
   "execution_count": 71,
   "metadata": {},
   "outputs": [
    {
     "data": {
      "text/plain": [
       "523.599"
      ]
     },
     "execution_count": 71,
     "metadata": {},
     "output_type": "execute_result"
    }
   ],
   "source": [
    "round(V,3)"
   ]
  },
  {
   "cell_type": "code",
   "execution_count": 72,
   "metadata": {},
   "outputs": [
    {
     "data": {
      "text/plain": [
       "523.5987755982989"
      ]
     },
     "execution_count": 72,
     "metadata": {},
     "output_type": "execute_result"
    }
   ],
   "source": [
    "V"
   ]
  },
  {
   "cell_type": "code",
   "execution_count": 73,
   "metadata": {},
   "outputs": [
    {
     "name": "stdout",
     "output_type": "stream",
     "text": [
      "Volume of a sphere with radius 5 is 523.6\n"
     ]
    }
   ],
   "source": [
    "print (\"Volume of a sphere with radius {0} is {1}\".format(r,round(V,2)))"
   ]
  },
  {
   "cell_type": "code",
   "execution_count": 74,
   "metadata": {},
   "outputs": [
    {
     "name": "stdout",
     "output_type": "stream",
     "text": [
      "Total Wholesale cost of 60 books is $945.45\n"
     ]
    }
   ],
   "source": [
    "# 2.2.2\n",
    "# Cover price of book is $24.95;\n",
    "# Bookstore discount = 40% => 0.6*24.95\n",
    "# Shipping cost for first book = $3; $0.75 for each additional\n",
    "# What is Wholesale price of 60 books\n",
    "p=24.95\n",
    "d=0.4\n",
    "s1=3\n",
    "sx=0.75\n",
    "N=60\n",
    "CoverPrice60Books=N*p\n",
    "DiscPrice60Books=(1-d)*N*p\n",
    "ShippingPrice60Books=s1+(N-1)*sx\n",
    "W=ShippingPrice60Books+DiscPrice60Books\n",
    "print(\"Total Wholesale cost of {0} books is ${1}\".format (N,round(W,2)))\n"
   ]
  },
  {
   "cell_type": "code",
   "execution_count": 75,
   "metadata": {},
   "outputs": [
    {
     "name": "stdout",
     "output_type": "stream",
     "text": [
      "Total Wholesale cost of 60 books is $945.45\n"
     ]
    }
   ],
   "source": [
    "# Or you can do the below\n",
    "Wsimple=(1-d)*N*p+s1+(N-1)*sx\n",
    "print(\"Total Wholesale cost of {0} books is ${1}\".format (N,round(Wsimple,2)))"
   ]
  },
  {
   "cell_type": "code",
   "execution_count": 76,
   "metadata": {},
   "outputs": [
    {
     "name": "stdout",
     "output_type": "stream",
     "text": [
      "The time is: Sun Sep  1 10:48:34 2019\n"
     ]
    }
   ],
   "source": [
    "# 2.2.3\n",
    "# Leave house at 06:52 AM; Run 1 mile at 8:15/mile; Next 3 at 7:12/mile; Next at 8:15/mile\n",
    "# What is Breakfast time?\n",
    "import time\n",
    "print (\"The time is:\", time.ctime())"
   ]
  },
  {
   "cell_type": "code",
   "execution_count": 77,
   "metadata": {},
   "outputs": [
    {
     "name": "stdout",
     "output_type": "stream",
     "text": [
      "06:52\n"
     ]
    }
   ],
   "source": [
    "time=\"06:52\"\n",
    "print(time)"
   ]
  },
  {
   "cell_type": "code",
   "execution_count": 78,
   "metadata": {},
   "outputs": [
    {
     "name": "stdout",
     "output_type": "stream",
     "text": [
      "06:52:00\n",
      "2286 38.1 38 6 90 1 7 30\n",
      "Breakfast time is at 7:30:6\n"
     ]
    }
   ],
   "source": [
    "time=\"06:52:00\"\n",
    "print(time)\n",
    "TotalTimeElapsedInSeconds=8*60+15+3*7*60+3*12+8*60+15\n",
    "TotalMinsElapsed=TotalTimeElapsedInSeconds/60\n",
    "TM=int(TotalMinsElapsed)\n",
    "RemainingSeconds=TotalTimeElapsedInSeconds%60\n",
    "TotalMinutes=52+TM\n",
    "DelHours=int(TotalMinutes/60)\n",
    "TotHours=6+1\n",
    "DelMins=int(TotalMinutes-60)\n",
    "print(TotalTimeElapsedInSeconds, TotalMinsElapsed, TM, RemainingSeconds, TotalMinutes, DelHours, TotHours, DelMins)\n",
    "print (\"Breakfast time is at {0}:{1}:{2}\".format(TotHours,DelMins,RemainingSeconds))"
   ]
  },
  {
   "cell_type": "code",
   "execution_count": 1,
   "metadata": {},
   "outputs": [
    {
     "data": {
      "text/plain": [
       "90.1"
      ]
     },
     "execution_count": 1,
     "metadata": {},
     "output_type": "execute_result"
    }
   ],
   "source": [
    "# Hai's solution\n",
    "# Time for the first 1 mile (in seconds)\n",
    "t1 = 8 * 60 + 15\n",
    "\n",
    "# Time for next 3 miles (in seconds)\n",
    "t2 = 3 * (7 * 60 + 12)\n",
    "\n",
    "# Time for last 1 mile (in seconds)\n",
    "t3 = t1\n",
    "\n",
    "total_time = t1 + t2 + t3\n",
    "\n",
    "# Time to get home\n",
    "52 + total_time/60"
   ]
  },
  {
   "cell_type": "code",
   "execution_count": 79,
   "metadata": {},
   "outputs": [
    {
     "name": "stdout",
     "output_type": "stream",
     "text": [
      "Please Enter Your Name : Pita\n",
      "Please Enter Your Current Age : 15\n",
      "Pita, you were 5 years old 10 years ago\n"
     ]
    }
   ],
   "source": [
    "# 2.3\n",
    "# Import name and age of a user and print their age 10 years ago\n",
    "Name=input(\"Please Enter Your Name : \")\n",
    "CurAge=input(\"Please Enter Your Current Age : \")\n",
    "\n",
    "CurrentAge=int(CurAge)\n",
    "\n",
    "Age10YrsBack=CurrentAge-10\n",
    "\n",
    "if Age10YrsBack > 0:\n",
    "    print(\"{0}, you were {1} years old 10 years ago\".format(Name, Age10YrsBack))\n",
    "\n",
    "if Age10YrsBack < 0:\n",
    "    print(\"{0}, you were not born yet! You were {1} years from being born 10 years ago\".format(Name, abs(Age10YrsBack)))\n",
    "\n",
    "if Age10YrsBack==0:\n",
    "    print(\"{0}, hey you were born 10 years ago!\".format(Name))\n"
   ]
  },
  {
   "cell_type": "code",
   "execution_count": null,
   "metadata": {},
   "outputs": [],
   "source": []
  }
 ],
 "metadata": {
  "kernelspec": {
   "display_name": "Python 3",
   "language": "python",
   "name": "python3"
  },
  "language_info": {
   "codemirror_mode": {
    "name": "ipython",
    "version": 3
   },
   "file_extension": ".py",
   "mimetype": "text/x-python",
   "name": "python",
   "nbconvert_exporter": "python",
   "pygments_lexer": "ipython3",
   "version": "3.7.3"
  }
 },
 "nbformat": 4,
 "nbformat_minor": 2
}
